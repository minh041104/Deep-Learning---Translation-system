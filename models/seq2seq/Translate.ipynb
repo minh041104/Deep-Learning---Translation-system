{
 "cells": [
  {
   "cell_type": "code",
   "execution_count": null,
   "metadata": {
    "executionInfo": {
     "elapsed": 23722,
     "status": "ok",
     "timestamp": 1733825211726,
     "user": {
      "displayName": "Kiệt Ngô",
      "userId": "05988892078397498920"
     },
     "user_tz": -420
    },
    "id": "pWO4Ok6X-nG-"
   },
   "outputs": [],
   "source": [
    "from utils.preprocessor import *\n",
    "import contractions\n",
    "import spacy\n",
    "from utils.model import Encoder, DecoderAttn\n",
    "from utils.train import training\n",
    "from utils.evaluate import evaluateRandom, translate_sentence, calcBLEU\n",
    "import torch\n",
    "import torch.nn as nn\n",
    "from torch import optim"
   ]
  },
  {
   "cell_type": "code",
   "execution_count": 20,
   "metadata": {
    "colab": {
     "base_uri": "https://localhost:8080/"
    },
    "executionInfo": {
     "elapsed": 25,
     "status": "ok",
     "timestamp": 1733825211728,
     "user": {
      "displayName": "Kiệt Ngô",
      "userId": "05988892078397498920"
     },
     "user_tz": -420
    },
    "id": "OviXf2m1-oUM",
    "outputId": "bd8534ac-b844-4ca6-e561-231eaeb0cd46"
   },
   "outputs": [
    {
     "name": "stdout",
     "output_type": "stream",
     "text": [
      "cpu\n"
     ]
    }
   ],
   "source": [
    "device = torch.device(\"cuda\" if torch.cuda.is_available() else \"cpu\")\n",
    "print(device)"
   ]
  },
  {
   "cell_type": "code",
   "execution_count": 21,
   "metadata": {
    "colab": {
     "base_uri": "https://localhost:8080/"
    },
    "executionInfo": {
     "elapsed": 2694,
     "status": "ok",
     "timestamp": 1733825260186,
     "user": {
      "displayName": "Kiệt Ngô",
      "userId": "05988892078397498920"
     },
     "user_tz": -420
    },
    "id": "BpbYGD-W-qYG",
    "outputId": "387e0949-9e07-4c43-e762-135e44666ebd"
   },
   "outputs": [
    {
     "name": "stdout",
     "output_type": "stream",
     "text": [
      "Dataset({\n",
      "    features: ['en', 'vi'],\n",
      "    num_rows: 29000\n",
      "}) Dataset({\n",
      "    features: ['en', 'vi'],\n",
      "    num_rows: 1014\n",
      "}) Dataset({\n",
      "    features: ['en', 'vi'],\n",
      "    num_rows: 1000\n",
      "})\n"
     ]
    }
   ],
   "source": [
    "root_path = \"../../data/OurDataEn-Vi\"\n",
    "train_data, test_data, val_data = get_dataset(\"train.txt\", root_path=root_path),\\\n",
    "                            get_dataset(\"test.txt\", root_path=root_path),\\\n",
    "                            get_dataset(\"validation.txt\", root_path)\n",
    "print(train_data, val_data, test_data)"
   ]
  },
  {
   "cell_type": "markdown",
   "metadata": {
    "id": "w06yEjYfNeaj"
   },
   "source": [
    "#**Tiền xử lý**#"
   ]
  },
  {
   "cell_type": "code",
   "execution_count": 22,
   "metadata": {
    "executionInfo": {
     "elapsed": 989,
     "status": "ok",
     "timestamp": 1733825264992,
     "user": {
      "displayName": "Kiệt Ngô",
      "userId": "05988892078397498920"
     },
     "user_tz": -420
    },
    "id": "vs_isANf-vsD"
   },
   "outputs": [],
   "source": [
    "lst_check = \"‘’“”…—\"\n",
    "for char in lst_check:\n",
    "    for x in train_data['vi']:\n",
    "        a = x.count(char)\n",
    "        if a > 0 and a % 2 == 0:\n",
    "            print(x)\n",
    "    for x in train_data['en']:\n",
    "        a = x.count(char)\n",
    "        if a > 0 and a % 2 == 0:\n",
    "            print(x)"
   ]
  },
  {
   "cell_type": "code",
   "execution_count": 23,
   "metadata": {
    "colab": {
     "base_uri": "https://localhost:8080/",
     "height": 113,
     "referenced_widgets": [
      "697193b4609d460d8f88938d026d6d88",
      "91882e886fce4510964b37a858f6d667",
      "8e9684b6a61f4e1ea56a2d48dae89f08",
      "3452a4d56f2c4212af0347108ae3121b",
      "89dd8ed980be49b5b01245d9bb121c1a",
      "9b162c1da0794b408c674da665eb01d8",
      "01e40a73fe124df6a0db91d5b7b3598a",
      "9d94520365a74f8ba2c78fd804ba6ccc",
      "995a070e0db444a59bd5390e8251ac1b",
      "124a97848edc4a8ca972330055a4cd87",
      "019383a4e21543019a656514d88001ea",
      "548abf8ee8324e18b9667fd4d807947f",
      "de0b193dcef84d05a8904cffc2295c9b",
      "2f7c2789b85f498b814eeded03d3fc03",
      "00cf5115d05e48c5960e3760ab4ab7a9",
      "6af7e424434e475eb6ff9f471726015b",
      "8f654dbc3c2146438483faf954e77d2a",
      "bf71642b73b64da18ba0df4b30ed91d9",
      "6b8ac74774294a2f96b07f5378669e69",
      "30692d0d582d457988a21b108e760619",
      "e0798454d2a945af8f56fa82d458a7ef",
      "54445f80a03548b8947cdb6cf3362316",
      "bd0f5a4daf094b4eb2b89c3b4ae44744",
      "a8d466266bfb4e9f87b4188cb3ee8387",
      "0d78be632a10498fa085c418d4eb8d42",
      "1766f2fd7997424faed2cc3aa52bea85",
      "3d21c0e1bc104c279a6ee5a0e49774b5",
      "66ea2dc18beb4385a463a26edaf5d745",
      "65089e1b850445ef9ba3d26a8d9fade0",
      "3a0b387b06ed4f54b7b752fb6364548e",
      "fbbcf156990840f3940270d5fdcf68a4",
      "bcacebc7a43648fc90db8da7a69e0a45",
      "d057bb7faff04441be59a7e4cc6fe97e"
     ]
    },
    "executionInfo": {
     "elapsed": 2760,
     "status": "ok",
     "timestamp": 1733825269863,
     "user": {
      "displayName": "Kiệt Ngô",
      "userId": "05988892078397498920"
     },
     "user_tz": -420
    },
    "id": "2uFo3G7q-xMc",
    "outputId": "ca6155b0-6a03-4a5e-8d9e-1b73d131dad1"
   },
   "outputs": [
    {
     "name": "stderr",
     "output_type": "stream",
     "text": [
      "Map: 100%|██████████| 29000/29000 [00:02<00:00, 14287.00 examples/s]\n",
      "Map: 100%|██████████| 1000/1000 [00:00<00:00, 12299.11 examples/s]\n",
      "Map: 100%|██████████| 1014/1014 [00:00<00:00, 9856.23 examples/s]\n"
     ]
    }
   ],
   "source": [
    "def update_contractions(text):\n",
    "    # slang = False !\n",
    "    return contractions.fix(text, slang=False)\n",
    "def remove_char_quotes(text):\n",
    "    rs = text\n",
    "    cnt1, cnt2 = text.count('\"'), text.count(\"'\")\n",
    "    if cnt1 > 0 and cnt1 % 2 == 0:\n",
    "        rs = text.replace('\"','')\n",
    "    if cnt2 > 0 and cnt2 % 2 == 0:\n",
    "        rs = text.replace(\"'\", '')\n",
    "    return rs\n",
    "def processing(texts):\n",
    "    texts['en'], texts['vi'] = [remove_char_quotes(update_contractions(t)).lower().strip() for t in [texts['en'], texts['vi']]]\n",
    "    return texts\n",
    "train_data = train_data.map(processing)\n",
    "test_data = test_data.map(processing)\n",
    "val_data = val_data.map(processing)"
   ]
  },
  {
   "cell_type": "code",
   "execution_count": 15,
   "metadata": {
    "colab": {
     "base_uri": "https://localhost:8080/"
    },
    "executionInfo": {
     "elapsed": 500,
     "status": "ok",
     "timestamp": 1733825272860,
     "user": {
      "displayName": "Kiệt Ngô",
      "userId": "05988892078397498920"
     },
     "user_tz": -420
    },
    "id": "4P5HTbSH-yF8",
    "outputId": "b08a35b0-e648-42ef-c9fc-c5a2bc2f15b4"
   },
   "outputs": [
    {
     "data": {
      "text/plain": [
       "{'en': 'two young, white males are outside near many bushes.',\n",
       " 'vi': 'hai thanh niên da trắng ở bên ngoài gần nhiều bụi cây.'}"
      ]
     },
     "execution_count": 15,
     "metadata": {},
     "output_type": "execute_result"
    }
   ],
   "source": [
    "train_data[0]"
   ]
  },
  {
   "cell_type": "code",
   "execution_count": 24,
   "metadata": {
    "executionInfo": {
     "elapsed": 998,
     "status": "ok",
     "timestamp": 1733825276694,
     "user": {
      "displayName": "Kiệt Ngô",
      "userId": "05988892078397498920"
     },
     "user_tz": -420
    },
    "id": "DT9FP2Vb-y7P"
   },
   "outputs": [],
   "source": [
    "sos_token = 0\n",
    "eos_token = 1\n",
    "unk_token = 2\n",
    "max_length = 25"
   ]
  },
  {
   "cell_type": "code",
   "execution_count": 26,
   "metadata": {
    "executionInfo": {
     "elapsed": 492,
     "status": "ok",
     "timestamp": 1733825280119,
     "user": {
      "displayName": "Kiệt Ngô",
      "userId": "05988892078397498920"
     },
     "user_tz": -420
    },
    "id": "hz-YTjsy-z35"
   },
   "outputs": [],
   "source": [
    "en_nlp = spacy.blank(\"en\")\n",
    "vi_nlp = spacy.blank('vi')"
   ]
  },
  {
   "cell_type": "code",
   "execution_count": 30,
   "metadata": {
    "colab": {
     "base_uri": "https://localhost:8080/",
     "height": 113,
     "referenced_widgets": [
      "426610de27384ccb8172b292b94e1255",
      "4882be5baf884e3eb779c0e249526a5a",
      "255ca25a15244719a83f31dd78acdb45",
      "b3f47dcacaaf491bb7c0867f5197d16f",
      "e81a5925b99947929835068151633afc",
      "0360a240b2a94d1cb1e65ae2c7aa7480",
      "3b7d3c1722344a90b4754ed92003afc9",
      "22ecb9680d5e463a8e5b6c5fc77abf01",
      "cc9b3b7746cd4bcf8d2c89df4260a43f",
      "aafb6cc3080443f2b24a490a4cd10239",
      "53a56c052ebf46ddbdfb8dfc66b68cbf",
      "d53014da414c4104ab39863e52e571da",
      "e2d16d8f9c0243899ceee0fc676e2622",
      "2850e382d1ca4c539d2c93232e8dea12",
      "fa9fbd69bc9142fbb495e7a0f81d87e5",
      "61471f4ea00d432085d3619c8d0b2dd8",
      "1f797fd4f47e4ab0b3fd6650d4ae2781",
      "b173ad491fd5451db92ad6f3b272924a",
      "afa8006647d74b3db12e43297cb88b06",
      "cdb0284dc53247cab26880f1335c9e67",
      "840cba3dc0ec4697a5d7a6c99a8bdb4c",
      "49667ada146f45b7b433a4da275cb448",
      "d68a1cd2131748d8bfce02e3317df151",
      "4d7cbd0017cd4b2ba20971165c7208f0",
      "0e624910656841e288fe6947b736e399",
      "1dfc0b1587554422b4f6d809dc525694",
      "684c5265880d47fe89fe2f059b6e9b4c",
      "79ffc0a2c785431eb0b8422f00cd090f",
      "2bdd28fd8d584eabab93f9c202deee31",
      "0008bcd1b4c548938d1368e2e1fd69d1",
      "e85d9832db93406d95e7d49aa217588a",
      "94f4567131b448f1a411b9cfb74ab961",
      "a3a3f3ecb99f43c0a4f665b2dafb0946"
     ]
    },
    "executionInfo": {
     "elapsed": 15226,
     "status": "ok",
     "timestamp": 1733825297570,
     "user": {
      "displayName": "Kiệt Ngô",
      "userId": "05988892078397498920"
     },
     "user_tz": -420
    },
    "id": "vRRkOLkP-1It",
    "outputId": "efbe254f-57cf-4391-bf9c-c87d5610b094"
   },
   "outputs": [
    {
     "name": "stderr",
     "output_type": "stream",
     "text": [
      "Filter: 100%|██████████| 29000/29000 [00:13<00:00, 2181.40 examples/s]\n",
      "Filter: 100%|██████████| 1014/1014 [00:00<00:00, 2082.54 examples/s]\n",
      "Filter: 100%|██████████| 1000/1000 [00:00<00:00, 2405.60 examples/s]\n"
     ]
    }
   ],
   "source": [
    "def filter_data(texts):\n",
    "    return len(en_nlp.tokenizer(texts['en'])) <= max_length and len(vi_nlp.tokenizer(texts['vi'])) <= max_length\n",
    "train_data = train_data.filter(filter_data)\n",
    "val_data = val_data.filter(filter_data)\n",
    "test_data = test_data.filter(filter_data)"
   ]
  },
  {
   "cell_type": "code",
   "execution_count": 31,
   "metadata": {
    "colab": {
     "base_uri": "https://localhost:8080/"
    },
    "executionInfo": {
     "elapsed": 1036,
     "status": "ok",
     "timestamp": 1733825335986,
     "user": {
      "displayName": "Kiệt Ngô",
      "userId": "05988892078397498920"
     },
     "user_tz": -420
    },
    "id": "j98i1vKI-2fB",
    "outputId": "1699d9aa-4c2a-4b82-b461-2e7dd8bb9b25"
   },
   "outputs": [
    {
     "data": {
      "text/plain": [
       "(Dataset({\n",
       "     features: ['en', 'vi'],\n",
       "     num_rows: 28181\n",
       " }),\n",
       " Dataset({\n",
       "     features: ['en', 'vi'],\n",
       "     num_rows: 963\n",
       " }),\n",
       " Dataset({\n",
       "     features: ['en', 'vi'],\n",
       "     num_rows: 984\n",
       " }))"
      ]
     },
     "execution_count": 31,
     "metadata": {},
     "output_type": "execute_result"
    }
   ],
   "source": [
    "train_data, test_data, val_data"
   ]
  },
  {
   "cell_type": "code",
   "execution_count": 32,
   "metadata": {
    "executionInfo": {
     "elapsed": 10475,
     "status": "ok",
     "timestamp": 1733825350145,
     "user": {
      "displayName": "Kiệt Ngô",
      "userId": "05988892078397498920"
     },
     "user_tz": -420
    },
    "id": "t2Lct01Y-3nC"
   },
   "outputs": [],
   "source": [
    "en_vocab = Vocabulary('en', train_data['en'], en_nlp)\n",
    "vi_vocab = Vocabulary('vi', train_data['vi'], vi_nlp)"
   ]
  },
  {
   "cell_type": "code",
   "execution_count": 33,
   "metadata": {
    "colab": {
     "base_uri": "https://localhost:8080/"
    },
    "executionInfo": {
     "elapsed": 530,
     "status": "ok",
     "timestamp": 1733825356833,
     "user": {
      "displayName": "Kiệt Ngô",
      "userId": "05988892078397498920"
     },
     "user_tz": -420
    },
    "id": "BbT2-2CY-4jU",
    "outputId": "92e4130b-dba4-45df-c604-dc2fb5e8e4a9"
   },
   "outputs": [
    {
     "data": {
      "text/plain": [
       "2"
      ]
     },
     "execution_count": 33,
     "metadata": {},
     "output_type": "execute_result"
    }
   ],
   "source": [
    "en_vocab.get_index(\"meomeo\")"
   ]
  },
  {
   "cell_type": "code",
   "execution_count": 34,
   "metadata": {
    "colab": {
     "base_uri": "https://localhost:8080/"
    },
    "executionInfo": {
     "elapsed": 732,
     "status": "ok",
     "timestamp": 1733825360858,
     "user": {
      "displayName": "Kiệt Ngô",
      "userId": "05988892078397498920"
     },
     "user_tz": -420
    },
    "id": "zI6OKncS-5WF",
    "outputId": "bdddd804-7d84-4c21-8c93-c05b1ad0f7da"
   },
   "outputs": [
    {
     "data": {
      "text/plain": [
       "[8572, 2]"
      ]
     },
     "execution_count": 34,
     "metadata": {},
     "output_type": "execute_result"
    }
   ],
   "source": [
    "indexesFromSentence(en_vocab, \"today meomeo\", en_nlp)"
   ]
  },
  {
   "cell_type": "markdown",
   "metadata": {
    "id": "AO6FxlEkNuxZ"
   },
   "source": [
    "#**Tham số mô hình**#"
   ]
  },
  {
   "cell_type": "code",
   "execution_count": 35,
   "metadata": {
    "executionInfo": {
     "elapsed": 510,
     "status": "ok",
     "timestamp": 1733825364230,
     "user": {
      "displayName": "Kiệt Ngô",
      "userId": "05988892078397498920"
     },
     "user_tz": -420
    },
    "id": "7jfgzz8B-59o"
   },
   "outputs": [],
   "source": [
    "hidden_size = 256\n",
    "batch_size = 128\n",
    "num_layers = 1\n",
    "dropout = 0.2\n",
    "learning_rate = 0.001\n",
    "num_epochs = 369"
   ]
  },
  {
   "cell_type": "code",
   "execution_count": 36,
   "metadata": {
    "executionInfo": {
     "elapsed": 18072,
     "status": "ok",
     "timestamp": 1733825478382,
     "user": {
      "displayName": "Kiệt Ngô",
      "userId": "05988892078397498920"
     },
     "user_tz": -420
    },
    "id": "87Xqrr8N-62G"
   },
   "outputs": [],
   "source": [
    "train_loader = get_dataloader(train_data, en_vocab, vi_vocab, \\\n",
    "                                    en_nlp, vi_nlp, device, batch_size,\\\n",
    "                                    max_length, 0, 1)"
   ]
  },
  {
   "cell_type": "code",
   "execution_count": 25,
   "metadata": {
    "executionInfo": {
     "elapsed": 4247,
     "status": "ok",
     "timestamp": 1733825485125,
     "user": {
      "displayName": "Kiệt Ngô",
      "userId": "05988892078397498920"
     },
     "user_tz": -420
    },
    "id": "wBMBrHMc-7oM"
   },
   "outputs": [],
   "source": [
    "encoder = Encoder(en_vocab.n_words, hidden_size, num_layers, dropout).to(device)\n",
    "decoder = DecoderAttn(hidden_size, vi_vocab.n_words, device, max_length, 0, 1,2, num_layers, dropout).to(device)\n",
    "\n",
    "encoder_opt = optim.Adam(encoder.parameters(), lr=learning_rate)\n",
    "decoder_opt = optim.Adam(decoder.parameters(), lr=learning_rate)\n",
    "\n",
    "criterion = nn.CrossEntropyLoss(ignore_index = 1) # ignore eos_token"
   ]
  },
  {
   "cell_type": "code",
   "execution_count": null,
   "metadata": {
    "colab": {
     "base_uri": "https://localhost:8080/"
    },
    "executionInfo": {
     "elapsed": 613877,
     "status": "ok",
     "timestamp": 1733831826991,
     "user": {
      "displayName": "Kiệt Ngô",
      "userId": "05988892078397498920"
     },
     "user_tz": -420
    },
    "id": "l_GlpibB-8by",
    "outputId": "025ddf6e-baef-4d1f-ebc0-aa2a81f007df"
   },
   "outputs": [
    {
     "name": "stdout",
     "output_type": "stream",
     "text": [
      "(5 1%) Time: 1m 13s (- 89m 40s) Avg.Loss: 1.84275\n",
      "(10 2%) Time: 2m 25s (- 86m 56s) Avg.Loss: 0.88780\n",
      "(15 4%) Time: 3m 36s (- 85m 15s) Avg.Loss: 0.57350\n",
      "(20 5%) Time: 4m 47s (- 83m 43s) Avg.Loss: 0.40812\n",
      "(25 6%) Time: 5m 59s (- 82m 33s) Avg.Loss: 0.30847\n",
      "(30 8%) Time: 7m 12s (- 81m 27s) Avg.Loss: 0.24177\n",
      "(35 9%) Time: 8m 24s (- 80m 13s) Avg.Loss: 0.19711\n",
      "(40 10%) Time: 9m 36s (- 78m 57s) Avg.Loss: 0.16224\n",
      "(45 12%) Time: 10m 47s (- 77m 40s) Avg.Loss: 0.13852\n",
      "(50 13%) Time: 11m 59s (- 76m 32s) Avg.Loss: 0.11638\n",
      "(55 14%) Time: 13m 11s (- 75m 19s) Avg.Loss: 0.10129\n",
      "(60 16%) Time: 14m 23s (- 74m 8s) Avg.Loss: 0.08991\n",
      "(65 17%) Time: 15m 35s (- 72m 53s) Avg.Loss: 0.07933\n",
      "(70 18%) Time: 16m 47s (- 71m 43s) Avg.Loss: 0.07243\n",
      "(75 20%) Time: 18m 0s (- 70m 33s) Avg.Loss: 0.06444\n",
      "(80 21%) Time: 19m 11s (- 69m 20s) Avg.Loss: 0.05964\n",
      "(85 23%) Time: 20m 23s (- 68m 6s) Avg.Loss: 0.05491\n",
      "(90 24%) Time: 21m 34s (- 66m 54s) Avg.Loss: 0.05123\n",
      "(95 25%) Time: 22m 51s (- 65m 56s) Avg.Loss: 0.04746\n",
      "(100 27%) Time: 24m 4s (- 64m 44s) Avg.Loss: 0.04657\n",
      "(105 28%) Time: 25m 15s (- 63m 30s) Avg.Loss: 0.04126\n",
      "(110 29%) Time: 26m 33s (- 62m 32s) Avg.Loss: 0.03912\n",
      "(115 31%) Time: 27m 51s (- 61m 30s) Avg.Loss: 0.03819\n",
      "(120 32%) Time: 29m 8s (- 60m 27s) Avg.Loss: 0.03647\n",
      "(125 33%) Time: 30m 21s (- 59m 15s) Avg.Loss: 0.03475\n",
      "(130 35%) Time: 31m 33s (- 58m 1s) Avg.Loss: 0.03329\n",
      "(135 36%) Time: 32m 45s (- 56m 47s) Avg.Loss: 0.03086\n",
      "(140 37%) Time: 33m 59s (- 55m 35s) Avg.Loss: 0.03004\n",
      "(145 39%) Time: 35m 12s (- 54m 22s) Avg.Loss: 0.02968\n",
      "(150 40%) Time: 36m 24s (- 53m 9s) Avg.Loss: 0.02963\n",
      "(155 42%) Time: 37m 37s (- 51m 56s) Avg.Loss: 0.02692\n",
      "(160 43%) Time: 38m 51s (- 50m 44s) Avg.Loss: 0.02599\n",
      "(165 44%) Time: 40m 3s (- 49m 31s) Avg.Loss: 0.02701\n",
      "(170 46%) Time: 41m 15s (- 48m 17s) Avg.Loss: 0.02521\n",
      "(175 47%) Time: 42m 26s (- 47m 3s) Avg.Loss: 0.02526\n",
      "(180 48%) Time: 43m 38s (- 45m 49s) Avg.Loss: 0.02276\n",
      "(185 50%) Time: 44m 50s (- 44m 36s) Avg.Loss: 0.02358\n",
      "(190 51%) Time: 46m 2s (- 43m 22s) Avg.Loss: 0.02357\n",
      "(195 52%) Time: 47m 14s (- 42m 9s) Avg.Loss: 0.02227\n",
      "(200 54%) Time: 48m 26s (- 40m 55s) Avg.Loss: 0.02120\n",
      "(205 55%) Time: 49m 37s (- 39m 42s) Avg.Loss: 0.02222\n",
      "(210 56%) Time: 50m 49s (- 38m 29s) Avg.Loss: 0.02096\n",
      "(215 58%) Time: 52m 2s (- 37m 16s) Avg.Loss: 0.02003\n",
      "(220 59%) Time: 53m 13s (- 36m 2s) Avg.Loss: 0.02134\n",
      "(225 60%) Time: 54m 24s (- 34m 49s) Avg.Loss: 0.02302\n",
      "(230 62%) Time: 55m 35s (- 33m 35s) Avg.Loss: 0.01921\n",
      "(235 63%) Time: 56m 46s (- 32m 22s) Avg.Loss: 0.02078\n",
      "(240 65%) Time: 57m 57s (- 31m 9s) Avg.Loss: 0.01943\n",
      "(245 66%) Time: 59m 9s (- 29m 56s) Avg.Loss: 0.01864\n",
      "(250 67%) Time: 60m 20s (- 28m 43s) Avg.Loss: 0.01761\n",
      "(255 69%) Time: 61m 31s (- 27m 30s) Avg.Loss: 0.01779\n",
      "(260 70%) Time: 62m 42s (- 26m 17s) Avg.Loss: 0.01811\n",
      "(265 71%) Time: 63m 53s (- 25m 4s) Avg.Loss: 0.01770\n",
      "(270 73%) Time: 65m 3s (- 23m 51s) Avg.Loss: 0.01931\n",
      "(275 74%) Time: 66m 13s (- 22m 38s) Avg.Loss: 0.01658\n",
      "(280 75%) Time: 67m 24s (- 21m 25s) Avg.Loss: 0.01656\n",
      "(285 77%) Time: 68m 35s (- 20m 12s) Avg.Loss: 0.01644\n",
      "(290 78%) Time: 69m 45s (- 19m 0s) Avg.Loss: 0.01802\n",
      "(295 79%) Time: 70m 55s (- 17m 47s) Avg.Loss: 0.01640\n",
      "(300 81%) Time: 72m 6s (- 16m 35s) Avg.Loss: 0.01923\n",
      "(305 82%) Time: 73m 16s (- 15m 22s) Avg.Loss: 0.01623\n",
      "(310 84%) Time: 74m 26s (- 14m 10s) Avg.Loss: 0.01555\n",
      "(315 85%) Time: 75m 36s (- 12m 57s) Avg.Loss: 0.01526\n",
      "(320 86%) Time: 76m 46s (- 11m 45s) Avg.Loss: 0.01548\n",
      "(325 88%) Time: 77m 57s (- 10m 33s) Avg.Loss: 0.01523\n",
      "(330 89%) Time: 79m 6s (- 9m 20s) Avg.Loss: 0.01601\n",
      "(335 90%) Time: 80m 16s (- 8m 8s) Avg.Loss: 0.01540\n",
      "(340 92%) Time: 81m 26s (- 6m 56s) Avg.Loss: 0.01629\n",
      "(345 93%) Time: 82m 36s (- 5m 44s) Avg.Loss: 0.01645\n",
      "(350 94%) Time: 83m 46s (- 4m 32s) Avg.Loss: 0.01466\n",
      "(355 96%) Time: 84m 56s (- 3m 21s) Avg.Loss: 0.01449\n",
      "(360 97%) Time: 86m 6s (- 2m 9s) Avg.Loss: 0.01412\n",
      "(365 98%) Time: 87m 15s (- 0m 57s) Avg.Loss: 0.01452\n"
     ]
    }
   ],
   "source": [
    "his_loss = training(train_loader, encoder, decoder, encoder_opt, decoder_opt, criterion, num_epochs, 5)"
   ]
  },
  {
   "cell_type": "markdown",
   "metadata": {
    "id": "S-pMZXVnbPmP"
   },
   "source": [
    "#**Lưu mô hình**#"
   ]
  },
  {
   "cell_type": "code",
   "execution_count": 37,
   "metadata": {
    "executionInfo": {
     "elapsed": 997,
     "status": "ok",
     "timestamp": 1733831842562,
     "user": {
      "displayName": "Kiệt Ngô",
      "userId": "05988892078397498920"
     },
     "user_tz": -420
    },
    "id": "y3PqmSCe-9kH"
   },
   "outputs": [],
   "source": [
    "enc_path = \"encoder.pth\"\n",
    "dec_path = \"decoder.pth\""
   ]
  },
  {
   "cell_type": "code",
   "execution_count": 28,
   "metadata": {
    "executionInfo": {
     "elapsed": 3,
     "status": "ok",
     "timestamp": 1733831844732,
     "user": {
      "displayName": "Kiệt Ngô",
      "userId": "05988892078397498920"
     },
     "user_tz": -420
    },
    "id": "MjRgVo9I--Zm"
   },
   "outputs": [],
   "source": [
    "torch.save(encoder.state_dict(), enc_path)\n",
    "torch.save(decoder.state_dict(), dec_path)"
   ]
  },
  {
   "cell_type": "code",
   "execution_count": 29,
   "metadata": {
    "colab": {
     "base_uri": "https://localhost:8080/"
    },
    "executionInfo": {
     "elapsed": 503,
     "status": "ok",
     "timestamp": 1733831848288,
     "user": {
      "displayName": "Kiệt Ngô",
      "userId": "05988892078397498920"
     },
     "user_tz": -420
    },
    "id": "fYTiqEU3-_HH",
    "outputId": "a455e138-f681-42ee-a75d-be6277e77011"
   },
   "outputs": [
    {
     "data": {
      "text/plain": [
       "DecoderAttn(\n",
       "  (embedding): Embedding(6067, 256)\n",
       "  (attention): BahdanauAttention(\n",
       "    (Wa): Linear(in_features=256, out_features=256, bias=True)\n",
       "    (Ua): Linear(in_features=256, out_features=256, bias=True)\n",
       "    (Va): Linear(in_features=256, out_features=1, bias=True)\n",
       "  )\n",
       "  (lstm): LSTM(512, 256, batch_first=True)\n",
       "  (out): Linear(in_features=256, out_features=6067, bias=True)\n",
       "  (dropout): Dropout(p=0.2, inplace=False)\n",
       ")"
      ]
     },
     "execution_count": 29,
     "metadata": {},
     "output_type": "execute_result"
    }
   ],
   "source": [
    "enc = Encoder(en_vocab.n_words, hidden_size, num_layers, dropout).to(device)\n",
    "dec = DecoderAttn(hidden_size, vi_vocab.n_words, device, max_length, 0, 1, 2, num_layers, dropout).to(device)\n",
    "\n",
    "enc.load_state_dict(torch.load(enc_path, weights_only=True))\n",
    "dec.load_state_dict(torch.load(dec_path, weights_only=True))\n",
    "\n",
    "enc.eval()\n",
    "dec.eval()"
   ]
  },
  {
   "cell_type": "markdown",
   "metadata": {
    "id": "mZy-o9IYbU8t"
   },
   "source": [
    "#**Trực quan hóa biểu đồ hàm Loss**#"
   ]
  },
  {
   "cell_type": "code",
   "execution_count": null,
   "metadata": {
    "colab": {
     "base_uri": "https://localhost:8080/",
     "height": 472
    },
    "executionInfo": {
     "elapsed": 1096,
     "status": "ok",
     "timestamp": 1733831861248,
     "user": {
      "displayName": "Kiệt Ngô",
      "userId": "05988892078397498920"
     },
     "user_tz": -420
    },
    "id": "3eExnNlF_AHQ",
    "outputId": "17310352-44e2-4490-bb1c-ee214c6fa20a"
   },
   "outputs": [
    {
     "data": {
      "image/png": "[encoded data removed]",
      "text/plain": [
       "<Figure size 640x480 with 1 Axes>"
      ]
     },
     "metadata": {},
     "output_type": "display_data"
    }
   ],
   "source": [
    "import matplotlib.pyplot as plt\n",
    "\n",
    "plt.plot(his_loss)\n",
    "plt.xlabel('Epoch')\n",
    "plt.ylabel('Loss')\n",
    "plt.title('Training Loss')\n",
    "plt.show()"
   ]
  },
  {
   "cell_type": "markdown",
   "metadata": {
    "id": "IpwWZQjPbbto"
   },
   "source": [
    "#**Samples**#"
   ]
  },
  {
   "cell_type": "code",
   "execution_count": 31,
   "metadata": {
    "colab": {
     "base_uri": "https://localhost:8080/"
    },
    "executionInfo": {
     "elapsed": 1023,
     "status": "ok",
     "timestamp": 1733831866688,
     "user": {
      "displayName": "Kiệt Ngô",
      "userId": "05988892078397498920"
     },
     "user_tz": -420
    },
    "id": "NyyfKy1ENKtF",
    "outputId": "a70a9b46-8d69-4260-db86-c4ba4cb7158a"
   },
   "outputs": [
    {
     "name": "stdout",
     "output_type": "stream",
     "text": [
      "English:\t young person holding a red and black fan in front of a martial arts class.\n",
      "Vi_true:\t một thanh niên cầm một chiếc quạt màu đỏ và đen trước một lớp học võ thuật.\n",
      "Vi_pred:\t một thanh niên cầm một chiếc quạt màu đỏ và đen trước một lớp học võ thuật . . noble . noble . noble . noble . noble\n",
      "------------\n",
      "English:\t colorful yellow seats with a sparse crowd line up behind four soccer players trying to go after a ball.\n",
      "Vi_true:\t những chiếc ghế màu vàng sặc sỡ với đám đông thưa thớt xếp hàng sau bốn cầu thủ bóng đá đang cố gắng đuổi theo một quả bóng.\n",
      "Vi_pred:\t mặt trên ghế màu vàng sặc sỡ với đám đông thưa thớt xếp hàng sau bốn cầu thủ bóng đá đang cố gắng đuổi theo một quả bóng . . .\n",
      "------------\n",
      "English:\t a man in a doctors coat emerges from a building.\n",
      "Vi_true:\t một người đàn ông mặc áo khoác bác sĩ xuất hiện từ một tòa nhà.\n",
      "Vi_pred:\t một người đàn ông mặc áo khoác bác sĩ xuất hiện từ một tòa nhà . tòa nhà . . ` . .\n",
      "------------\n",
      "English:\t a man with a lot of jewelry and punk rock clothes poses against a brick wall.\n",
      "Vi_true:\t một người đàn ông đeo nhiều đồ trang sức và quần áo punk rock tạo dáng bên bức tường gạch.\n",
      "Vi_pred:\t một người đàn ông đeo nhiều đồ trang sức và quần áo punk rock tạo dáng bên bức tường gạch . b . a . bên bức tường\n",
      "------------\n",
      "English:\t a man is walking past a red building while wearing specialized gear.\n",
      "Vi_true:\t một người đàn ông đang đi ngang qua một tòa nhà màu đỏ trong khi mặc đồ chuyên dụng.\n",
      "Vi_pred:\t một người đàn ông đang đi ngang qua một tòa nhà màu đỏ trong khi mặc đồ chuyên dụng . .\n",
      "------------\n",
      "English:\t people heading home from work at the train station.\n",
      "Vi_true:\t những người đang đi về nhà sau giờ làm việc tại nhà ga.\n",
      "Vi_pred:\t mọi người đang đợi mình yên tĩnh và xem xét nhà ga xe lửa . com . com . com . com . com . com .\n",
      "------------\n",
      "English:\t the man passing the door is wearing a white shirt and black running pants with white stripes down the side.\n",
      "Vi_true:\t người đàn ông đi ngang qua cửa mặc áo sơ mi trắng và quần chạy bộ màu đen có sọc trắng dọc theo hông.\n",
      "Vi_pred:\t người đi ngang qua cửa mặc áo sơ mi trắng và quần chạy bộ màu đen có sọc trắng dọc theo hông . màu trắng .\n",
      "------------\n",
      "English:\t a man on a harness in the middle of climbing through a cave.\n",
      "Vi_true:\t một người đàn ông đeo dây an toàn đang leo qua một hang động.\n",
      "Vi_pred:\t một người đàn ông đeo dây an toàn đang leo qua một hang động . qua một hang động . . com . .\n",
      "------------\n",
      "English:\t two friends run in a competitive race.\n",
      "Vi_true:\t hai người bạn chạy trong một cuộc đua cạnh tranh.\n",
      "Vi_pred:\t hai người bạn chạy trong một cuộc đua cạnh tranh . com . com . .\n",
      "------------\n",
      "English:\t four children playing in water spouts.\n",
      "Vi_true:\t bốn đứa trẻ đang chơi trong vòi phun nước.\n",
      "Vi_pred:\t bốn đứa trẻ đang chơi trong vòi phun nước . a . a . a . a . a . a . a . a\n",
      "------------\n",
      "Average BLEU score: 0.6054\n"
     ]
    }
   ],
   "source": [
    "evaluateRandom(enc, dec, train_data, en_vocab, vi_vocab, en_nlp, vi_nlp, device, 10)"
   ]
  },
  {
   "cell_type": "code",
   "execution_count": 32,
   "metadata": {
    "colab": {
     "base_uri": "https://localhost:8080/"
    },
    "executionInfo": {
     "elapsed": 1034,
     "status": "ok",
     "timestamp": 1733831870872,
     "user": {
      "displayName": "Kiệt Ngô",
      "userId": "05988892078397498920"
     },
     "user_tz": -420
    },
    "id": "VwXxHLgaNLkp",
    "outputId": "03a8a756-ece6-43d9-a23a-561d091aecd7"
   },
   "outputs": [
    {
     "name": "stdout",
     "output_type": "stream",
     "text": [
      "English:\t a woman hanging from a tree, her leg wrapped in cloth.\n",
      "Vi_true:\t một người phụ nữ treo mình trên cây, chân quấn vải.\n",
      "Vi_pred:\t một người phụ nữ treo mình trên một cái cây , chân giơ mặc vải . . .\n",
      "------------\n",
      "English:\t a group of friends lay sprawled out on the floor enjoying their time together.\n",
      "Vi_true:\t một nhóm bạn nằm dài trên sàn tận hưởng khoảng thời gian bên nhau.\n",
      "Vi_pred:\t một nhóm bạn nằm dài trên sàn được tận hưởng thời gian . noble . noble . noble . noble . noble . noble . noble .\n",
      "------------\n",
      "English:\t a group of parents are sitting at an outdoor assembly.\n",
      "Vi_true:\t một nhóm phụ huynh đang ngồi trong một cuộc họp ngoài trời.\n",
      "Vi_pred:\t một nhóm người lớn đang ngồi ở một bữa ngoài trời đông đúc . ngoài trời .\n",
      "------------\n",
      "English:\t a young boy in yellow t-shirt hanging from a ring with other kids around.\n",
      "Vi_true:\t một cậu bé mặc áo phông màu vàng đang treo mình trên một chiếc vòng với những đứa trẻ khác xung quanh.\n",
      "Vi_pred:\t một cậu bé mặc áo phông vàng treo mình trên võ đài . phía sau trẻ em khác . . bơi . .\n",
      "------------\n",
      "English:\t a woman in a green shirt is walking down a crowded street.\n",
      "Vi_true:\t một người phụ nữ mặc áo sơ mi xanh lá cây đang đi bộ trên một con phố đông đúc.\n",
      "Vi_pred:\t một người phụ nữ mặc áo sơ mi xanh đang đi bộ trên một con phố đông đúc . đông đúc .\n",
      "------------\n",
      "English:\t woman standing on a brick wall and taking a picture\n",
      "Vi_true:\t người phụ nữ đứng trên bức tường gạch và chụp ảnh\n",
      "Vi_pred:\t người đứng trên bức tường gạch và chụp ảnh đó .\n",
      "------------\n",
      "English:\t three people are sitting outside at a table with artwork leaning against it.\n",
      "Vi_true:\t ba người đang ngồi bên ngoài tại một chiếc bàn có tác phẩm nghệ thuật dựa vào.\n",
      "Vi_pred:\t ba người đang ngồi bên ngoài tại một chiếc bàn có hình tường cong người . com .\n",
      "------------\n",
      "English:\t an african american man in a tan hat, suit, and sunglasses is standing by a brick wall.\n",
      "Vi_true:\t một người đàn ông mỹ gốc phi đội mũ rám nắng, mặc vest và đeo kính râm đang đứng cạnh một bức tường gạch.\n",
      "Vi_pred:\t một người mỹ gốc phi mặc mũ rám nắng , bộ vest và đeo kính râm đang đứng cạnh một bức tường gạch . com .\n",
      "------------\n",
      "English:\t a woman carrying a trader joe's grocery bag has fallen asleep on the train.\n",
      "Vi_true:\t một người phụ nữ mang theo túi đồ tạp hóa trader joe đã ngủ quên trên tàu.\n",
      "Vi_pred:\t một người phụ nữ mang theo một túi đồ nội thất chưa cuộn đã ngủ quên trên tàu . tàu . tàu . noble . tàu .\n",
      "------------\n",
      "English:\t an indian man walks past a temple on his way to pray.\n",
      "Vi_true:\t một người đàn ông ấn độ đi ngang qua một ngôi đền trên đường đi cầu nguyện.\n",
      "Vi_pred:\t một người đàn ông ấn độ đi ngang qua một ngôi đền trên đường để cầu nguyện . f hunt . f hunt . f hunt .\n",
      "------------\n",
      "Average BLEU score: 0.4459\n"
     ]
    }
   ],
   "source": [
    "evaluateRandom(enc, dec, val_data, en_vocab, vi_vocab, en_nlp, vi_nlp, device, 10)"
   ]
  },
  {
   "cell_type": "code",
   "execution_count": 35,
   "metadata": {
    "colab": {
     "base_uri": "https://localhost:8080/"
    },
    "executionInfo": {
     "elapsed": 489,
     "status": "ok",
     "timestamp": 1733831923701,
     "user": {
      "displayName": "Kiệt Ngô",
      "userId": "05988892078397498920"
     },
     "user_tz": -420
    },
    "id": "bFBKkfuENQPa",
    "outputId": "d7e48c6f-efaa-43ed-dfeb-1a4d72054333"
   },
   "outputs": [
    {
     "data": {
      "text/plain": [
       "['mặc quần jean , áo sơ mi và cùng nhau đi xe đạp cùng nhau . ` .']"
      ]
     },
     "execution_count": 35,
     "metadata": {},
     "output_type": "execute_result"
    }
   ],
   "source": [
    "inp_texts = ['people wearing the dirty jeans and riding a bicycle together']\n",
    "translate_sentence(enc, dec, inp_texts, en_vocab, vi_vocab, en_nlp, device)"
   ]
  },
  {
   "cell_type": "code",
   "execution_count": 36,
   "metadata": {
    "colab": {
     "base_uri": "https://localhost:8080/"
    },
    "executionInfo": {
     "elapsed": 485,
     "status": "ok",
     "timestamp": 1733832021248,
     "user": {
      "displayName": "Kiệt Ngô",
      "userId": "05988892078397498920"
     },
     "user_tz": -420
    },
    "id": "YLg5FQHV_Ky7",
    "outputId": "32c813d0-6923-4831-b508-ebc635c3c85e"
   },
   "outputs": [
    {
     "name": "stdout",
     "output_type": "stream",
     "text": [
      "English:\t two little girls in blue dresses laugh.\n",
      "Vi_true:\t hai bé gái mặc váy xanh cười.\n",
      "Vi_pred:\t hai bé mặc váy xanh cười . cười . châu á .\n",
      "------------\n",
      "English:\t a woman who is wearing white shorts, yellow top and white sandals appears to be throwing a stick.\n",
      "Vi_true:\t một người phụ nữ mặc quần đùi trắng, áo vàng và dép xăng đan trắng dường như đang ném một cây gậy.\n",
      "Vi_pred:\t một người phụ nữ mặc quần đùi trắng , áo vàng và giày thể thao dường như đang ném một cây gậy . . .\n",
      "------------\n",
      "English:\t a man wearing goggles exits a pool by the ladder.\n",
      "Vi_true:\t một người đàn ông đeo kính bảo hộ bước ra khỏi hồ bơi bằng thang.\n",
      "Vi_pred:\t một người đàn ông đeo kính bảo hộ bước ra khỏi hồ bơi bên cạnh đường ray . thang . `\n",
      "------------\n",
      "English:\t here is a picture of a teenager trimming his brother's head hair.\n",
      "Vi_true:\t đây là hình ảnh một thiếu niên đang cắt tóc cho anh trai mình.\n",
      "Vi_pred:\t khoảng hình ảnh từ anh trai đang cắt tóc . mình . com . .\n",
      "------------\n",
      "English:\t a bicyclist is doing a trick in midair.\n",
      "Vi_true:\t một người đi xe đạp đang biểu diễn một trò ảo thuật giữa không trung.\n",
      "Vi_pred:\t một người đi xe đạp đang biểu diễn một trò ảo thuật giữa không trung . giữa không trung .\n",
      "------------\n",
      "Average BLEU score: 0.5135\n"
     ]
    }
   ],
   "source": [
    "evaluateRandom(enc, dec, val_data, en_vocab, vi_vocab, en_nlp, vi_nlp, device, 5)"
   ]
  },
  {
   "cell_type": "code",
   "execution_count": 34,
   "metadata": {
    "colab": {
     "base_uri": "https://localhost:8080/"
    },
    "executionInfo": {
     "elapsed": 25298,
     "status": "ok",
     "timestamp": 1733831920782,
     "user": {
      "displayName": "Kiệt Ngô",
      "userId": "05988892078397498920"
     },
     "user_tz": -420
    },
    "id": "lj-RxurGMekH",
    "outputId": "50009408-3e12-4e87-9237-d8e25d6160f9"
   },
   "outputs": [
    {
     "data": {
      "text/plain": [
       "0.35866784119535605"
      ]
     },
     "execution_count": 34,
     "metadata": {},
     "output_type": "execute_result"
    }
   ],
   "source": [
    "calcBLEU(enc, dec, test_data,  en_vocab, vi_vocab, en_nlp, vi_nlp, device)"
   ]
  }
 ],
 "metadata": {
  "accelerator": "GPU",
  "colab": {
   "authorship_tag": "ABX9TyN/3LmMsFod54uV21+JQRB8",
   "gpuType": "T4",
   "mount_file_id": "1fnVKozcKhg6RWoA4jGQOcEBXmS9tAtVz",
   "provenance": []
  },
  "kernelspec": {
   "display_name": ".venv",
   "language": "python",
   "name": "python3"
  },
  "language_info": {
   "codemirror_mode": {
    "name": "ipython",
    "version": 3
   },
   "file_extension": ".py",
   "mimetype": "text/x-python",
   "name": "python",
   "nbconvert_exporter": "python",
   "pygments_lexer": "ipython3",
   "version": "3.12.6"
  },
  "widgets": {
   "application/vnd.jupyter.widget-state+json": {
    "0008bcd1b4c548938d1368e2e1fd69d1": {
     "model_module": "@jupyter-widgets/base",
     "model_module_version": "1.2.0",
     "model_name": "LayoutModel",
     "state": {
      "_model_module": "@jupyter-widgets/base",
      "_model_module_version": "1.2.0",
      "_model_name": "LayoutModel",
      "_view_count": null,
      "_view_module": "@jupyter-widgets/base",
      "_view_module_version": "1.2.0",
      "_view_name": "LayoutView",
      "align_content": null,
      "align_items": null,
      "align_self": null,
      "border": null,
      "bottom": null,
      "display": null,
      "flex": null,
      "flex_flow": null,
      "grid_area": null,
      "grid_auto_columns": null,
      "grid_auto_flow": null,
      "grid_auto_rows": null,
      "grid_column": null,
      "grid_gap": null,
      "grid_row": null,
      "grid_template_areas": null,
      "grid_template_columns": null,
      "grid_template_rows": null,
      "height": null,
      "justify_content": null,
      "justify_items": null,
      "left": null,
      "margin": null,
      "max_height": null,
      "max_width": null,
      "min_height": null,
      "min_width": null,
      "object_fit": null,
      "object_position": null,
      "order": null,
      "overflow": null,
      "overflow_x": null,
      "overflow_y": null,
      "padding": null,
      "right": null,
      "top": null,
      "visibility": null,
      "width": null
     }
    },
    "00cf5115d05e48c5960e3760ab4ab7a9": {
     "model_module": "@jupyter-widgets/controls",
     "model_module_version": "1.5.0",
     "model_name": "HTMLModel",
     "state": {
      "_dom_classes": [],
      "_model_module": "@jupyter-widgets/controls",
      "_model_module_version": "1.5.0",
      "_model_name": "HTMLModel",
      "_view_count": null,
      "_view_module": "@jupyter-widgets/controls",
      "_view_module_version": "1.5.0",
      "_view_name": "HTMLView",
      "description": "",
      "description_tooltip": null,
      "layout": "IPY_MODEL_e0798454d2a945af8f56fa82d458a7ef",
      "placeholder": "​",
      "style": "IPY_MODEL_54445f80a03548b8947cdb6cf3362316",
      "value": " 1000/1000 [00:00&lt;00:00, 9840.38 examples/s]"
     }
    },
    "019383a4e21543019a656514d88001ea": {
     "model_module": "@jupyter-widgets/controls",
     "model_module_version": "1.5.0",
     "model_name": "DescriptionStyleModel",
     "state": {
      "_model_module": "@jupyter-widgets/controls",
      "_model_module_version": "1.5.0",
      "_model_name": "DescriptionStyleModel",
      "_view_count": null,
      "_view_module": "@jupyter-widgets/base",
      "_view_module_version": "1.2.0",
      "_view_name": "StyleView",
      "description_width": ""
     }
    },
    "01e40a73fe124df6a0db91d5b7b3598a": {
     "model_module": "@jupyter-widgets/controls",
     "model_module_version": "1.5.0",
     "model_name": "DescriptionStyleModel",
     "state": {
      "_model_module": "@jupyter-widgets/controls",
      "_model_module_version": "1.5.0",
      "_model_name": "DescriptionStyleModel",
      "_view_count": null,
      "_view_module": "@jupyter-widgets/base",
      "_view_module_version": "1.2.0",
      "_view_name": "StyleView",
      "description_width": ""
     }
    },
    "0360a240b2a94d1cb1e65ae2c7aa7480": {
     "model_module": "@jupyter-widgets/base",
     "model_module_version": "1.2.0",
     "model_name": "LayoutModel",
     "state": {
      "_model_module": "@jupyter-widgets/base",
      "_model_module_version": "1.2.0",
      "_model_name": "LayoutModel",
      "_view_count": null,
      "_view_module": "@jupyter-widgets/base",
      "_view_module_version": "1.2.0",
      "_view_name": "LayoutView",
      "align_content": null,
      "align_items": null,
      "align_self": null,
      "border": null,
      "bottom": null,
      "display": null,
      "flex": null,
      "flex_flow": null,
      "grid_area": null,
      "grid_auto_columns": null,
      "grid_auto_flow": null,
      "grid_auto_rows": null,
      "grid_column": null,
      "grid_gap": null,
      "grid_row": null,
      "grid_template_areas": null,
      "grid_template_columns": null,
      "grid_template_rows": null,
      "height": null,
      "justify_content": null,
      "justify_items": null,
      "left": null,
      "margin": null,
      "max_height": null,
      "max_width": null,
      "min_height": null,
      "min_width": null,
      "object_fit": null,
      "object_position": null,
      "order": null,
      "overflow": null,
      "overflow_x": null,
      "overflow_y": null,
      "padding": null,
      "right": null,
      "top": null,
      "visibility": null,
      "width": null
     }
    },
    "0d78be632a10498fa085c418d4eb8d42": {
     "model_module": "@jupyter-widgets/controls",
     "model_module_version": "1.5.0",
     "model_name": "FloatProgressModel",
     "state": {
      "_dom_classes": [],
      "_model_module": "@jupyter-widgets/controls",
      "_model_module_version": "1.5.0",
      "_model_name": "FloatProgressModel",
      "_view_count": null,
      "_view_module": "@jupyter-widgets/controls",
      "_view_module_version": "1.5.0",
      "_view_name": "ProgressView",
      "bar_style": "success",
      "description": "",
      "description_tooltip": null,
      "layout": "IPY_MODEL_3a0b387b06ed4f54b7b752fb6364548e",
      "max": 1014,
      "min": 0,
      "orientation": "horizontal",
      "style": "IPY_MODEL_fbbcf156990840f3940270d5fdcf68a4",
      "value": 1014
     }
    },
    "0e624910656841e288fe6947b736e399": {
     "model_module": "@jupyter-widgets/controls",
     "model_module_version": "1.5.0",
     "model_name": "FloatProgressModel",
     "state": {
      "_dom_classes": [],
      "_model_module": "@jupyter-widgets/controls",
      "_model_module_version": "1.5.0",
      "_model_name": "FloatProgressModel",
      "_view_count": null,
      "_view_module": "@jupyter-widgets/controls",
      "_view_module_version": "1.5.0",
      "_view_name": "ProgressView",
      "bar_style": "success",
      "description": "",
      "description_tooltip": null,
      "layout": "IPY_MODEL_0008bcd1b4c548938d1368e2e1fd69d1",
      "max": 1000,
      "min": 0,
      "orientation": "horizontal",
      "style": "IPY_MODEL_e85d9832db93406d95e7d49aa217588a",
      "value": 1000
     }
    },
    "124a97848edc4a8ca972330055a4cd87": {
     "model_module": "@jupyter-widgets/base",
     "model_module_version": "1.2.0",
     "model_name": "LayoutModel",
     "state": {
      "_model_module": "@jupyter-widgets/base",
      "_model_module_version": "1.2.0",
      "_model_name": "LayoutModel",
      "_view_count": null,
      "_view_module": "@jupyter-widgets/base",
      "_view_module_version": "1.2.0",
      "_view_name": "LayoutView",
      "align_content": null,
      "align_items": null,
      "align_self": null,
      "border": null,
      "bottom": null,
      "display": null,
      "flex": null,
      "flex_flow": null,
      "grid_area": null,
      "grid_auto_columns": null,
      "grid_auto_flow": null,
      "grid_auto_rows": null,
      "grid_column": null,
      "grid_gap": null,
      "grid_row": null,
      "grid_template_areas": null,
      "grid_template_columns": null,
      "grid_template_rows": null,
      "height": null,
      "justify_content": null,
      "justify_items": null,
      "left": null,
      "margin": null,
      "max_height": null,
      "max_width": null,
      "min_height": null,
      "min_width": null,
      "object_fit": null,
      "object_position": null,
      "order": null,
      "overflow": null,
      "overflow_x": null,
      "overflow_y": null,
      "padding": null,
      "right": null,
      "top": null,
      "visibility": null,
      "width": null
     }
    },
    "1766f2fd7997424faed2cc3aa52bea85": {
     "model_module": "@jupyter-widgets/controls",
     "model_module_version": "1.5.0",
     "model_name": "HTMLModel",
     "state": {
      "_dom_classes": [],
      "_model_module": "@jupyter-widgets/controls",
      "_model_module_version": "1.5.0",
      "_model_name": "HTMLModel",
      "_view_count": null,
      "_view_module": "@jupyter-widgets/controls",
      "_view_module_version": "1.5.0",
      "_view_name": "HTMLView",
      "description": "",
      "description_tooltip": null,
      "layout": "IPY_MODEL_bcacebc7a43648fc90db8da7a69e0a45",
      "placeholder": "​",
      "style": "IPY_MODEL_d057bb7faff04441be59a7e4cc6fe97e",
      "value": " 1014/1014 [00:00&lt;00:00, 10869.07 examples/s]"
     }
    },
    "1dfc0b1587554422b4f6d809dc525694": {
     "model_module": "@jupyter-widgets/controls",
     "model_module_version": "1.5.0",
     "model_name": "HTMLModel",
     "state": {
      "_dom_classes": [],
      "_model_module": "@jupyter-widgets/controls",
      "_model_module_version": "1.5.0",
      "_model_name": "HTMLModel",
      "_view_count": null,
      "_view_module": "@jupyter-widgets/controls",
      "_view_module_version": "1.5.0",
      "_view_name": "HTMLView",
      "description": "",
      "description_tooltip": null,
      "layout": "IPY_MODEL_94f4567131b448f1a411b9cfb74ab961",
      "placeholder": "​",
      "style": "IPY_MODEL_a3a3f3ecb99f43c0a4f665b2dafb0946",
      "value": " 1000/1000 [00:00&lt;00:00, 2781.44 examples/s]"
     }
    },
    "1f797fd4f47e4ab0b3fd6650d4ae2781": {
     "model_module": "@jupyter-widgets/base",
     "model_module_version": "1.2.0",
     "model_name": "LayoutModel",
     "state": {
      "_model_module": "@jupyter-widgets/base",
      "_model_module_version": "1.2.0",
      "_model_name": "LayoutModel",
      "_view_count": null,
      "_view_module": "@jupyter-widgets/base",
      "_view_module_version": "1.2.0",
      "_view_name": "LayoutView",
      "align_content": null,
      "align_items": null,
      "align_self": null,
      "border": null,
      "bottom": null,
      "display": null,
      "flex": null,
      "flex_flow": null,
      "grid_area": null,
      "grid_auto_columns": null,
      "grid_auto_flow": null,
      "grid_auto_rows": null,
      "grid_column": null,
      "grid_gap": null,
      "grid_row": null,
      "grid_template_areas": null,
      "grid_template_columns": null,
      "grid_template_rows": null,
      "height": null,
      "justify_content": null,
      "justify_items": null,
      "left": null,
      "margin": null,
      "max_height": null,
      "max_width": null,
      "min_height": null,
      "min_width": null,
      "object_fit": null,
      "object_position": null,
      "order": null,
      "overflow": null,
      "overflow_x": null,
      "overflow_y": null,
      "padding": null,
      "right": null,
      "top": null,
      "visibility": null,
      "width": null
     }
    },
    "22ecb9680d5e463a8e5b6c5fc77abf01": {
     "model_module": "@jupyter-widgets/base",
     "model_module_version": "1.2.0",
     "model_name": "LayoutModel",
     "state": {
      "_model_module": "@jupyter-widgets/base",
      "_model_module_version": "1.2.0",
      "_model_name": "LayoutModel",
      "_view_count": null,
      "_view_module": "@jupyter-widgets/base",
      "_view_module_version": "1.2.0",
      "_view_name": "LayoutView",
      "align_content": null,
      "align_items": null,
      "align_self": null,
      "border": null,
      "bottom": null,
      "display": null,
      "flex": null,
      "flex_flow": null,
      "grid_area": null,
      "grid_auto_columns": null,
      "grid_auto_flow": null,
      "grid_auto_rows": null,
      "grid_column": null,
      "grid_gap": null,
      "grid_row": null,
      "grid_template_areas": null,
      "grid_template_columns": null,
      "grid_template_rows": null,
      "height": null,
      "justify_content": null,
      "justify_items": null,
      "left": null,
      "margin": null,
      "max_height": null,
      "max_width": null,
      "min_height": null,
      "min_width": null,
      "object_fit": null,
      "object_position": null,
      "order": null,
      "overflow": null,
      "overflow_x": null,
      "overflow_y": null,
      "padding": null,
      "right": null,
      "top": null,
      "visibility": null,
      "width": null
     }
    },
    "255ca25a15244719a83f31dd78acdb45": {
     "model_module": "@jupyter-widgets/controls",
     "model_module_version": "1.5.0",
     "model_name": "FloatProgressModel",
     "state": {
      "_dom_classes": [],
      "_model_module": "@jupyter-widgets/controls",
      "_model_module_version": "1.5.0",
      "_model_name": "FloatProgressModel",
      "_view_count": null,
      "_view_module": "@jupyter-widgets/controls",
      "_view_module_version": "1.5.0",
      "_view_name": "ProgressView",
      "bar_style": "success",
      "description": "",
      "description_tooltip": null,
      "layout": "IPY_MODEL_22ecb9680d5e463a8e5b6c5fc77abf01",
      "max": 29000,
      "min": 0,
      "orientation": "horizontal",
      "style": "IPY_MODEL_cc9b3b7746cd4bcf8d2c89df4260a43f",
      "value": 29000
     }
    },
    "2850e382d1ca4c539d2c93232e8dea12": {
     "model_module": "@jupyter-widgets/controls",
     "model_module_version": "1.5.0",
     "model_name": "FloatProgressModel",
     "state": {
      "_dom_classes": [],
      "_model_module": "@jupyter-widgets/controls",
      "_model_module_version": "1.5.0",
      "_model_name": "FloatProgressModel",
      "_view_count": null,
      "_view_module": "@jupyter-widgets/controls",
      "_view_module_version": "1.5.0",
      "_view_name": "ProgressView",
      "bar_style": "success",
      "description": "",
      "description_tooltip": null,
      "layout": "IPY_MODEL_afa8006647d74b3db12e43297cb88b06",
      "max": 1014,
      "min": 0,
      "orientation": "horizontal",
      "style": "IPY_MODEL_cdb0284dc53247cab26880f1335c9e67",
      "value": 1014
     }
    },
    "2bdd28fd8d584eabab93f9c202deee31": {
     "model_module": "@jupyter-widgets/controls",
     "model_module_version": "1.5.0",
     "model_name": "DescriptionStyleModel",
     "state": {
      "_model_module": "@jupyter-widgets/controls",
      "_model_module_version": "1.5.0",
      "_model_name": "DescriptionStyleModel",
      "_view_count": null,
      "_view_module": "@jupyter-widgets/base",
      "_view_module_version": "1.2.0",
      "_view_name": "StyleView",
      "description_width": ""
     }
    },
    "2f7c2789b85f498b814eeded03d3fc03": {
     "model_module": "@jupyter-widgets/controls",
     "model_module_version": "1.5.0",
     "model_name": "FloatProgressModel",
     "state": {
      "_dom_classes": [],
      "_model_module": "@jupyter-widgets/controls",
      "_model_module_version": "1.5.0",
      "_model_name": "FloatProgressModel",
      "_view_count": null,
      "_view_module": "@jupyter-widgets/controls",
      "_view_module_version": "1.5.0",
      "_view_name": "ProgressView",
      "bar_style": "success",
      "description": "",
      "description_tooltip": null,
      "layout": "IPY_MODEL_6b8ac74774294a2f96b07f5378669e69",
      "max": 1000,
      "min": 0,
      "orientation": "horizontal",
      "style": "IPY_MODEL_30692d0d582d457988a21b108e760619",
      "value": 1000
     }
    },
    "30692d0d582d457988a21b108e760619": {
     "model_module": "@jupyter-widgets/controls",
     "model_module_version": "1.5.0",
     "model_name": "ProgressStyleModel",
     "state": {
      "_model_module": "@jupyter-widgets/controls",
      "_model_module_version": "1.5.0",
      "_model_name": "ProgressStyleModel",
      "_view_count": null,
      "_view_module": "@jupyter-widgets/base",
      "_view_module_version": "1.2.0",
      "_view_name": "StyleView",
      "bar_color": null,
      "description_width": ""
     }
    },
    "3452a4d56f2c4212af0347108ae3121b": {
     "model_module": "@jupyter-widgets/controls",
     "model_module_version": "1.5.0",
     "model_name": "HTMLModel",
     "state": {
      "_dom_classes": [],
      "_model_module": "@jupyter-widgets/controls",
      "_model_module_version": "1.5.0",
      "_model_name": "HTMLModel",
      "_view_count": null,
      "_view_module": "@jupyter-widgets/controls",
      "_view_module_version": "1.5.0",
      "_view_name": "HTMLView",
      "description": "",
      "description_tooltip": null,
      "layout": "IPY_MODEL_124a97848edc4a8ca972330055a4cd87",
      "placeholder": "​",
      "style": "IPY_MODEL_019383a4e21543019a656514d88001ea",
      "value": " 29000/29000 [00:02&lt;00:00, 14608.02 examples/s]"
     }
    },
    "3a0b387b06ed4f54b7b752fb6364548e": {
     "model_module": "@jupyter-widgets/base",
     "model_module_version": "1.2.0",
     "model_name": "LayoutModel",
     "state": {
      "_model_module": "@jupyter-widgets/base",
      "_model_module_version": "1.2.0",
      "_model_name": "LayoutModel",
      "_view_count": null,
      "_view_module": "@jupyter-widgets/base",
      "_view_module_version": "1.2.0",
      "_view_name": "LayoutView",
      "align_content": null,
      "align_items": null,
      "align_self": null,
      "border": null,
      "bottom": null,
      "display": null,
      "flex": null,
      "flex_flow": null,
      "grid_area": null,
      "grid_auto_columns": null,
      "grid_auto_flow": null,
      "grid_auto_rows": null,
      "grid_column": null,
      "grid_gap": null,
      "grid_row": null,
      "grid_template_areas": null,
      "grid_template_columns": null,
      "grid_template_rows": null,
      "height": null,
      "justify_content": null,
      "justify_items": null,
      "left": null,
      "margin": null,
      "max_height": null,
      "max_width": null,
      "min_height": null,
      "min_width": null,
      "object_fit": null,
      "object_position": null,
      "order": null,
      "overflow": null,
      "overflow_x": null,
      "overflow_y": null,
      "padding": null,
      "right": null,
      "top": null,
      "visibility": null,
      "width": null
     }
    },
    "3b7d3c1722344a90b4754ed92003afc9": {
     "model_module": "@jupyter-widgets/controls",
     "model_module_version": "1.5.0",
     "model_name": "DescriptionStyleModel",
     "state": {
      "_model_module": "@jupyter-widgets/controls",
      "_model_module_version": "1.5.0",
      "_model_name": "DescriptionStyleModel",
      "_view_count": null,
      "_view_module": "@jupyter-widgets/base",
      "_view_module_version": "1.2.0",
      "_view_name": "StyleView",
      "description_width": ""
     }
    },
    "3d21c0e1bc104c279a6ee5a0e49774b5": {
     "model_module": "@jupyter-widgets/base",
     "model_module_version": "1.2.0",
     "model_name": "LayoutModel",
     "state": {
      "_model_module": "@jupyter-widgets/base",
      "_model_module_version": "1.2.0",
      "_model_name": "LayoutModel",
      "_view_count": null,
      "_view_module": "@jupyter-widgets/base",
      "_view_module_version": "1.2.0",
      "_view_name": "LayoutView",
      "align_content": null,
      "align_items": null,
      "align_self": null,
      "border": null,
      "bottom": null,
      "display": null,
      "flex": null,
      "flex_flow": null,
      "grid_area": null,
      "grid_auto_columns": null,
      "grid_auto_flow": null,
      "grid_auto_rows": null,
      "grid_column": null,
      "grid_gap": null,
      "grid_row": null,
      "grid_template_areas": null,
      "grid_template_columns": null,
      "grid_template_rows": null,
      "height": null,
      "justify_content": null,
      "justify_items": null,
      "left": null,
      "margin": null,
      "max_height": null,
      "max_width": null,
      "min_height": null,
      "min_width": null,
      "object_fit": null,
      "object_position": null,
      "order": null,
      "overflow": null,
      "overflow_x": null,
      "overflow_y": null,
      "padding": null,
      "right": null,
      "top": null,
      "visibility": null,
      "width": null
     }
    },
    "426610de27384ccb8172b292b94e1255": {
     "model_module": "@jupyter-widgets/controls",
     "model_module_version": "1.5.0",
     "model_name": "HBoxModel",
     "state": {
      "_dom_classes": [],
      "_model_module": "@jupyter-widgets/controls",
      "_model_module_version": "1.5.0",
      "_model_name": "HBoxModel",
      "_view_count": null,
      "_view_module": "@jupyter-widgets/controls",
      "_view_module_version": "1.5.0",
      "_view_name": "HBoxView",
      "box_style": "",
      "children": [
       "IPY_MODEL_4882be5baf884e3eb779c0e249526a5a",
       "IPY_MODEL_255ca25a15244719a83f31dd78acdb45",
       "IPY_MODEL_b3f47dcacaaf491bb7c0867f5197d16f"
      ],
      "layout": "IPY_MODEL_e81a5925b99947929835068151633afc"
     }
    },
    "4882be5baf884e3eb779c0e249526a5a": {
     "model_module": "@jupyter-widgets/controls",
     "model_module_version": "1.5.0",
     "model_name": "HTMLModel",
     "state": {
      "_dom_classes": [],
      "_model_module": "@jupyter-widgets/controls",
      "_model_module_version": "1.5.0",
      "_model_name": "HTMLModel",
      "_view_count": null,
      "_view_module": "@jupyter-widgets/controls",
      "_view_module_version": "1.5.0",
      "_view_name": "HTMLView",
      "description": "",
      "description_tooltip": null,
      "layout": "IPY_MODEL_0360a240b2a94d1cb1e65ae2c7aa7480",
      "placeholder": "​",
      "style": "IPY_MODEL_3b7d3c1722344a90b4754ed92003afc9",
      "value": "Filter: 100%"
     }
    },
    "49667ada146f45b7b433a4da275cb448": {
     "model_module": "@jupyter-widgets/controls",
     "model_module_version": "1.5.0",
     "model_name": "DescriptionStyleModel",
     "state": {
      "_model_module": "@jupyter-widgets/controls",
      "_model_module_version": "1.5.0",
      "_model_name": "DescriptionStyleModel",
      "_view_count": null,
      "_view_module": "@jupyter-widgets/base",
      "_view_module_version": "1.2.0",
      "_view_name": "StyleView",
      "description_width": ""
     }
    },
    "4d7cbd0017cd4b2ba20971165c7208f0": {
     "model_module": "@jupyter-widgets/controls",
     "model_module_version": "1.5.0",
     "model_name": "HTMLModel",
     "state": {
      "_dom_classes": [],
      "_model_module": "@jupyter-widgets/controls",
      "_model_module_version": "1.5.0",
      "_model_name": "HTMLModel",
      "_view_count": null,
      "_view_module": "@jupyter-widgets/controls",
      "_view_module_version": "1.5.0",
      "_view_name": "HTMLView",
      "description": "",
      "description_tooltip": null,
      "layout": "IPY_MODEL_79ffc0a2c785431eb0b8422f00cd090f",
      "placeholder": "​",
      "style": "IPY_MODEL_2bdd28fd8d584eabab93f9c202deee31",
      "value": "Filter: 100%"
     }
    },
    "53a56c052ebf46ddbdfb8dfc66b68cbf": {
     "model_module": "@jupyter-widgets/controls",
     "model_module_version": "1.5.0",
     "model_name": "DescriptionStyleModel",
     "state": {
      "_model_module": "@jupyter-widgets/controls",
      "_model_module_version": "1.5.0",
      "_model_name": "DescriptionStyleModel",
      "_view_count": null,
      "_view_module": "@jupyter-widgets/base",
      "_view_module_version": "1.2.0",
      "_view_name": "StyleView",
      "description_width": ""
     }
    },
    "54445f80a03548b8947cdb6cf3362316": {
     "model_module": "@jupyter-widgets/controls",
     "model_module_version": "1.5.0",
     "model_name": "DescriptionStyleModel",
     "state": {
      "_model_module": "@jupyter-widgets/controls",
      "_model_module_version": "1.5.0",
      "_model_name": "DescriptionStyleModel",
      "_view_count": null,
      "_view_module": "@jupyter-widgets/base",
      "_view_module_version": "1.2.0",
      "_view_name": "StyleView",
      "description_width": ""
     }
    },
    "548abf8ee8324e18b9667fd4d807947f": {
     "model_module": "@jupyter-widgets/controls",
     "model_module_version": "1.5.0",
     "model_name": "HBoxModel",
     "state": {
      "_dom_classes": [],
      "_model_module": "@jupyter-widgets/controls",
      "_model_module_version": "1.5.0",
      "_model_name": "HBoxModel",
      "_view_count": null,
      "_view_module": "@jupyter-widgets/controls",
      "_view_module_version": "1.5.0",
      "_view_name": "HBoxView",
      "box_style": "",
      "children": [
       "IPY_MODEL_de0b193dcef84d05a8904cffc2295c9b",
       "IPY_MODEL_2f7c2789b85f498b814eeded03d3fc03",
       "IPY_MODEL_00cf5115d05e48c5960e3760ab4ab7a9"
      ],
      "layout": "IPY_MODEL_6af7e424434e475eb6ff9f471726015b"
     }
    },
    "61471f4ea00d432085d3619c8d0b2dd8": {
     "model_module": "@jupyter-widgets/base",
     "model_module_version": "1.2.0",
     "model_name": "LayoutModel",
     "state": {
      "_model_module": "@jupyter-widgets/base",
      "_model_module_version": "1.2.0",
      "_model_name": "LayoutModel",
      "_view_count": null,
      "_view_module": "@jupyter-widgets/base",
      "_view_module_version": "1.2.0",
      "_view_name": "LayoutView",
      "align_content": null,
      "align_items": null,
      "align_self": null,
      "border": null,
      "bottom": null,
      "display": null,
      "flex": null,
      "flex_flow": null,
      "grid_area": null,
      "grid_auto_columns": null,
      "grid_auto_flow": null,
      "grid_auto_rows": null,
      "grid_column": null,
      "grid_gap": null,
      "grid_row": null,
      "grid_template_areas": null,
      "grid_template_columns": null,
      "grid_template_rows": null,
      "height": null,
      "justify_content": null,
      "justify_items": null,
      "left": null,
      "margin": null,
      "max_height": null,
      "max_width": null,
      "min_height": null,
      "min_width": null,
      "object_fit": null,
      "object_position": null,
      "order": null,
      "overflow": null,
      "overflow_x": null,
      "overflow_y": null,
      "padding": null,
      "right": null,
      "top": null,
      "visibility": null,
      "width": null
     }
    },
    "65089e1b850445ef9ba3d26a8d9fade0": {
     "model_module": "@jupyter-widgets/controls",
     "model_module_version": "1.5.0",
     "model_name": "DescriptionStyleModel",
     "state": {
      "_model_module": "@jupyter-widgets/controls",
      "_model_module_version": "1.5.0",
      "_model_name": "DescriptionStyleModel",
      "_view_count": null,
      "_view_module": "@jupyter-widgets/base",
      "_view_module_version": "1.2.0",
      "_view_name": "StyleView",
      "description_width": ""
     }
    },
    "66ea2dc18beb4385a463a26edaf5d745": {
     "model_module": "@jupyter-widgets/base",
     "model_module_version": "1.2.0",
     "model_name": "LayoutModel",
     "state": {
      "_model_module": "@jupyter-widgets/base",
      "_model_module_version": "1.2.0",
      "_model_name": "LayoutModel",
      "_view_count": null,
      "_view_module": "@jupyter-widgets/base",
      "_view_module_version": "1.2.0",
      "_view_name": "LayoutView",
      "align_content": null,
      "align_items": null,
      "align_self": null,
      "border": null,
      "bottom": null,
      "display": null,
      "flex": null,
      "flex_flow": null,
      "grid_area": null,
      "grid_auto_columns": null,
      "grid_auto_flow": null,
      "grid_auto_rows": null,
      "grid_column": null,
      "grid_gap": null,
      "grid_row": null,
      "grid_template_areas": null,
      "grid_template_columns": null,
      "grid_template_rows": null,
      "height": null,
      "justify_content": null,
      "justify_items": null,
      "left": null,
      "margin": null,
      "max_height": null,
      "max_width": null,
      "min_height": null,
      "min_width": null,
      "object_fit": null,
      "object_position": null,
      "order": null,
      "overflow": null,
      "overflow_x": null,
      "overflow_y": null,
      "padding": null,
      "right": null,
      "top": null,
      "visibility": null,
      "width": null
     }
    },
    "684c5265880d47fe89fe2f059b6e9b4c": {
     "model_module": "@jupyter-widgets/base",
     "model_module_version": "1.2.0",
     "model_name": "LayoutModel",
     "state": {
      "_model_module": "@jupyter-widgets/base",
      "_model_module_version": "1.2.0",
      "_model_name": "LayoutModel",
      "_view_count": null,
      "_view_module": "@jupyter-widgets/base",
      "_view_module_version": "1.2.0",
      "_view_name": "LayoutView",
      "align_content": null,
      "align_items": null,
      "align_self": null,
      "border": null,
      "bottom": null,
      "display": null,
      "flex": null,
      "flex_flow": null,
      "grid_area": null,
      "grid_auto_columns": null,
      "grid_auto_flow": null,
      "grid_auto_rows": null,
      "grid_column": null,
      "grid_gap": null,
      "grid_row": null,
      "grid_template_areas": null,
      "grid_template_columns": null,
      "grid_template_rows": null,
      "height": null,
      "justify_content": null,
      "justify_items": null,
      "left": null,
      "margin": null,
      "max_height": null,
      "max_width": null,
      "min_height": null,
      "min_width": null,
      "object_fit": null,
      "object_position": null,
      "order": null,
      "overflow": null,
      "overflow_x": null,
      "overflow_y": null,
      "padding": null,
      "right": null,
      "top": null,
      "visibility": null,
      "width": null
     }
    },
    "697193b4609d460d8f88938d026d6d88": {
     "model_module": "@jupyter-widgets/controls",
     "model_module_version": "1.5.0",
     "model_name": "HBoxModel",
     "state": {
      "_dom_classes": [],
      "_model_module": "@jupyter-widgets/controls",
      "_model_module_version": "1.5.0",
      "_model_name": "HBoxModel",
      "_view_count": null,
      "_view_module": "@jupyter-widgets/controls",
      "_view_module_version": "1.5.0",
      "_view_name": "HBoxView",
      "box_style": "",
      "children": [
       "IPY_MODEL_91882e886fce4510964b37a858f6d667",
       "IPY_MODEL_8e9684b6a61f4e1ea56a2d48dae89f08",
       "IPY_MODEL_3452a4d56f2c4212af0347108ae3121b"
      ],
      "layout": "IPY_MODEL_89dd8ed980be49b5b01245d9bb121c1a"
     }
    },
    "6af7e424434e475eb6ff9f471726015b": {
     "model_module": "@jupyter-widgets/base",
     "model_module_version": "1.2.0",
     "model_name": "LayoutModel",
     "state": {
      "_model_module": "@jupyter-widgets/base",
      "_model_module_version": "1.2.0",
      "_model_name": "LayoutModel",
      "_view_count": null,
      "_view_module": "@jupyter-widgets/base",
      "_view_module_version": "1.2.0",
      "_view_name": "LayoutView",
      "align_content": null,
      "align_items": null,
      "align_self": null,
      "border": null,
      "bottom": null,
      "display": null,
      "flex": null,
      "flex_flow": null,
      "grid_area": null,
      "grid_auto_columns": null,
      "grid_auto_flow": null,
      "grid_auto_rows": null,
      "grid_column": null,
      "grid_gap": null,
      "grid_row": null,
      "grid_template_areas": null,
      "grid_template_columns": null,
      "grid_template_rows": null,
      "height": null,
      "justify_content": null,
      "justify_items": null,
      "left": null,
      "margin": null,
      "max_height": null,
      "max_width": null,
      "min_height": null,
      "min_width": null,
      "object_fit": null,
      "object_position": null,
      "order": null,
      "overflow": null,
      "overflow_x": null,
      "overflow_y": null,
      "padding": null,
      "right": null,
      "top": null,
      "visibility": null,
      "width": null
     }
    },
    "6b8ac74774294a2f96b07f5378669e69": {
     "model_module": "@jupyter-widgets/base",
     "model_module_version": "1.2.0",
     "model_name": "LayoutModel",
     "state": {
      "_model_module": "@jupyter-widgets/base",
      "_model_module_version": "1.2.0",
      "_model_name": "LayoutModel",
      "_view_count": null,
      "_view_module": "@jupyter-widgets/base",
      "_view_module_version": "1.2.0",
      "_view_name": "LayoutView",
      "align_content": null,
      "align_items": null,
      "align_self": null,
      "border": null,
      "bottom": null,
      "display": null,
      "flex": null,
      "flex_flow": null,
      "grid_area": null,
      "grid_auto_columns": null,
      "grid_auto_flow": null,
      "grid_auto_rows": null,
      "grid_column": null,
      "grid_gap": null,
      "grid_row": null,
      "grid_template_areas": null,
      "grid_template_columns": null,
      "grid_template_rows": null,
      "height": null,
      "justify_content": null,
      "justify_items": null,
      "left": null,
      "margin": null,
      "max_height": null,
      "max_width": null,
      "min_height": null,
      "min_width": null,
      "object_fit": null,
      "object_position": null,
      "order": null,
      "overflow": null,
      "overflow_x": null,
      "overflow_y": null,
      "padding": null,
      "right": null,
      "top": null,
      "visibility": null,
      "width": null
     }
    },
    "79ffc0a2c785431eb0b8422f00cd090f": {
     "model_module": "@jupyter-widgets/base",
     "model_module_version": "1.2.0",
     "model_name": "LayoutModel",
     "state": {
      "_model_module": "@jupyter-widgets/base",
      "_model_module_version": "1.2.0",
      "_model_name": "LayoutModel",
      "_view_count": null,
      "_view_module": "@jupyter-widgets/base",
      "_view_module_version": "1.2.0",
      "_view_name": "LayoutView",
      "align_content": null,
      "align_items": null,
      "align_self": null,
      "border": null,
      "bottom": null,
      "display": null,
      "flex": null,
      "flex_flow": null,
      "grid_area": null,
      "grid_auto_columns": null,
      "grid_auto_flow": null,
      "grid_auto_rows": null,
      "grid_column": null,
      "grid_gap": null,
      "grid_row": null,
      "grid_template_areas": null,
      "grid_template_columns": null,
      "grid_template_rows": null,
      "height": null,
      "justify_content": null,
      "justify_items": null,
      "left": null,
      "margin": null,
      "max_height": null,
      "max_width": null,
      "min_height": null,
      "min_width": null,
      "object_fit": null,
      "object_position": null,
      "order": null,
      "overflow": null,
      "overflow_x": null,
      "overflow_y": null,
      "padding": null,
      "right": null,
      "top": null,
      "visibility": null,
      "width": null
     }
    },
    "840cba3dc0ec4697a5d7a6c99a8bdb4c": {
     "model_module": "@jupyter-widgets/base",
     "model_module_version": "1.2.0",
     "model_name": "LayoutModel",
     "state": {
      "_model_module": "@jupyter-widgets/base",
      "_model_module_version": "1.2.0",
      "_model_name": "LayoutModel",
      "_view_count": null,
      "_view_module": "@jupyter-widgets/base",
      "_view_module_version": "1.2.0",
      "_view_name": "LayoutView",
      "align_content": null,
      "align_items": null,
      "align_self": null,
      "border": null,
      "bottom": null,
      "display": null,
      "flex": null,
      "flex_flow": null,
      "grid_area": null,
      "grid_auto_columns": null,
      "grid_auto_flow": null,
      "grid_auto_rows": null,
      "grid_column": null,
      "grid_gap": null,
      "grid_row": null,
      "grid_template_areas": null,
      "grid_template_columns": null,
      "grid_template_rows": null,
      "height": null,
      "justify_content": null,
      "justify_items": null,
      "left": null,
      "margin": null,
      "max_height": null,
      "max_width": null,
      "min_height": null,
      "min_width": null,
      "object_fit": null,
      "object_position": null,
      "order": null,
      "overflow": null,
      "overflow_x": null,
      "overflow_y": null,
      "padding": null,
      "right": null,
      "top": null,
      "visibility": null,
      "width": null
     }
    },
    "89dd8ed980be49b5b01245d9bb121c1a": {
     "model_module": "@jupyter-widgets/base",
     "model_module_version": "1.2.0",
     "model_name": "LayoutModel",
     "state": {
      "_model_module": "@jupyter-widgets/base",
      "_model_module_version": "1.2.0",
      "_model_name": "LayoutModel",
      "_view_count": null,
      "_view_module": "@jupyter-widgets/base",
      "_view_module_version": "1.2.0",
      "_view_name": "LayoutView",
      "align_content": null,
      "align_items": null,
      "align_self": null,
      "border": null,
      "bottom": null,
      "display": null,
      "flex": null,
      "flex_flow": null,
      "grid_area": null,
      "grid_auto_columns": null,
      "grid_auto_flow": null,
      "grid_auto_rows": null,
      "grid_column": null,
      "grid_gap": null,
      "grid_row": null,
      "grid_template_areas": null,
      "grid_template_columns": null,
      "grid_template_rows": null,
      "height": null,
      "justify_content": null,
      "justify_items": null,
      "left": null,
      "margin": null,
      "max_height": null,
      "max_width": null,
      "min_height": null,
      "min_width": null,
      "object_fit": null,
      "object_position": null,
      "order": null,
      "overflow": null,
      "overflow_x": null,
      "overflow_y": null,
      "padding": null,
      "right": null,
      "top": null,
      "visibility": null,
      "width": null
     }
    },
    "8e9684b6a61f4e1ea56a2d48dae89f08": {
     "model_module": "@jupyter-widgets/controls",
     "model_module_version": "1.5.0",
     "model_name": "FloatProgressModel",
     "state": {
      "_dom_classes": [],
      "_model_module": "@jupyter-widgets/controls",
      "_model_module_version": "1.5.0",
      "_model_name": "FloatProgressModel",
      "_view_count": null,
      "_view_module": "@jupyter-widgets/controls",
      "_view_module_version": "1.5.0",
      "_view_name": "ProgressView",
      "bar_style": "success",
      "description": "",
      "description_tooltip": null,
      "layout": "IPY_MODEL_9d94520365a74f8ba2c78fd804ba6ccc",
      "max": 29000,
      "min": 0,
      "orientation": "horizontal",
      "style": "IPY_MODEL_995a070e0db444a59bd5390e8251ac1b",
      "value": 29000
     }
    },
    "8f654dbc3c2146438483faf954e77d2a": {
     "model_module": "@jupyter-widgets/base",
     "model_module_version": "1.2.0",
     "model_name": "LayoutModel",
     "state": {
      "_model_module": "@jupyter-widgets/base",
      "_model_module_version": "1.2.0",
      "_model_name": "LayoutModel",
      "_view_count": null,
      "_view_module": "@jupyter-widgets/base",
      "_view_module_version": "1.2.0",
      "_view_name": "LayoutView",
      "align_content": null,
      "align_items": null,
      "align_self": null,
      "border": null,
      "bottom": null,
      "display": null,
      "flex": null,
      "flex_flow": null,
      "grid_area": null,
      "grid_auto_columns": null,
      "grid_auto_flow": null,
      "grid_auto_rows": null,
      "grid_column": null,
      "grid_gap": null,
      "grid_row": null,
      "grid_template_areas": null,
      "grid_template_columns": null,
      "grid_template_rows": null,
      "height": null,
      "justify_content": null,
      "justify_items": null,
      "left": null,
      "margin": null,
      "max_height": null,
      "max_width": null,
      "min_height": null,
      "min_width": null,
      "object_fit": null,
      "object_position": null,
      "order": null,
      "overflow": null,
      "overflow_x": null,
      "overflow_y": null,
      "padding": null,
      "right": null,
      "top": null,
      "visibility": null,
      "width": null
     }
    },
    "91882e886fce4510964b37a858f6d667": {
     "model_module": "@jupyter-widgets/controls",
     "model_module_version": "1.5.0",
     "model_name": "HTMLModel",
     "state": {
      "_dom_classes": [],
      "_model_module": "@jupyter-widgets/controls",
      "_model_module_version": "1.5.0",
      "_model_name": "HTMLModel",
      "_view_count": null,
      "_view_module": "@jupyter-widgets/controls",
      "_view_module_version": "1.5.0",
      "_view_name": "HTMLView",
      "description": "",
      "description_tooltip": null,
      "layout": "IPY_MODEL_9b162c1da0794b408c674da665eb01d8",
      "placeholder": "​",
      "style": "IPY_MODEL_01e40a73fe124df6a0db91d5b7b3598a",
      "value": "Map: 100%"
     }
    },
    "94f4567131b448f1a411b9cfb74ab961": {
     "model_module": "@jupyter-widgets/base",
     "model_module_version": "1.2.0",
     "model_name": "LayoutModel",
     "state": {
      "_model_module": "@jupyter-widgets/base",
      "_model_module_version": "1.2.0",
      "_model_name": "LayoutModel",
      "_view_count": null,
      "_view_module": "@jupyter-widgets/base",
      "_view_module_version": "1.2.0",
      "_view_name": "LayoutView",
      "align_content": null,
      "align_items": null,
      "align_self": null,
      "border": null,
      "bottom": null,
      "display": null,
      "flex": null,
      "flex_flow": null,
      "grid_area": null,
      "grid_auto_columns": null,
      "grid_auto_flow": null,
      "grid_auto_rows": null,
      "grid_column": null,
      "grid_gap": null,
      "grid_row": null,
      "grid_template_areas": null,
      "grid_template_columns": null,
      "grid_template_rows": null,
      "height": null,
      "justify_content": null,
      "justify_items": null,
      "left": null,
      "margin": null,
      "max_height": null,
      "max_width": null,
      "min_height": null,
      "min_width": null,
      "object_fit": null,
      "object_position": null,
      "order": null,
      "overflow": null,
      "overflow_x": null,
      "overflow_y": null,
      "padding": null,
      "right": null,
      "top": null,
      "visibility": null,
      "width": null
     }
    },
    "995a070e0db444a59bd5390e8251ac1b": {
     "model_module": "@jupyter-widgets/controls",
     "model_module_version": "1.5.0",
     "model_name": "ProgressStyleModel",
     "state": {
      "_model_module": "@jupyter-widgets/controls",
      "_model_module_version": "1.5.0",
      "_model_name": "ProgressStyleModel",
      "_view_count": null,
      "_view_module": "@jupyter-widgets/base",
      "_view_module_version": "1.2.0",
      "_view_name": "StyleView",
      "bar_color": null,
      "description_width": ""
     }
    },
    "9b162c1da0794b408c674da665eb01d8": {
     "model_module": "@jupyter-widgets/base",
     "model_module_version": "1.2.0",
     "model_name": "LayoutModel",
     "state": {
      "_model_module": "@jupyter-widgets/base",
      "_model_module_version": "1.2.0",
      "_model_name": "LayoutModel",
      "_view_count": null,
      "_view_module": "@jupyter-widgets/base",
      "_view_module_version": "1.2.0",
      "_view_name": "LayoutView",
      "align_content": null,
      "align_items": null,
      "align_self": null,
      "border": null,
      "bottom": null,
      "display": null,
      "flex": null,
      "flex_flow": null,
      "grid_area": null,
      "grid_auto_columns": null,
      "grid_auto_flow": null,
      "grid_auto_rows": null,
      "grid_column": null,
      "grid_gap": null,
      "grid_row": null,
      "grid_template_areas": null,
      "grid_template_columns": null,
      "grid_template_rows": null,
      "height": null,
      "justify_content": null,
      "justify_items": null,
      "left": null,
      "margin": null,
      "max_height": null,
      "max_width": null,
      "min_height": null,
      "min_width": null,
      "object_fit": null,
      "object_position": null,
      "order": null,
      "overflow": null,
      "overflow_x": null,
      "overflow_y": null,
      "padding": null,
      "right": null,
      "top": null,
      "visibility": null,
      "width": null
     }
    },
    "9d94520365a74f8ba2c78fd804ba6ccc": {
     "model_module": "@jupyter-widgets/base",
     "model_module_version": "1.2.0",
     "model_name": "LayoutModel",
     "state": {
      "_model_module": "@jupyter-widgets/base",
      "_model_module_version": "1.2.0",
      "_model_name": "LayoutModel",
      "_view_count": null,
      "_view_module": "@jupyter-widgets/base",
      "_view_module_version": "1.2.0",
      "_view_name": "LayoutView",
      "align_content": null,
      "align_items": null,
      "align_self": null,
      "border": null,
      "bottom": null,
      "display": null,
      "flex": null,
      "flex_flow": null,
      "grid_area": null,
      "grid_auto_columns": null,
      "grid_auto_flow": null,
      "grid_auto_rows": null,
      "grid_column": null,
      "grid_gap": null,
      "grid_row": null,
      "grid_template_areas": null,
      "grid_template_columns": null,
      "grid_template_rows": null,
      "height": null,
      "justify_content": null,
      "justify_items": null,
      "left": null,
      "margin": null,
      "max_height": null,
      "max_width": null,
      "min_height": null,
      "min_width": null,
      "object_fit": null,
      "object_position": null,
      "order": null,
      "overflow": null,
      "overflow_x": null,
      "overflow_y": null,
      "padding": null,
      "right": null,
      "top": null,
      "visibility": null,
      "width": null
     }
    },
    "a3a3f3ecb99f43c0a4f665b2dafb0946": {
     "model_module": "@jupyter-widgets/controls",
     "model_module_version": "1.5.0",
     "model_name": "DescriptionStyleModel",
     "state": {
      "_model_module": "@jupyter-widgets/controls",
      "_model_module_version": "1.5.0",
      "_model_name": "DescriptionStyleModel",
      "_view_count": null,
      "_view_module": "@jupyter-widgets/base",
      "_view_module_version": "1.2.0",
      "_view_name": "StyleView",
      "description_width": ""
     }
    },
    "a8d466266bfb4e9f87b4188cb3ee8387": {
     "model_module": "@jupyter-widgets/controls",
     "model_module_version": "1.5.0",
     "model_name": "HTMLModel",
     "state": {
      "_dom_classes": [],
      "_model_module": "@jupyter-widgets/controls",
      "_model_module_version": "1.5.0",
      "_model_name": "HTMLModel",
      "_view_count": null,
      "_view_module": "@jupyter-widgets/controls",
      "_view_module_version": "1.5.0",
      "_view_name": "HTMLView",
      "description": "",
      "description_tooltip": null,
      "layout": "IPY_MODEL_66ea2dc18beb4385a463a26edaf5d745",
      "placeholder": "​",
      "style": "IPY_MODEL_65089e1b850445ef9ba3d26a8d9fade0",
      "value": "Map: 100%"
     }
    },
    "aafb6cc3080443f2b24a490a4cd10239": {
     "model_module": "@jupyter-widgets/base",
     "model_module_version": "1.2.0",
     "model_name": "LayoutModel",
     "state": {
      "_model_module": "@jupyter-widgets/base",
      "_model_module_version": "1.2.0",
      "_model_name": "LayoutModel",
      "_view_count": null,
      "_view_module": "@jupyter-widgets/base",
      "_view_module_version": "1.2.0",
      "_view_name": "LayoutView",
      "align_content": null,
      "align_items": null,
      "align_self": null,
      "border": null,
      "bottom": null,
      "display": null,
      "flex": null,
      "flex_flow": null,
      "grid_area": null,
      "grid_auto_columns": null,
      "grid_auto_flow": null,
      "grid_auto_rows": null,
      "grid_column": null,
      "grid_gap": null,
      "grid_row": null,
      "grid_template_areas": null,
      "grid_template_columns": null,
      "grid_template_rows": null,
      "height": null,
      "justify_content": null,
      "justify_items": null,
      "left": null,
      "margin": null,
      "max_height": null,
      "max_width": null,
      "min_height": null,
      "min_width": null,
      "object_fit": null,
      "object_position": null,
      "order": null,
      "overflow": null,
      "overflow_x": null,
      "overflow_y": null,
      "padding": null,
      "right": null,
      "top": null,
      "visibility": null,
      "width": null
     }
    },
    "afa8006647d74b3db12e43297cb88b06": {
     "model_module": "@jupyter-widgets/base",
     "model_module_version": "1.2.0",
     "model_name": "LayoutModel",
     "state": {
      "_model_module": "@jupyter-widgets/base",
      "_model_module_version": "1.2.0",
      "_model_name": "LayoutModel",
      "_view_count": null,
      "_view_module": "@jupyter-widgets/base",
      "_view_module_version": "1.2.0",
      "_view_name": "LayoutView",
      "align_content": null,
      "align_items": null,
      "align_self": null,
      "border": null,
      "bottom": null,
      "display": null,
      "flex": null,
      "flex_flow": null,
      "grid_area": null,
      "grid_auto_columns": null,
      "grid_auto_flow": null,
      "grid_auto_rows": null,
      "grid_column": null,
      "grid_gap": null,
      "grid_row": null,
      "grid_template_areas": null,
      "grid_template_columns": null,
      "grid_template_rows": null,
      "height": null,
      "justify_content": null,
      "justify_items": null,
      "left": null,
      "margin": null,
      "max_height": null,
      "max_width": null,
      "min_height": null,
      "min_width": null,
      "object_fit": null,
      "object_position": null,
      "order": null,
      "overflow": null,
      "overflow_x": null,
      "overflow_y": null,
      "padding": null,
      "right": null,
      "top": null,
      "visibility": null,
      "width": null
     }
    },
    "b173ad491fd5451db92ad6f3b272924a": {
     "model_module": "@jupyter-widgets/controls",
     "model_module_version": "1.5.0",
     "model_name": "DescriptionStyleModel",
     "state": {
      "_model_module": "@jupyter-widgets/controls",
      "_model_module_version": "1.5.0",
      "_model_name": "DescriptionStyleModel",
      "_view_count": null,
      "_view_module": "@jupyter-widgets/base",
      "_view_module_version": "1.2.0",
      "_view_name": "StyleView",
      "description_width": ""
     }
    },
    "b3f47dcacaaf491bb7c0867f5197d16f": {
     "model_module": "@jupyter-widgets/controls",
     "model_module_version": "1.5.0",
     "model_name": "HTMLModel",
     "state": {
      "_dom_classes": [],
      "_model_module": "@jupyter-widgets/controls",
      "_model_module_version": "1.5.0",
      "_model_name": "HTMLModel",
      "_view_count": null,
      "_view_module": "@jupyter-widgets/controls",
      "_view_module_version": "1.5.0",
      "_view_name": "HTMLView",
      "description": "",
      "description_tooltip": null,
      "layout": "IPY_MODEL_aafb6cc3080443f2b24a490a4cd10239",
      "placeholder": "​",
      "style": "IPY_MODEL_53a56c052ebf46ddbdfb8dfc66b68cbf",
      "value": " 29000/29000 [00:13&lt;00:00, 2797.89 examples/s]"
     }
    },
    "bcacebc7a43648fc90db8da7a69e0a45": {
     "model_module": "@jupyter-widgets/base",
     "model_module_version": "1.2.0",
     "model_name": "LayoutModel",
     "state": {
      "_model_module": "@jupyter-widgets/base",
      "_model_module_version": "1.2.0",
      "_model_name": "LayoutModel",
      "_view_count": null,
      "_view_module": "@jupyter-widgets/base",
      "_view_module_version": "1.2.0",
      "_view_name": "LayoutView",
      "align_content": null,
      "align_items": null,
      "align_self": null,
      "border": null,
      "bottom": null,
      "display": null,
      "flex": null,
      "flex_flow": null,
      "grid_area": null,
      "grid_auto_columns": null,
      "grid_auto_flow": null,
      "grid_auto_rows": null,
      "grid_column": null,
      "grid_gap": null,
      "grid_row": null,
      "grid_template_areas": null,
      "grid_template_columns": null,
      "grid_template_rows": null,
      "height": null,
      "justify_content": null,
      "justify_items": null,
      "left": null,
      "margin": null,
      "max_height": null,
      "max_width": null,
      "min_height": null,
      "min_width": null,
      "object_fit": null,
      "object_position": null,
      "order": null,
      "overflow": null,
      "overflow_x": null,
      "overflow_y": null,
      "padding": null,
      "right": null,
      "top": null,
      "visibility": null,
      "width": null
     }
    },
    "bd0f5a4daf094b4eb2b89c3b4ae44744": {
     "model_module": "@jupyter-widgets/controls",
     "model_module_version": "1.5.0",
     "model_name": "HBoxModel",
     "state": {
      "_dom_classes": [],
      "_model_module": "@jupyter-widgets/controls",
      "_model_module_version": "1.5.0",
      "_model_name": "HBoxModel",
      "_view_count": null,
      "_view_module": "@jupyter-widgets/controls",
      "_view_module_version": "1.5.0",
      "_view_name": "HBoxView",
      "box_style": "",
      "children": [
       "IPY_MODEL_a8d466266bfb4e9f87b4188cb3ee8387",
       "IPY_MODEL_0d78be632a10498fa085c418d4eb8d42",
       "IPY_MODEL_1766f2fd7997424faed2cc3aa52bea85"
      ],
      "layout": "IPY_MODEL_3d21c0e1bc104c279a6ee5a0e49774b5"
     }
    },
    "bf71642b73b64da18ba0df4b30ed91d9": {
     "model_module": "@jupyter-widgets/controls",
     "model_module_version": "1.5.0",
     "model_name": "DescriptionStyleModel",
     "state": {
      "_model_module": "@jupyter-widgets/controls",
      "_model_module_version": "1.5.0",
      "_model_name": "DescriptionStyleModel",
      "_view_count": null,
      "_view_module": "@jupyter-widgets/base",
      "_view_module_version": "1.2.0",
      "_view_name": "StyleView",
      "description_width": ""
     }
    },
    "cc9b3b7746cd4bcf8d2c89df4260a43f": {
     "model_module": "@jupyter-widgets/controls",
     "model_module_version": "1.5.0",
     "model_name": "ProgressStyleModel",
     "state": {
      "_model_module": "@jupyter-widgets/controls",
      "_model_module_version": "1.5.0",
      "_model_name": "ProgressStyleModel",
      "_view_count": null,
      "_view_module": "@jupyter-widgets/base",
      "_view_module_version": "1.2.0",
      "_view_name": "StyleView",
      "bar_color": null,
      "description_width": ""
     }
    },
    "cdb0284dc53247cab26880f1335c9e67": {
     "model_module": "@jupyter-widgets/controls",
     "model_module_version": "1.5.0",
     "model_name": "ProgressStyleModel",
     "state": {
      "_model_module": "@jupyter-widgets/controls",
      "_model_module_version": "1.5.0",
      "_model_name": "ProgressStyleModel",
      "_view_count": null,
      "_view_module": "@jupyter-widgets/base",
      "_view_module_version": "1.2.0",
      "_view_name": "StyleView",
      "bar_color": null,
      "description_width": ""
     }
    },
    "d057bb7faff04441be59a7e4cc6fe97e": {
     "model_module": "@jupyter-widgets/controls",
     "model_module_version": "1.5.0",
     "model_name": "DescriptionStyleModel",
     "state": {
      "_model_module": "@jupyter-widgets/controls",
      "_model_module_version": "1.5.0",
      "_model_name": "DescriptionStyleModel",
      "_view_count": null,
      "_view_module": "@jupyter-widgets/base",
      "_view_module_version": "1.2.0",
      "_view_name": "StyleView",
      "description_width": ""
     }
    },
    "d53014da414c4104ab39863e52e571da": {
     "model_module": "@jupyter-widgets/controls",
     "model_module_version": "1.5.0",
     "model_name": "HBoxModel",
     "state": {
      "_dom_classes": [],
      "_model_module": "@jupyter-widgets/controls",
      "_model_module_version": "1.5.0",
      "_model_name": "HBoxModel",
      "_view_count": null,
      "_view_module": "@jupyter-widgets/controls",
      "_view_module_version": "1.5.0",
      "_view_name": "HBoxView",
      "box_style": "",
      "children": [
       "IPY_MODEL_e2d16d8f9c0243899ceee0fc676e2622",
       "IPY_MODEL_2850e382d1ca4c539d2c93232e8dea12",
       "IPY_MODEL_fa9fbd69bc9142fbb495e7a0f81d87e5"
      ],
      "layout": "IPY_MODEL_61471f4ea00d432085d3619c8d0b2dd8"
     }
    },
    "d68a1cd2131748d8bfce02e3317df151": {
     "model_module": "@jupyter-widgets/controls",
     "model_module_version": "1.5.0",
     "model_name": "HBoxModel",
     "state": {
      "_dom_classes": [],
      "_model_module": "@jupyter-widgets/controls",
      "_model_module_version": "1.5.0",
      "_model_name": "HBoxModel",
      "_view_count": null,
      "_view_module": "@jupyter-widgets/controls",
      "_view_module_version": "1.5.0",
      "_view_name": "HBoxView",
      "box_style": "",
      "children": [
       "IPY_MODEL_4d7cbd0017cd4b2ba20971165c7208f0",
       "IPY_MODEL_0e624910656841e288fe6947b736e399",
       "IPY_MODEL_1dfc0b1587554422b4f6d809dc525694"
      ],
      "layout": "IPY_MODEL_684c5265880d47fe89fe2f059b6e9b4c"
     }
    },
    "de0b193dcef84d05a8904cffc2295c9b": {
     "model_module": "@jupyter-widgets/controls",
     "model_module_version": "1.5.0",
     "model_name": "HTMLModel",
     "state": {
      "_dom_classes": [],
      "_model_module": "@jupyter-widgets/controls",
      "_model_module_version": "1.5.0",
      "_model_name": "HTMLModel",
      "_view_count": null,
      "_view_module": "@jupyter-widgets/controls",
      "_view_module_version": "1.5.0",
      "_view_name": "HTMLView",
      "description": "",
      "description_tooltip": null,
      "layout": "IPY_MODEL_8f654dbc3c2146438483faf954e77d2a",
      "placeholder": "​",
      "style": "IPY_MODEL_bf71642b73b64da18ba0df4b30ed91d9",
      "value": "Map: 100%"
     }
    },
    "e0798454d2a945af8f56fa82d458a7ef": {
     "model_module": "@jupyter-widgets/base",
     "model_module_version": "1.2.0",
     "model_name": "LayoutModel",
     "state": {
      "_model_module": "@jupyter-widgets/base",
      "_model_module_version": "1.2.0",
      "_model_name": "LayoutModel",
      "_view_count": null,
      "_view_module": "@jupyter-widgets/base",
      "_view_module_version": "1.2.0",
      "_view_name": "LayoutView",
      "align_content": null,
      "align_items": null,
      "align_self": null,
      "border": null,
      "bottom": null,
      "display": null,
      "flex": null,
      "flex_flow": null,
      "grid_area": null,
      "grid_auto_columns": null,
      "grid_auto_flow": null,
      "grid_auto_rows": null,
      "grid_column": null,
      "grid_gap": null,
      "grid_row": null,
      "grid_template_areas": null,
      "grid_template_columns": null,
      "grid_template_rows": null,
      "height": null,
      "justify_content": null,
      "justify_items": null,
      "left": null,
      "margin": null,
      "max_height": null,
      "max_width": null,
      "min_height": null,
      "min_width": null,
      "object_fit": null,
      "object_position": null,
      "order": null,
      "overflow": null,
      "overflow_x": null,
      "overflow_y": null,
      "padding": null,
      "right": null,
      "top": null,
      "visibility": null,
      "width": null
     }
    },
    "e2d16d8f9c0243899ceee0fc676e2622": {
     "model_module": "@jupyter-widgets/controls",
     "model_module_version": "1.5.0",
     "model_name": "HTMLModel",
     "state": {
      "_dom_classes": [],
      "_model_module": "@jupyter-widgets/controls",
      "_model_module_version": "1.5.0",
      "_model_name": "HTMLModel",
      "_view_count": null,
      "_view_module": "@jupyter-widgets/controls",
      "_view_module_version": "1.5.0",
      "_view_name": "HTMLView",
      "description": "",
      "description_tooltip": null,
      "layout": "IPY_MODEL_1f797fd4f47e4ab0b3fd6650d4ae2781",
      "placeholder": "​",
      "style": "IPY_MODEL_b173ad491fd5451db92ad6f3b272924a",
      "value": "Filter: 100%"
     }
    },
    "e81a5925b99947929835068151633afc": {
     "model_module": "@jupyter-widgets/base",
     "model_module_version": "1.2.0",
     "model_name": "LayoutModel",
     "state": {
      "_model_module": "@jupyter-widgets/base",
      "_model_module_version": "1.2.0",
      "_model_name": "LayoutModel",
      "_view_count": null,
      "_view_module": "@jupyter-widgets/base",
      "_view_module_version": "1.2.0",
      "_view_name": "LayoutView",
      "align_content": null,
      "align_items": null,
      "align_self": null,
      "border": null,
      "bottom": null,
      "display": null,
      "flex": null,
      "flex_flow": null,
      "grid_area": null,
      "grid_auto_columns": null,
      "grid_auto_flow": null,
      "grid_auto_rows": null,
      "grid_column": null,
      "grid_gap": null,
      "grid_row": null,
      "grid_template_areas": null,
      "grid_template_columns": null,
      "grid_template_rows": null,
      "height": null,
      "justify_content": null,
      "justify_items": null,
      "left": null,
      "margin": null,
      "max_height": null,
      "max_width": null,
      "min_height": null,
      "min_width": null,
      "object_fit": null,
      "object_position": null,
      "order": null,
      "overflow": null,
      "overflow_x": null,
      "overflow_y": null,
      "padding": null,
      "right": null,
      "top": null,
      "visibility": null,
      "width": null
     }
    },
    "e85d9832db93406d95e7d49aa217588a": {
     "model_module": "@jupyter-widgets/controls",
     "model_module_version": "1.5.0",
     "model_name": "ProgressStyleModel",
     "state": {
      "_model_module": "@jupyter-widgets/controls",
      "_model_module_version": "1.5.0",
      "_model_name": "ProgressStyleModel",
      "_view_count": null,
      "_view_module": "@jupyter-widgets/base",
      "_view_module_version": "1.2.0",
      "_view_name": "StyleView",
      "bar_color": null,
      "description_width": ""
     }
    },
    "fa9fbd69bc9142fbb495e7a0f81d87e5": {
     "model_module": "@jupyter-widgets/controls",
     "model_module_version": "1.5.0",
     "model_name": "HTMLModel",
     "state": {
      "_dom_classes": [],
      "_model_module": "@jupyter-widgets/controls",
      "_model_module_version": "1.5.0",
      "_model_name": "HTMLModel",
      "_view_count": null,
      "_view_module": "@jupyter-widgets/controls",
      "_view_module_version": "1.5.0",
      "_view_name": "HTMLView",
      "description": "",
      "description_tooltip": null,
      "layout": "IPY_MODEL_840cba3dc0ec4697a5d7a6c99a8bdb4c",
      "placeholder": "​",
      "style": "IPY_MODEL_49667ada146f45b7b433a4da275cb448",
      "value": " 1014/1014 [00:00&lt;00:00, 2816.85 examples/s]"
     }
    },
    "fbbcf156990840f3940270d5fdcf68a4": {
     "model_module": "@jupyter-widgets/controls",
     "model_module_version": "1.5.0",
     "model_name": "ProgressStyleModel",
     "state": {
      "_model_module": "@jupyter-widgets/controls",
      "_model_module_version": "1.5.0",
      "_model_name": "ProgressStyleModel",
      "_view_count": null,
      "_view_module": "@jupyter-widgets/base",
      "_view_module_version": "1.2.0",
      "_view_name": "StyleView",
      "bar_color": null,
      "description_width": ""
     }
    }
   }
  }
 },
 "nbformat": 4,
 "nbformat_minor": 0
}
