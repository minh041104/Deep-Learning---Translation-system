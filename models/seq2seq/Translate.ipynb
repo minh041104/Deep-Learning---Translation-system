{
  "cells": [
    {
      "cell_type": "code",
      "execution_count": 7,
      "metadata": {
        "id": "pWO4Ok6X-nG-"
      },
      "outputs": [],
      "source": [
        "from utils.preprocessor import *\n",
        "import contractions\n",
        "import spacy\n",
        "from utils.model import Encoder, DecoderAttn\n",
        "from utils.train import training\n",
        "from utils.evaluate import evaluateRandom, translate_sentence, calcBLEU, calcMetrics, calcMetrics\n",
        "import torch\n",
        "import torch.nn as nn\n",
        "from torch import optim"
      ]
    },
    {
      "cell_type": "code",
      "execution_count": 8,
      "metadata": {
        "colab": {
          "base_uri": "https://localhost:8080/"
        },
        "id": "OviXf2m1-oUM",
        "outputId": "2ca2c66f-8e76-446c-e891-d7601f7cfc4b"
      },
      "outputs": [
        {
          "name": "stdout",
          "output_type": "stream",
          "text": [
            "cuda\n"
          ]
        }
      ],
      "source": [
        "device = torch.device(\"cuda\" if torch.cuda.is_available() else \"cpu\")\n",
        "print(device)"
      ]
    },
    {
      "cell_type": "code",
      "execution_count": 9,
      "metadata": {
        "colab": {
          "base_uri": "https://localhost:8080/"
        },
        "id": "BpbYGD-W-qYG",
        "outputId": "57d3663a-07a2-4530-fe6a-fd5e26aab321"
      },
      "outputs": [
        {
          "name": "stdout",
          "output_type": "stream",
          "text": [
            "Dataset({\n",
            "    features: ['en', 'vi'],\n",
            "    num_rows: 29000\n",
            "}) Dataset({\n",
            "    features: ['en', 'vi'],\n",
            "    num_rows: 1014\n",
            "}) Dataset({\n",
            "    features: ['en', 'vi'],\n",
            "    num_rows: 1000\n",
            "})\n"
          ]
        }
      ],
      "source": [
        "root_path = \"data\"\n",
        "train_data, test_data, val_data = get_dataset(\"train.txt\", root_path=root_path),\\\n",
        "                            get_dataset(\"test.txt\", root_path=root_path),\\\n",
        "                            get_dataset(\"validation.txt\", root_path)\n",
        "print(train_data, val_data, test_data)"
      ]
    },
    {
      "cell_type": "markdown",
      "metadata": {
        "id": "w06yEjYfNeaj"
      },
      "source": [
        "#**Tiền xử lý**#"
      ]
    },
    {
      "cell_type": "code",
      "execution_count": 10,
      "metadata": {
        "id": "vs_isANf-vsD"
      },
      "outputs": [],
      "source": [
        "lst_check = \"‘’“”…—\"\n",
        "for char in lst_check:\n",
        "    for x in train_data['vi']:\n",
        "        a = x.count(char)\n",
        "        if a > 0 and a % 2 == 0:\n",
        "            print(x)\n",
        "    for x in train_data['en']:\n",
        "        a = x.count(char)\n",
        "        if a > 0 and a % 2 == 0:\n",
        "            print(x)"
      ]
    },
    {
      "cell_type": "code",
      "execution_count": 11,
      "metadata": {
        "colab": {
          "base_uri": "https://localhost:8080/",
          "height": 113,
          "referenced_widgets": [
            "b4520fd0b0ba48b0a4feab5d0c332184",
            "06c2435d7ee0448c8aa92474d88e17c5",
            "11654277491b4b81940dc104f9324e2f",
            "cc936d5c6cdc421f8ac569ff4ca45168",
            "32329560a4c54aff90dfbdbec1aba9cc",
            "b1888376fbe044488dcd4e2d0977d3c1",
            "64b72743845243169b0ba9cec5b96fbc",
            "b72dbd740e5f4e5eb30331ccc5b569c1",
            "0463390e7e67493c827148ba9f7bb74b",
            "5af85d8de2774d11b23783e61ee3dac6",
            "78236dc7f83d4485800b2d12407cfa10",
            "46bf2792bd9643358e39f03bb99c2d07",
            "683a5b3ff968477ea6fc935a10da0ca3",
            "b371acf9798c4b7291e86aac3fafe6dd",
            "c61c8a586c97437aae1dbbe689ddc24a",
            "c747c096f09d424197575a20d8c9923c",
            "cd5d2e104944434e8bd0b89b7cf36992",
            "3c255262343146aa9d160875f2c14f63",
            "f773cd8bb0014055b42563c202c05460",
            "1dca38375dc740b6b1444aaa8975ad8d",
            "1c4e26e6aaff458eb86b6fcc32d9abf1",
            "ca055e2710074bf78ee7e3ba20f17575",
            "fe374b209beb4d0bb484b986d9266239",
            "f6ee682381a5415ba18b78cec41d50e1",
            "2dd230e3407e43c0b7bfe3aacf41b3e4",
            "54efbedd160b417090b9b01841db3c0f",
            "a818eee9297f4a8fac5d4507c150dc95",
            "a5437a303a41408db2a6584b633c0fee",
            "e85a6feccbe64b918741e985869f4a7c",
            "bdd5b424b1b64f81981d724562bde707",
            "5bb8b282ae3b4dabad182d47aad87886",
            "6091949ff5ce4747939913a17facb558",
            "06763c705e9b454aabc2e23559afef66"
          ]
        },
        "id": "2uFo3G7q-xMc",
        "outputId": "bcd82179-fc08-4ed1-cfbf-373171ae0b33"
      },
      "outputs": [
        {
          "data": {
            "application/vnd.jupyter.widget-view+json": {
              "model_id": "b4520fd0b0ba48b0a4feab5d0c332184",
              "version_major": 2,
              "version_minor": 0
            },
            "text/plain": [
              "Map:   0%|          | 0/29000 [00:00<?, ? examples/s]"
            ]
          },
          "metadata": {},
          "output_type": "display_data"
        },
        {
          "data": {
            "application/vnd.jupyter.widget-view+json": {
              "model_id": "46bf2792bd9643358e39f03bb99c2d07",
              "version_major": 2,
              "version_minor": 0
            },
            "text/plain": [
              "Map:   0%|          | 0/1000 [00:00<?, ? examples/s]"
            ]
          },
          "metadata": {},
          "output_type": "display_data"
        },
        {
          "data": {
            "application/vnd.jupyter.widget-view+json": {
              "model_id": "fe374b209beb4d0bb484b986d9266239",
              "version_major": 2,
              "version_minor": 0
            },
            "text/plain": [
              "Map:   0%|          | 0/1014 [00:00<?, ? examples/s]"
            ]
          },
          "metadata": {},
          "output_type": "display_data"
        }
      ],
      "source": [
        "def update_contractions(text):\n",
        "    # slang = False !\n",
        "    return contractions.fix(text, slang=False)\n",
        "def remove_char_quotes(text):\n",
        "    rs = text\n",
        "    cnt1, cnt2 = text.count('\"'), text.count(\"'\")\n",
        "    if cnt1 > 0 and cnt1 % 2 == 0:\n",
        "        rs = text.replace('\"','')\n",
        "    if cnt2 > 0 and cnt2 % 2 == 0:\n",
        "        rs = text.replace(\"'\", '')\n",
        "    return rs\n",
        "def processing(texts):\n",
        "    texts['en'], texts['vi'] = [remove_char_quotes(update_contractions(t)).lower().strip() for t in [texts['en'], texts['vi']]]\n",
        "    return texts\n",
        "train_data = train_data.map(processing)\n",
        "test_data = test_data.map(processing)\n",
        "val_data = val_data.map(processing)"
      ]
    },
    {
      "cell_type": "code",
      "execution_count": 12,
      "metadata": {
        "colab": {
          "base_uri": "https://localhost:8080/"
        },
        "id": "4P5HTbSH-yF8",
        "outputId": "127151f0-7a7d-4145-87f4-0e3834d80d3b"
      },
      "outputs": [
        {
          "data": {
            "text/plain": [
              "{'en': 'two young, white males are outside near many bushes.',\n",
              " 'vi': 'hai thanh niên da trắng ở bên ngoài gần nhiều bụi cây.'}"
            ]
          },
          "execution_count": 12,
          "metadata": {},
          "output_type": "execute_result"
        }
      ],
      "source": [
        "train_data[0]"
      ]
    },
    {
      "cell_type": "code",
      "execution_count": 13,
      "metadata": {
        "id": "DT9FP2Vb-y7P"
      },
      "outputs": [],
      "source": [
        "sos_token = 0\n",
        "eos_token = 1\n",
        "unk_token = 2\n",
        "max_length = 25"
      ]
    },
    {
      "cell_type": "code",
      "execution_count": 14,
      "metadata": {
        "id": "hz-YTjsy-z35"
      },
      "outputs": [],
      "source": [
        "en_nlp = spacy.blank(\"en\")\n",
        "vi_nlp = spacy.blank('vi')"
      ]
    },
    {
      "cell_type": "code",
      "execution_count": 15,
      "metadata": {
        "colab": {
          "base_uri": "https://localhost:8080/",
          "height": 113,
          "referenced_widgets": [
            "5952ea176f67485d96a4be7a4bd16726",
            "41c8c123bf3d49788a53e3f4e63cae4a",
            "944f1e584eca459c986c695c9d03cebd",
            "5810e68732c34de49e297f3788b70607",
            "2a749609e22447e18b57589f87c2eddc",
            "7aa84d14a68645d18df91b2b47f04f46",
            "6c9791f56d8c43a1a3fb848d7d091407",
            "1b5c9084d4b4459180a2a76442619c60",
            "24741635acbc4fccae104800cc2444e4",
            "aaa0842c8b42481cb4fd5b893bf2a3e3",
            "380bad2767ab4556b3e42771395ee442",
            "43f5b4366f024cfd955a974f41dc82ad",
            "56066c76fca8496789040b43a758d28a",
            "f7bb37e5280047faa3a19a221ef0d039",
            "6fc8276dce5947da8ef70193a3ef74e3",
            "123ab60e5a864352a20de30940629942",
            "2951f84a7e864fd9bca6be720eae6c13",
            "adfbc946c5ba49efb01a55974a333e06",
            "2e965870a6004574bb84041c127a8244",
            "232753aebc484e8aad7eaa0bb315efd2",
            "a3d828b8b1a14875acba4c8c3bf46e32",
            "4439954ca43c4f1084f40faca66f0ba0",
            "faa6d45494b6491283aacce4a2448f77",
            "0836d83065014a99b97aa719f4aafd0d",
            "b7c0937256d24cd886a7ede7b17fe5ac",
            "d3e795e3b537476ea6fd3348dc942326",
            "b7b7a28fa0ac4e158daf072b42ff40e6",
            "2c40ccf6b2f74d8eb973ec9621d1fc9c",
            "1797f9c76c3a4a25a0cd85f2caf0642b",
            "07a27fdb1a534bf28e7459f50281f732",
            "75051f4a63054c4dbc5020118a92762f",
            "de63ad0f64144f51b5dab65608937da6",
            "399ca40cf765455fb3dbeccc8db4cb42"
          ]
        },
        "id": "vRRkOLkP-1It",
        "outputId": "62ba34a2-c91b-4bcf-bb21-89ac4baeb998"
      },
      "outputs": [
        {
          "data": {
            "application/vnd.jupyter.widget-view+json": {
              "model_id": "5952ea176f67485d96a4be7a4bd16726",
              "version_major": 2,
              "version_minor": 0
            },
            "text/plain": [
              "Filter:   0%|          | 0/29000 [00:00<?, ? examples/s]"
            ]
          },
          "metadata": {},
          "output_type": "display_data"
        },
        {
          "data": {
            "application/vnd.jupyter.widget-view+json": {
              "model_id": "43f5b4366f024cfd955a974f41dc82ad",
              "version_major": 2,
              "version_minor": 0
            },
            "text/plain": [
              "Filter:   0%|          | 0/1014 [00:00<?, ? examples/s]"
            ]
          },
          "metadata": {},
          "output_type": "display_data"
        },
        {
          "data": {
            "application/vnd.jupyter.widget-view+json": {
              "model_id": "faa6d45494b6491283aacce4a2448f77",
              "version_major": 2,
              "version_minor": 0
            },
            "text/plain": [
              "Filter:   0%|          | 0/1000 [00:00<?, ? examples/s]"
            ]
          },
          "metadata": {},
          "output_type": "display_data"
        }
      ],
      "source": [
        "def filter_data(texts):\n",
        "    return len(en_nlp.tokenizer(texts['en'])) <= max_length and len(vi_nlp.tokenizer(texts['vi'])) <= max_length\n",
        "train_data = train_data.filter(filter_data)\n",
        "val_data = val_data.filter(filter_data)\n",
        "test_data = test_data.filter(filter_data)"
      ]
    },
    {
      "cell_type": "code",
      "execution_count": 16,
      "metadata": {
        "colab": {
          "base_uri": "https://localhost:8080/"
        },
        "id": "j98i1vKI-2fB",
        "outputId": "9555553f-8b0e-4644-c0ff-393bb3ff51ab"
      },
      "outputs": [
        {
          "data": {
            "text/plain": [
              "(Dataset({\n",
              "     features: ['en', 'vi'],\n",
              "     num_rows: 28181\n",
              " }),\n",
              " Dataset({\n",
              "     features: ['en', 'vi'],\n",
              "     num_rows: 963\n",
              " }),\n",
              " Dataset({\n",
              "     features: ['en', 'vi'],\n",
              "     num_rows: 984\n",
              " }))"
            ]
          },
          "execution_count": 16,
          "metadata": {},
          "output_type": "execute_result"
        }
      ],
      "source": [
        "train_data, test_data, val_data"
      ]
    },
    {
      "cell_type": "code",
      "execution_count": 17,
      "metadata": {
        "id": "t2Lct01Y-3nC"
      },
      "outputs": [],
      "source": [
        "en_vocab = Vocabulary('en', train_data['en'], en_nlp)\n",
        "vi_vocab = Vocabulary('vi', train_data['vi'], vi_nlp)"
      ]
    },
    {
      "cell_type": "code",
      "execution_count": 18,
      "metadata": {
        "colab": {
          "base_uri": "https://localhost:8080/"
        },
        "id": "BbT2-2CY-4jU",
        "outputId": "5bc20345-4633-49a4-b4e9-f07d99c4320b"
      },
      "outputs": [
        {
          "data": {
            "text/plain": [
              "2"
            ]
          },
          "execution_count": 18,
          "metadata": {},
          "output_type": "execute_result"
        }
      ],
      "source": [
        "en_vocab.get_index(\"meomeo\")"
      ]
    },
    {
      "cell_type": "code",
      "execution_count": 19,
      "metadata": {
        "colab": {
          "base_uri": "https://localhost:8080/"
        },
        "id": "zI6OKncS-5WF",
        "outputId": "106d85fa-dee9-42a4-cc77-333fb8babb1a"
      },
      "outputs": [
        {
          "data": {
            "text/plain": [
              "[8572, 2]"
            ]
          },
          "execution_count": 19,
          "metadata": {},
          "output_type": "execute_result"
        }
      ],
      "source": [
        "indexesFromSentence(en_vocab, \"today meomeo\", en_nlp)"
      ]
    },
    {
      "cell_type": "markdown",
      "metadata": {
        "id": "AO6FxlEkNuxZ"
      },
      "source": [
        "#**Tham số mô hình**#"
      ]
    },
    {
      "cell_type": "code",
      "execution_count": 20,
      "metadata": {
        "id": "7jfgzz8B-59o"
      },
      "outputs": [],
      "source": [
        "hidden_size = 256\n",
        "batch_size = 128\n",
        "num_layers = 1\n",
        "dropout = 0.2\n",
        "learning_rate = 0.001\n",
        "num_epochs = 369"
      ]
    },
    {
      "cell_type": "code",
      "execution_count": null,
      "metadata": {
        "id": "87Xqrr8N-62G"
      },
      "outputs": [],
      "source": [
        "train_loader = get_dataloader(train_data, en_vocab, vi_vocab, \\\n",
        "                                    en_nlp, vi_nlp, device, batch_size,\\\n",
        "                                    max_length, 0, 1)"
      ]
    },
    {
      "cell_type": "code",
      "execution_count": 27,
      "metadata": {
        "id": "wBMBrHMc-7oM"
      },
      "outputs": [],
      "source": [
        "encoder = Encoder(en_vocab.n_words, hidden_size, num_layers, dropout).to(device)\n",
        "decoder = DecoderAttn(hidden_size, vi_vocab.n_words, device, max_length, 0, 1,2, num_layers, dropout).to(device)\n",
        "\n",
        "encoder_opt = optim.Adam(encoder.parameters(), lr=learning_rate)\n",
        "decoder_opt = optim.Adam(decoder.parameters(), lr=learning_rate)\n",
        "\n",
        "criterion = nn.CrossEntropyLoss(ignore_index = 1) # ignore eos_token"
      ]
    },
    {
      "cell_type": "code",
      "execution_count": null,
      "metadata": {
        "id": "l_GlpibB-8by"
      },
      "outputs": [],
      "source": [
        "his_loss = training(train_loader, encoder, decoder, encoder_opt, decoder_opt, criterion, num_epochs, 5)"
      ]
    },
    {
      "cell_type": "markdown",
      "metadata": {
        "id": "S-pMZXVnbPmP"
      },
      "source": [
        "#**Lưu mô hình**#"
      ]
    },
    {
      "cell_type": "code",
      "execution_count": 21,
      "metadata": {
        "id": "y3PqmSCe-9kH"
      },
      "outputs": [],
      "source": [
        "enc_path = \"encoder.pth\"\n",
        "dec_path = \"decoder.pth\""
      ]
    },
    {
      "cell_type": "code",
      "execution_count": null,
      "metadata": {
        "id": "MjRgVo9I--Zm"
      },
      "outputs": [],
      "source": [
        "torch.save(encoder.state_dict(), enc_path)\n",
        "torch.save(decoder.state_dict(), dec_path)"
      ]
    },
    {
      "cell_type": "code",
      "execution_count": 22,
      "metadata": {
        "colab": {
          "base_uri": "https://localhost:8080/"
        },
        "id": "fYTiqEU3-_HH",
        "outputId": "1818101b-d954-44a4-c285-790db8d6eac5"
      },
      "outputs": [
        {
          "data": {
            "text/plain": [
              "DecoderAttn(\n",
              "  (embedding): Embedding(6067, 256)\n",
              "  (attention): BahdanauAttention(\n",
              "    (Wa): Linear(in_features=256, out_features=256, bias=True)\n",
              "    (Ua): Linear(in_features=256, out_features=256, bias=True)\n",
              "    (Va): Linear(in_features=256, out_features=1, bias=True)\n",
              "  )\n",
              "  (lstm): LSTM(512, 256, batch_first=True)\n",
              "  (out): Linear(in_features=256, out_features=6067, bias=True)\n",
              "  (dropout): Dropout(p=0.2, inplace=False)\n",
              ")"
            ]
          },
          "execution_count": 22,
          "metadata": {},
          "output_type": "execute_result"
        }
      ],
      "source": [
        "enc = Encoder(en_vocab.n_words, hidden_size, num_layers, dropout).to(device)\n",
        "dec = DecoderAttn(hidden_size, vi_vocab.n_words, device, max_length, 0, 1, 2, num_layers, dropout).to(device)\n",
        "\n",
        "enc.load_state_dict(torch.load(enc_path, weights_only=True))\n",
        "dec.load_state_dict(torch.load(dec_path, weights_only=True))\n",
        "\n",
        "enc.eval()\n",
        "dec.eval()"
      ]
    },
    {
      "cell_type": "markdown",
      "metadata": {
        "id": "IpwWZQjPbbto"
      },
      "source": [
        "#**Samples**#"
      ]
    },
    {
      "cell_type": "code",
      "execution_count": 23,
      "metadata": {
        "colab": {
          "base_uri": "https://localhost:8080/"
        },
        "id": "NyyfKy1ENKtF",
        "outputId": "91315991-44e3-4b82-d11d-05456157b4db"
      },
      "outputs": [
        {
          "name": "stdout",
          "output_type": "stream",
          "text": [
            "English:\t a kite surfer and a kite flier prepare to launch their respective kites on a grassy slope.\n",
            "Vi_true:\t một người lướt ván diều và một người thả diều chuẩn bị thả diều của mình trên một sườn dốc cỏ.\n",
            "Vi_pred:\t một người lướt ván diều và một người thả diều chuẩn bị thả diều của mình trên một sườn dốc cỏ . a . phía trên một\n",
            "------------\n",
            "English:\t a group of africans running away from something.\n",
            "Vi_true:\t một nhóm người châu phi đang chạy trốn khỏi một thứ gì đó.\n",
            "Vi_pred:\t một nhóm người châu phi đang chạy trốn khỏi một thứ gì đó . . mình . .\n",
            "------------\n",
            "English:\t one man is holding a beer and the other is taking a bite of food.\n",
            "Vi_true:\t một người đàn ông đang cầm một cốc bia và người kia đang cắn một miếng thức ăn.\n",
            "Vi_pred:\t một người đàn ông đang cầm một cốc bia và người kia đang cắn một miếng thức ăn . . . ăn . .\n",
            "------------\n",
            "English:\t a smiling worker, in a cowboy hat, doing masonry.\n",
            "Vi_true:\t một công nhân mỉm cười, đội mũ cao bồi, đang làm việc xây dựng.\n",
            "Vi_pred:\t một công nhân mỉm cười , đội mũ cao bồi , đang làm việc xây dựng . kính . com . . com . com . com . com\n",
            "------------\n",
            "English:\t a group of police officers outside a city building.\n",
            "Vi_true:\t một nhóm cảnh sát bên ngoài một tòa nhà trong thành phố.\n",
            "Vi_pred:\t một nhóm cảnh sát bên ngoài một tòa nhà trong thành phố . com .\n",
            "------------\n",
            "English:\t two men dressed in white shirts are standing at a party.\n",
            "Vi_true:\t hai người đàn ông mặc áo sơ mi trắng đang đứng trong một bữa tiệc.\n",
            "Vi_pred:\t hai người đàn ông mặc áo sơ mi trắng đang đứng trong một bữa tiệc . .\n",
            "------------\n",
            "English:\t a dune buggy with one male passenger gets some air as it drives over a sand dune.\n",
            "Vi_true:\t một chiếc xe địa hình chở một nam hành khách hít thở không khí khi chạy qua một cồn cát.\n",
            "Vi_pred:\t một chiếc xe địa hình chở một nam hành khách hít thở không khí khi chạy qua một cồn cát . c . . c . . c\n",
            "------------\n",
            "English:\t person holding a frisbee with a white dog jumping for it on a road.\n",
            "Vi_true:\t một người cầm một chiếc đĩa frisbee với một chú chó trắng đang nhảy để giành lấy nó trên đường.\n",
            "Vi_pred:\t một người cầm một chiếc đĩa frisbee với một chú chó trắng đang nhảy để giành lấy nó trên đường . . trên đường .\n",
            "------------\n",
            "English:\t man tests telescope while little boy looks on, as they stand in a memorial park.\n",
            "Vi_true:\t người đàn ông kiểm tra kính viễn vọng trong khi cậu bé nhìn vào, khi họ đứng trong một công viên tưởng niệm.\n",
            "Vi_pred:\t người đàn ông kiểm tra kính viễn vọng trong khi cậu bé nhìn vào , khi họ đứng trong một công viên tưởng niệm . . noble . noble . noble\n",
            "------------\n",
            "English:\t some tourists visiting a landmark.\n",
            "Vi_true:\t một số khách du lịch đang tham quan một địa danh.\n",
            "Vi_pred:\t một số khách du lịch đang nghỉ một địa danh . . . .\n",
            "------------\n",
            "Average BLEU score: 0.7149\n"
          ]
        }
      ],
      "source": [
        "evaluateRandom(enc, dec, train_data, en_vocab, vi_vocab, en_nlp, vi_nlp, device, 10)"
      ]
    },
    {
      "cell_type": "code",
      "execution_count": 24,
      "metadata": {
        "colab": {
          "base_uri": "https://localhost:8080/"
        },
        "id": "VwXxHLgaNLkp",
        "outputId": "e6ba5ef4-74ec-4c77-c266-77c77623bb2f"
      },
      "outputs": [
        {
          "name": "stdout",
          "output_type": "stream",
          "text": [
            "English:\t two people eat hamburgers on lawn chairs while a third drinks a can of soda.\n",
            "Vi_true:\t hai người ăn bánh mì kẹp thịt trên ghế xếp trong khi người thứ ba uống một lon soda.\n",
            "Vi_pred:\t hai người ăn tối trên những chiếc ghế trên những chiếc ghế trong khi làm đồ uống một lon soda . . .\n",
            "------------\n",
            "English:\t two brunette women talking to a classroom full of blond children.\n",
            "Vi_true:\t hai người phụ nữ tóc nâu đang nói chuyện với một lớp học toàn trẻ em tóc vàng.\n",
            "Vi_pred:\t hai phụ nữ tóc nâu đang nói chuyện với một lớp học đầy những đứa trẻ sơ sinh . . noble . a . noble . a . noble\n",
            "------------\n",
            "English:\t a guy grinds a windowsill near an old windmill\n",
            "Vi_true:\t một anh chàng mài bệ cửa sổ gần một cối xay gió cũ\n",
            "Vi_pred:\t một anh chàng đang trượt dán băng đồng gần một chiếc ô tô cũ hỏng . c . cũ . noble . cũ .\n",
            "------------\n",
            "English:\t 2 females, 1 from germany and 1 from china, compete in a wrestling match on a mat.\n",
            "Vi_true:\t 2 cô gái, 1 người đức và 1 người trung quốc, đang tham gia một trận đấu vật trên chiếu.\n",
            "Vi_pred:\t 2 cố vấn trại , 1 người đứng dậy khỏi và tòa nhà , trò chuyện trong một trận đấu tập . . . .\n",
            "------------\n",
            "English:\t this is some sort of band or symphony practicing.\n",
            "Vi_true:\t đây là một ban nhạc hoặc dàn nhạc giao hưởng đang luyện tập.\n",
            "Vi_pred:\t của một ban nhạc này đang giúp đỡ một số đang tập . . tập . . a . .\n",
            "------------\n",
            "English:\t a baseball player with a red helmet and white pants is tagged by the catcher while running to home base.\n",
            "Vi_true:\t một cầu thủ bóng chày đội mũ bảo hiểm màu đỏ và quần trắng bị người bắt bóng chạm vào khi đang chạy về gôn.\n",
            "Vi_pred:\t một cầu thủ bóng chày đội mũ bảo hiểm màu đỏ và quần trắng buộc tóc đuôi ngựa khi đang chạy về gôn . c . . c\n",
            "------------\n",
            "English:\t a woman in a green shirt is walking down a crowded street.\n",
            "Vi_true:\t một người phụ nữ mặc áo sơ mi xanh lá cây đang đi bộ trên một con phố đông đúc.\n",
            "Vi_pred:\t một người phụ nữ mặc áo sơ mi xanh đang đi bộ trên một con phố đông đúc . đông đúc .\n",
            "------------\n",
            "English:\t a man lays down on a snowbank that has piled up high around the front door of his house.\n",
            "Vi_true:\t một người đàn ông nằm trên một đống tuyết chất cao xung quanh cửa trước nhà mình.\n",
            "Vi_pred:\t một người đàn ông nằm xuống trên một đống tuyết lớn được dựng lên cửa ra khỏi nhà của mình . f hunt . f hunt .\n",
            "------------\n",
            "English:\t two children without shirts on sit at the edge of a fountain.\n",
            "Vi_true:\t hai đứa trẻ không mặc áo ngồi ở mép đài phun nước.\n",
            "Vi_pred:\t hai đứa trẻ mặc áo sơ mi ngồi ngồi ở rìa đài phun nước . đài phun nước . đài phun nước . .\n",
            "------------\n",
            "English:\t a white blond lady wearing a blue bag riding a scooter.\n",
            "Vi_true:\t một phụ nữ tóc vàng da trắng đeo túi màu xanh đang đi xe tay ga.\n",
            "Vi_pred:\t một phụ nữ tóc da trắng tóc vàng đeo túi màu xanh đang đi xe tay ga . xe . .\n",
            "------------\n",
            "Average BLEU score: 0.2961\n"
          ]
        }
      ],
      "source": [
        "evaluateRandom(enc, dec, val_data, en_vocab, vi_vocab, en_nlp, vi_nlp, device, 10)"
      ]
    },
    {
      "cell_type": "code",
      "execution_count": 25,
      "metadata": {
        "colab": {
          "base_uri": "https://localhost:8080/"
        },
        "id": "bFBKkfuENQPa",
        "outputId": "c36ec04b-1e95-47ce-ad9f-3dc1bfd1ddda"
      },
      "outputs": [
        {
          "data": {
            "text/plain": [
              "['mặc quần jean , áo sơ mi và cùng nhau đi xe đạp cùng nhau . ` .']"
            ]
          },
          "execution_count": 25,
          "metadata": {},
          "output_type": "execute_result"
        }
      ],
      "source": [
        "inp_texts = ['people wearing the dirty jeans and riding a bicycle together']\n",
        "translate_sentence(enc, dec, inp_texts, en_vocab, vi_vocab, en_nlp, device)"
      ]
    },
    {
      "cell_type": "code",
      "execution_count": 26,
      "metadata": {
        "colab": {
          "base_uri": "https://localhost:8080/"
        },
        "id": "YLg5FQHV_Ky7",
        "outputId": "4d5c3793-e960-4b49-b53d-c56d850be238"
      },
      "outputs": [
        {
          "name": "stdout",
          "output_type": "stream",
          "text": [
            "English:\t two men, one man selling fruit the other inspecting the fruit and conversing with the seller.\n",
            "Vi_true:\t hai người đàn ông, một người bán trái cây, người kia đang kiểm tra trái cây và trò chuyện với người bán.\n",
            "Vi_pred:\t hai người đàn ông , một người đàn ông bán trái cây khác nhau mà người bán trái cây và người bán người bán hàng . . người .\n",
            "------------\n",
            "English:\t man in a suit smoking a cigar and reading a paper walking on the street.\n",
            "Vi_true:\t một người đàn ông mặc vest đang hút xì gà và đọc báo đang đi trên phố.\n",
            "Vi_pred:\t người đàn ông mặc vest đang hút xì gà và đọc báo đi bộ trên phố . com .\n",
            "------------\n",
            "English:\t a boy rides a swing.\n",
            "Vi_true:\t một cậu bé đang đu đưa.\n",
            "Vi_pred:\t xích đu . a . a . a . a . a . a . a . a . a . a . a . a\n",
            "------------\n",
            "English:\t a closeup of a child's face eating a blue, heart shaped lollipop.\n",
            "Vi_true:\t cận cảnh khuôn mặt của một đứa trẻ đang ăn một cây kẹo mút hình trái tim màu xanh.\n",
            "Vi_pred:\t cận cảnh một đứa trẻ đang ăn một chiếc tất màu xanh , hình trái tim bằng tre . . a . thiết kế thép . .\n",
            "------------\n",
            "English:\t a man with a brown shirt, gray vest and black cap plays an electric bass.\n",
            "Vi_true:\t một người đàn ông mặc áo sơ mi nâu, áo vest xám và mũ đen chơi đàn ghita điện.\n",
            "Vi_pred:\t một người đàn ông mặc áo sơ mi nâu , áo vest xám và mũ đen đang chơi đàn bass điện . f hunt . f hunt\n",
            "------------\n",
            "Average BLEU score: 0.3533\n"
          ]
        }
      ],
      "source": [
        "evaluateRandom(enc, dec, val_data, en_vocab, vi_vocab, en_nlp, vi_nlp, device, 5)"
      ]
    },
    {
      "cell_type": "code",
      "execution_count": 27,
      "metadata": {
        "colab": {
          "base_uri": "https://localhost:8080/"
        },
        "id": "lj-RxurGMekH",
        "outputId": "a9417752-cacc-4a4e-9acf-9aa9afadf7e0"
      },
      "outputs": [
        {
          "data": {
            "text/plain": [
              "0.35866784119535605"
            ]
          },
          "execution_count": 27,
          "metadata": {},
          "output_type": "execute_result"
        }
      ],
      "source": [
        "calcBLEU(enc, dec, test_data,  en_vocab, vi_vocab, en_nlp, vi_nlp, device)"
      ]
    },
    {
      "cell_type": "code",
      "execution_count": 29,
      "metadata": {
        "colab": {
          "base_uri": "https://localhost:8080/"
        },
        "id": "Cukv9PK0MlKR",
        "outputId": "f08637e4-030b-420a-d86d-8041f103e837"
      },
      "outputs": [
        {
          "name": "stderr",
          "output_type": "stream",
          "text": [
            "[nltk_data] Downloading package wordnet to /root/nltk_data...\n"
          ]
        },
        {
          "data": {
            "text/plain": [
              "True"
            ]
          },
          "execution_count": 29,
          "metadata": {},
          "output_type": "execute_result"
        }
      ],
      "source": [
        "import nltk\n",
        "nltk.download('wordnet')"
      ]
    },
    {
      "cell_type": "code",
      "execution_count": 41,
      "metadata": {
        "colab": {
          "base_uri": "https://localhost:8080/"
        },
        "id": "VRh5rZDDIIdk",
        "outputId": "0b5df63c-f527-499a-9fec-55993fee3f7d"
      },
      "outputs": [
        {
          "name": "stdout",
          "output_type": "stream",
          "text": [
            "Rouge: {'rouge1': 0.41036867034226426, 'rouge2': 0.19703308825517854, 'rougeL': 0.37877149095348234}\n"
          ]
        }
      ],
      "source": [
        "avg_rouge = calcMetrics(enc, dec, test_data, en_vocab, vi_vocab, en_nlp, vi_nlp, device)\n",
        "print(f\"Rouge: {avg_rouge[1]}\")"
      ]
    }
  ],
  "metadata": {
    "accelerator": "GPU",
    "colab": {
      "gpuType": "T4",
      "provenance": []
    },
    "kernelspec": {
      "display_name": "Python 3",
      "name": "python3"
    },
    "language_info": {
      "codemirror_mode": {
        "name": "ipython",
        "version": 3
      },
      "file_extension": ".py",
      "mimetype": "text/x-python",
      "name": "python",
      "nbconvert_exporter": "python",
      "pygments_lexer": "ipython3",
      "version": "3.12.6"
    },
    "widgets": {
      "application/vnd.jupyter.widget-state+json": {
        "0463390e7e67493c827148ba9f7bb74b": {
          "model_module": "@jupyter-widgets/controls",
          "model_module_version": "1.5.0",
          "model_name": "ProgressStyleModel",
          "state": {
            "_model_module": "@jupyter-widgets/controls",
            "_model_module_version": "1.5.0",
            "_model_name": "ProgressStyleModel",
            "_view_count": null,
            "_view_module": "@jupyter-widgets/base",
            "_view_module_version": "1.2.0",
            "_view_name": "StyleView",
            "bar_color": null,
            "description_width": ""
          }
        },
        "06763c705e9b454aabc2e23559afef66": {
          "model_module": "@jupyter-widgets/controls",
          "model_module_version": "1.5.0",
          "model_name": "DescriptionStyleModel",
          "state": {
            "_model_module": "@jupyter-widgets/controls",
            "_model_module_version": "1.5.0",
            "_model_name": "DescriptionStyleModel",
            "_view_count": null,
            "_view_module": "@jupyter-widgets/base",
            "_view_module_version": "1.2.0",
            "_view_name": "StyleView",
            "description_width": ""
          }
        },
        "06c2435d7ee0448c8aa92474d88e17c5": {
          "model_module": "@jupyter-widgets/controls",
          "model_module_version": "1.5.0",
          "model_name": "HTMLModel",
          "state": {
            "_dom_classes": [],
            "_model_module": "@jupyter-widgets/controls",
            "_model_module_version": "1.5.0",
            "_model_name": "HTMLModel",
            "_view_count": null,
            "_view_module": "@jupyter-widgets/controls",
            "_view_module_version": "1.5.0",
            "_view_name": "HTMLView",
            "description": "",
            "description_tooltip": null,
            "layout": "IPY_MODEL_b1888376fbe044488dcd4e2d0977d3c1",
            "placeholder": "​",
            "style": "IPY_MODEL_64b72743845243169b0ba9cec5b96fbc",
            "value": "Map: 100%"
          }
        },
        "07a27fdb1a534bf28e7459f50281f732": {
          "model_module": "@jupyter-widgets/base",
          "model_module_version": "1.2.0",
          "model_name": "LayoutModel",
          "state": {
            "_model_module": "@jupyter-widgets/base",
            "_model_module_version": "1.2.0",
            "_model_name": "LayoutModel",
            "_view_count": null,
            "_view_module": "@jupyter-widgets/base",
            "_view_module_version": "1.2.0",
            "_view_name": "LayoutView",
            "align_content": null,
            "align_items": null,
            "align_self": null,
            "border": null,
            "bottom": null,
            "display": null,
            "flex": null,
            "flex_flow": null,
            "grid_area": null,
            "grid_auto_columns": null,
            "grid_auto_flow": null,
            "grid_auto_rows": null,
            "grid_column": null,
            "grid_gap": null,
            "grid_row": null,
            "grid_template_areas": null,
            "grid_template_columns": null,
            "grid_template_rows": null,
            "height": null,
            "justify_content": null,
            "justify_items": null,
            "left": null,
            "margin": null,
            "max_height": null,
            "max_width": null,
            "min_height": null,
            "min_width": null,
            "object_fit": null,
            "object_position": null,
            "order": null,
            "overflow": null,
            "overflow_x": null,
            "overflow_y": null,
            "padding": null,
            "right": null,
            "top": null,
            "visibility": null,
            "width": null
          }
        },
        "0836d83065014a99b97aa719f4aafd0d": {
          "model_module": "@jupyter-widgets/controls",
          "model_module_version": "1.5.0",
          "model_name": "HTMLModel",
          "state": {
            "_dom_classes": [],
            "_model_module": "@jupyter-widgets/controls",
            "_model_module_version": "1.5.0",
            "_model_name": "HTMLModel",
            "_view_count": null,
            "_view_module": "@jupyter-widgets/controls",
            "_view_module_version": "1.5.0",
            "_view_name": "HTMLView",
            "description": "",
            "description_tooltip": null,
            "layout": "IPY_MODEL_2c40ccf6b2f74d8eb973ec9621d1fc9c",
            "placeholder": "​",
            "style": "IPY_MODEL_1797f9c76c3a4a25a0cd85f2caf0642b",
            "value": "Filter: 100%"
          }
        },
        "11654277491b4b81940dc104f9324e2f": {
          "model_module": "@jupyter-widgets/controls",
          "model_module_version": "1.5.0",
          "model_name": "FloatProgressModel",
          "state": {
            "_dom_classes": [],
            "_model_module": "@jupyter-widgets/controls",
            "_model_module_version": "1.5.0",
            "_model_name": "FloatProgressModel",
            "_view_count": null,
            "_view_module": "@jupyter-widgets/controls",
            "_view_module_version": "1.5.0",
            "_view_name": "ProgressView",
            "bar_style": "success",
            "description": "",
            "description_tooltip": null,
            "layout": "IPY_MODEL_b72dbd740e5f4e5eb30331ccc5b569c1",
            "max": 29000,
            "min": 0,
            "orientation": "horizontal",
            "style": "IPY_MODEL_0463390e7e67493c827148ba9f7bb74b",
            "value": 29000
          }
        },
        "123ab60e5a864352a20de30940629942": {
          "model_module": "@jupyter-widgets/base",
          "model_module_version": "1.2.0",
          "model_name": "LayoutModel",
          "state": {
            "_model_module": "@jupyter-widgets/base",
            "_model_module_version": "1.2.0",
            "_model_name": "LayoutModel",
            "_view_count": null,
            "_view_module": "@jupyter-widgets/base",
            "_view_module_version": "1.2.0",
            "_view_name": "LayoutView",
            "align_content": null,
            "align_items": null,
            "align_self": null,
            "border": null,
            "bottom": null,
            "display": null,
            "flex": null,
            "flex_flow": null,
            "grid_area": null,
            "grid_auto_columns": null,
            "grid_auto_flow": null,
            "grid_auto_rows": null,
            "grid_column": null,
            "grid_gap": null,
            "grid_row": null,
            "grid_template_areas": null,
            "grid_template_columns": null,
            "grid_template_rows": null,
            "height": null,
            "justify_content": null,
            "justify_items": null,
            "left": null,
            "margin": null,
            "max_height": null,
            "max_width": null,
            "min_height": null,
            "min_width": null,
            "object_fit": null,
            "object_position": null,
            "order": null,
            "overflow": null,
            "overflow_x": null,
            "overflow_y": null,
            "padding": null,
            "right": null,
            "top": null,
            "visibility": null,
            "width": null
          }
        },
        "1797f9c76c3a4a25a0cd85f2caf0642b": {
          "model_module": "@jupyter-widgets/controls",
          "model_module_version": "1.5.0",
          "model_name": "DescriptionStyleModel",
          "state": {
            "_model_module": "@jupyter-widgets/controls",
            "_model_module_version": "1.5.0",
            "_model_name": "DescriptionStyleModel",
            "_view_count": null,
            "_view_module": "@jupyter-widgets/base",
            "_view_module_version": "1.2.0",
            "_view_name": "StyleView",
            "description_width": ""
          }
        },
        "1b5c9084d4b4459180a2a76442619c60": {
          "model_module": "@jupyter-widgets/base",
          "model_module_version": "1.2.0",
          "model_name": "LayoutModel",
          "state": {
            "_model_module": "@jupyter-widgets/base",
            "_model_module_version": "1.2.0",
            "_model_name": "LayoutModel",
            "_view_count": null,
            "_view_module": "@jupyter-widgets/base",
            "_view_module_version": "1.2.0",
            "_view_name": "LayoutView",
            "align_content": null,
            "align_items": null,
            "align_self": null,
            "border": null,
            "bottom": null,
            "display": null,
            "flex": null,
            "flex_flow": null,
            "grid_area": null,
            "grid_auto_columns": null,
            "grid_auto_flow": null,
            "grid_auto_rows": null,
            "grid_column": null,
            "grid_gap": null,
            "grid_row": null,
            "grid_template_areas": null,
            "grid_template_columns": null,
            "grid_template_rows": null,
            "height": null,
            "justify_content": null,
            "justify_items": null,
            "left": null,
            "margin": null,
            "max_height": null,
            "max_width": null,
            "min_height": null,
            "min_width": null,
            "object_fit": null,
            "object_position": null,
            "order": null,
            "overflow": null,
            "overflow_x": null,
            "overflow_y": null,
            "padding": null,
            "right": null,
            "top": null,
            "visibility": null,
            "width": null
          }
        },
        "1c4e26e6aaff458eb86b6fcc32d9abf1": {
          "model_module": "@jupyter-widgets/base",
          "model_module_version": "1.2.0",
          "model_name": "LayoutModel",
          "state": {
            "_model_module": "@jupyter-widgets/base",
            "_model_module_version": "1.2.0",
            "_model_name": "LayoutModel",
            "_view_count": null,
            "_view_module": "@jupyter-widgets/base",
            "_view_module_version": "1.2.0",
            "_view_name": "LayoutView",
            "align_content": null,
            "align_items": null,
            "align_self": null,
            "border": null,
            "bottom": null,
            "display": null,
            "flex": null,
            "flex_flow": null,
            "grid_area": null,
            "grid_auto_columns": null,
            "grid_auto_flow": null,
            "grid_auto_rows": null,
            "grid_column": null,
            "grid_gap": null,
            "grid_row": null,
            "grid_template_areas": null,
            "grid_template_columns": null,
            "grid_template_rows": null,
            "height": null,
            "justify_content": null,
            "justify_items": null,
            "left": null,
            "margin": null,
            "max_height": null,
            "max_width": null,
            "min_height": null,
            "min_width": null,
            "object_fit": null,
            "object_position": null,
            "order": null,
            "overflow": null,
            "overflow_x": null,
            "overflow_y": null,
            "padding": null,
            "right": null,
            "top": null,
            "visibility": null,
            "width": null
          }
        },
        "1dca38375dc740b6b1444aaa8975ad8d": {
          "model_module": "@jupyter-widgets/controls",
          "model_module_version": "1.5.0",
          "model_name": "ProgressStyleModel",
          "state": {
            "_model_module": "@jupyter-widgets/controls",
            "_model_module_version": "1.5.0",
            "_model_name": "ProgressStyleModel",
            "_view_count": null,
            "_view_module": "@jupyter-widgets/base",
            "_view_module_version": "1.2.0",
            "_view_name": "StyleView",
            "bar_color": null,
            "description_width": ""
          }
        },
        "232753aebc484e8aad7eaa0bb315efd2": {
          "model_module": "@jupyter-widgets/controls",
          "model_module_version": "1.5.0",
          "model_name": "ProgressStyleModel",
          "state": {
            "_model_module": "@jupyter-widgets/controls",
            "_model_module_version": "1.5.0",
            "_model_name": "ProgressStyleModel",
            "_view_count": null,
            "_view_module": "@jupyter-widgets/base",
            "_view_module_version": "1.2.0",
            "_view_name": "StyleView",
            "bar_color": null,
            "description_width": ""
          }
        },
        "24741635acbc4fccae104800cc2444e4": {
          "model_module": "@jupyter-widgets/controls",
          "model_module_version": "1.5.0",
          "model_name": "ProgressStyleModel",
          "state": {
            "_model_module": "@jupyter-widgets/controls",
            "_model_module_version": "1.5.0",
            "_model_name": "ProgressStyleModel",
            "_view_count": null,
            "_view_module": "@jupyter-widgets/base",
            "_view_module_version": "1.2.0",
            "_view_name": "StyleView",
            "bar_color": null,
            "description_width": ""
          }
        },
        "2951f84a7e864fd9bca6be720eae6c13": {
          "model_module": "@jupyter-widgets/base",
          "model_module_version": "1.2.0",
          "model_name": "LayoutModel",
          "state": {
            "_model_module": "@jupyter-widgets/base",
            "_model_module_version": "1.2.0",
            "_model_name": "LayoutModel",
            "_view_count": null,
            "_view_module": "@jupyter-widgets/base",
            "_view_module_version": "1.2.0",
            "_view_name": "LayoutView",
            "align_content": null,
            "align_items": null,
            "align_self": null,
            "border": null,
            "bottom": null,
            "display": null,
            "flex": null,
            "flex_flow": null,
            "grid_area": null,
            "grid_auto_columns": null,
            "grid_auto_flow": null,
            "grid_auto_rows": null,
            "grid_column": null,
            "grid_gap": null,
            "grid_row": null,
            "grid_template_areas": null,
            "grid_template_columns": null,
            "grid_template_rows": null,
            "height": null,
            "justify_content": null,
            "justify_items": null,
            "left": null,
            "margin": null,
            "max_height": null,
            "max_width": null,
            "min_height": null,
            "min_width": null,
            "object_fit": null,
            "object_position": null,
            "order": null,
            "overflow": null,
            "overflow_x": null,
            "overflow_y": null,
            "padding": null,
            "right": null,
            "top": null,
            "visibility": null,
            "width": null
          }
        },
        "2a749609e22447e18b57589f87c2eddc": {
          "model_module": "@jupyter-widgets/base",
          "model_module_version": "1.2.0",
          "model_name": "LayoutModel",
          "state": {
            "_model_module": "@jupyter-widgets/base",
            "_model_module_version": "1.2.0",
            "_model_name": "LayoutModel",
            "_view_count": null,
            "_view_module": "@jupyter-widgets/base",
            "_view_module_version": "1.2.0",
            "_view_name": "LayoutView",
            "align_content": null,
            "align_items": null,
            "align_self": null,
            "border": null,
            "bottom": null,
            "display": null,
            "flex": null,
            "flex_flow": null,
            "grid_area": null,
            "grid_auto_columns": null,
            "grid_auto_flow": null,
            "grid_auto_rows": null,
            "grid_column": null,
            "grid_gap": null,
            "grid_row": null,
            "grid_template_areas": null,
            "grid_template_columns": null,
            "grid_template_rows": null,
            "height": null,
            "justify_content": null,
            "justify_items": null,
            "left": null,
            "margin": null,
            "max_height": null,
            "max_width": null,
            "min_height": null,
            "min_width": null,
            "object_fit": null,
            "object_position": null,
            "order": null,
            "overflow": null,
            "overflow_x": null,
            "overflow_y": null,
            "padding": null,
            "right": null,
            "top": null,
            "visibility": null,
            "width": null
          }
        },
        "2c40ccf6b2f74d8eb973ec9621d1fc9c": {
          "model_module": "@jupyter-widgets/base",
          "model_module_version": "1.2.0",
          "model_name": "LayoutModel",
          "state": {
            "_model_module": "@jupyter-widgets/base",
            "_model_module_version": "1.2.0",
            "_model_name": "LayoutModel",
            "_view_count": null,
            "_view_module": "@jupyter-widgets/base",
            "_view_module_version": "1.2.0",
            "_view_name": "LayoutView",
            "align_content": null,
            "align_items": null,
            "align_self": null,
            "border": null,
            "bottom": null,
            "display": null,
            "flex": null,
            "flex_flow": null,
            "grid_area": null,
            "grid_auto_columns": null,
            "grid_auto_flow": null,
            "grid_auto_rows": null,
            "grid_column": null,
            "grid_gap": null,
            "grid_row": null,
            "grid_template_areas": null,
            "grid_template_columns": null,
            "grid_template_rows": null,
            "height": null,
            "justify_content": null,
            "justify_items": null,
            "left": null,
            "margin": null,
            "max_height": null,
            "max_width": null,
            "min_height": null,
            "min_width": null,
            "object_fit": null,
            "object_position": null,
            "order": null,
            "overflow": null,
            "overflow_x": null,
            "overflow_y": null,
            "padding": null,
            "right": null,
            "top": null,
            "visibility": null,
            "width": null
          }
        },
        "2dd230e3407e43c0b7bfe3aacf41b3e4": {
          "model_module": "@jupyter-widgets/controls",
          "model_module_version": "1.5.0",
          "model_name": "FloatProgressModel",
          "state": {
            "_dom_classes": [],
            "_model_module": "@jupyter-widgets/controls",
            "_model_module_version": "1.5.0",
            "_model_name": "FloatProgressModel",
            "_view_count": null,
            "_view_module": "@jupyter-widgets/controls",
            "_view_module_version": "1.5.0",
            "_view_name": "ProgressView",
            "bar_style": "success",
            "description": "",
            "description_tooltip": null,
            "layout": "IPY_MODEL_bdd5b424b1b64f81981d724562bde707",
            "max": 1014,
            "min": 0,
            "orientation": "horizontal",
            "style": "IPY_MODEL_5bb8b282ae3b4dabad182d47aad87886",
            "value": 1014
          }
        },
        "2e965870a6004574bb84041c127a8244": {
          "model_module": "@jupyter-widgets/base",
          "model_module_version": "1.2.0",
          "model_name": "LayoutModel",
          "state": {
            "_model_module": "@jupyter-widgets/base",
            "_model_module_version": "1.2.0",
            "_model_name": "LayoutModel",
            "_view_count": null,
            "_view_module": "@jupyter-widgets/base",
            "_view_module_version": "1.2.0",
            "_view_name": "LayoutView",
            "align_content": null,
            "align_items": null,
            "align_self": null,
            "border": null,
            "bottom": null,
            "display": null,
            "flex": null,
            "flex_flow": null,
            "grid_area": null,
            "grid_auto_columns": null,
            "grid_auto_flow": null,
            "grid_auto_rows": null,
            "grid_column": null,
            "grid_gap": null,
            "grid_row": null,
            "grid_template_areas": null,
            "grid_template_columns": null,
            "grid_template_rows": null,
            "height": null,
            "justify_content": null,
            "justify_items": null,
            "left": null,
            "margin": null,
            "max_height": null,
            "max_width": null,
            "min_height": null,
            "min_width": null,
            "object_fit": null,
            "object_position": null,
            "order": null,
            "overflow": null,
            "overflow_x": null,
            "overflow_y": null,
            "padding": null,
            "right": null,
            "top": null,
            "visibility": null,
            "width": null
          }
        },
        "32329560a4c54aff90dfbdbec1aba9cc": {
          "model_module": "@jupyter-widgets/base",
          "model_module_version": "1.2.0",
          "model_name": "LayoutModel",
          "state": {
            "_model_module": "@jupyter-widgets/base",
            "_model_module_version": "1.2.0",
            "_model_name": "LayoutModel",
            "_view_count": null,
            "_view_module": "@jupyter-widgets/base",
            "_view_module_version": "1.2.0",
            "_view_name": "LayoutView",
            "align_content": null,
            "align_items": null,
            "align_self": null,
            "border": null,
            "bottom": null,
            "display": null,
            "flex": null,
            "flex_flow": null,
            "grid_area": null,
            "grid_auto_columns": null,
            "grid_auto_flow": null,
            "grid_auto_rows": null,
            "grid_column": null,
            "grid_gap": null,
            "grid_row": null,
            "grid_template_areas": null,
            "grid_template_columns": null,
            "grid_template_rows": null,
            "height": null,
            "justify_content": null,
            "justify_items": null,
            "left": null,
            "margin": null,
            "max_height": null,
            "max_width": null,
            "min_height": null,
            "min_width": null,
            "object_fit": null,
            "object_position": null,
            "order": null,
            "overflow": null,
            "overflow_x": null,
            "overflow_y": null,
            "padding": null,
            "right": null,
            "top": null,
            "visibility": null,
            "width": null
          }
        },
        "380bad2767ab4556b3e42771395ee442": {
          "model_module": "@jupyter-widgets/controls",
          "model_module_version": "1.5.0",
          "model_name": "DescriptionStyleModel",
          "state": {
            "_model_module": "@jupyter-widgets/controls",
            "_model_module_version": "1.5.0",
            "_model_name": "DescriptionStyleModel",
            "_view_count": null,
            "_view_module": "@jupyter-widgets/base",
            "_view_module_version": "1.2.0",
            "_view_name": "StyleView",
            "description_width": ""
          }
        },
        "399ca40cf765455fb3dbeccc8db4cb42": {
          "model_module": "@jupyter-widgets/controls",
          "model_module_version": "1.5.0",
          "model_name": "DescriptionStyleModel",
          "state": {
            "_model_module": "@jupyter-widgets/controls",
            "_model_module_version": "1.5.0",
            "_model_name": "DescriptionStyleModel",
            "_view_count": null,
            "_view_module": "@jupyter-widgets/base",
            "_view_module_version": "1.2.0",
            "_view_name": "StyleView",
            "description_width": ""
          }
        },
        "3c255262343146aa9d160875f2c14f63": {
          "model_module": "@jupyter-widgets/controls",
          "model_module_version": "1.5.0",
          "model_name": "DescriptionStyleModel",
          "state": {
            "_model_module": "@jupyter-widgets/controls",
            "_model_module_version": "1.5.0",
            "_model_name": "DescriptionStyleModel",
            "_view_count": null,
            "_view_module": "@jupyter-widgets/base",
            "_view_module_version": "1.2.0",
            "_view_name": "StyleView",
            "description_width": ""
          }
        },
        "41c8c123bf3d49788a53e3f4e63cae4a": {
          "model_module": "@jupyter-widgets/controls",
          "model_module_version": "1.5.0",
          "model_name": "HTMLModel",
          "state": {
            "_dom_classes": [],
            "_model_module": "@jupyter-widgets/controls",
            "_model_module_version": "1.5.0",
            "_model_name": "HTMLModel",
            "_view_count": null,
            "_view_module": "@jupyter-widgets/controls",
            "_view_module_version": "1.5.0",
            "_view_name": "HTMLView",
            "description": "",
            "description_tooltip": null,
            "layout": "IPY_MODEL_7aa84d14a68645d18df91b2b47f04f46",
            "placeholder": "​",
            "style": "IPY_MODEL_6c9791f56d8c43a1a3fb848d7d091407",
            "value": "Filter: 100%"
          }
        },
        "43f5b4366f024cfd955a974f41dc82ad": {
          "model_module": "@jupyter-widgets/controls",
          "model_module_version": "1.5.0",
          "model_name": "HBoxModel",
          "state": {
            "_dom_classes": [],
            "_model_module": "@jupyter-widgets/controls",
            "_model_module_version": "1.5.0",
            "_model_name": "HBoxModel",
            "_view_count": null,
            "_view_module": "@jupyter-widgets/controls",
            "_view_module_version": "1.5.0",
            "_view_name": "HBoxView",
            "box_style": "",
            "children": [
              "IPY_MODEL_56066c76fca8496789040b43a758d28a",
              "IPY_MODEL_f7bb37e5280047faa3a19a221ef0d039",
              "IPY_MODEL_6fc8276dce5947da8ef70193a3ef74e3"
            ],
            "layout": "IPY_MODEL_123ab60e5a864352a20de30940629942"
          }
        },
        "4439954ca43c4f1084f40faca66f0ba0": {
          "model_module": "@jupyter-widgets/controls",
          "model_module_version": "1.5.0",
          "model_name": "DescriptionStyleModel",
          "state": {
            "_model_module": "@jupyter-widgets/controls",
            "_model_module_version": "1.5.0",
            "_model_name": "DescriptionStyleModel",
            "_view_count": null,
            "_view_module": "@jupyter-widgets/base",
            "_view_module_version": "1.2.0",
            "_view_name": "StyleView",
            "description_width": ""
          }
        },
        "46bf2792bd9643358e39f03bb99c2d07": {
          "model_module": "@jupyter-widgets/controls",
          "model_module_version": "1.5.0",
          "model_name": "HBoxModel",
          "state": {
            "_dom_classes": [],
            "_model_module": "@jupyter-widgets/controls",
            "_model_module_version": "1.5.0",
            "_model_name": "HBoxModel",
            "_view_count": null,
            "_view_module": "@jupyter-widgets/controls",
            "_view_module_version": "1.5.0",
            "_view_name": "HBoxView",
            "box_style": "",
            "children": [
              "IPY_MODEL_683a5b3ff968477ea6fc935a10da0ca3",
              "IPY_MODEL_b371acf9798c4b7291e86aac3fafe6dd",
              "IPY_MODEL_c61c8a586c97437aae1dbbe689ddc24a"
            ],
            "layout": "IPY_MODEL_c747c096f09d424197575a20d8c9923c"
          }
        },
        "54efbedd160b417090b9b01841db3c0f": {
          "model_module": "@jupyter-widgets/controls",
          "model_module_version": "1.5.0",
          "model_name": "HTMLModel",
          "state": {
            "_dom_classes": [],
            "_model_module": "@jupyter-widgets/controls",
            "_model_module_version": "1.5.0",
            "_model_name": "HTMLModel",
            "_view_count": null,
            "_view_module": "@jupyter-widgets/controls",
            "_view_module_version": "1.5.0",
            "_view_name": "HTMLView",
            "description": "",
            "description_tooltip": null,
            "layout": "IPY_MODEL_6091949ff5ce4747939913a17facb558",
            "placeholder": "​",
            "style": "IPY_MODEL_06763c705e9b454aabc2e23559afef66",
            "value": " 1014/1014 [00:00&lt;00:00, 3057.89 examples/s]"
          }
        },
        "56066c76fca8496789040b43a758d28a": {
          "model_module": "@jupyter-widgets/controls",
          "model_module_version": "1.5.0",
          "model_name": "HTMLModel",
          "state": {
            "_dom_classes": [],
            "_model_module": "@jupyter-widgets/controls",
            "_model_module_version": "1.5.0",
            "_model_name": "HTMLModel",
            "_view_count": null,
            "_view_module": "@jupyter-widgets/controls",
            "_view_module_version": "1.5.0",
            "_view_name": "HTMLView",
            "description": "",
            "description_tooltip": null,
            "layout": "IPY_MODEL_2951f84a7e864fd9bca6be720eae6c13",
            "placeholder": "​",
            "style": "IPY_MODEL_adfbc946c5ba49efb01a55974a333e06",
            "value": "Filter: 100%"
          }
        },
        "5810e68732c34de49e297f3788b70607": {
          "model_module": "@jupyter-widgets/controls",
          "model_module_version": "1.5.0",
          "model_name": "HTMLModel",
          "state": {
            "_dom_classes": [],
            "_model_module": "@jupyter-widgets/controls",
            "_model_module_version": "1.5.0",
            "_model_name": "HTMLModel",
            "_view_count": null,
            "_view_module": "@jupyter-widgets/controls",
            "_view_module_version": "1.5.0",
            "_view_name": "HTMLView",
            "description": "",
            "description_tooltip": null,
            "layout": "IPY_MODEL_aaa0842c8b42481cb4fd5b893bf2a3e3",
            "placeholder": "​",
            "style": "IPY_MODEL_380bad2767ab4556b3e42771395ee442",
            "value": " 29000/29000 [00:16&lt;00:00, 1822.28 examples/s]"
          }
        },
        "5952ea176f67485d96a4be7a4bd16726": {
          "model_module": "@jupyter-widgets/controls",
          "model_module_version": "1.5.0",
          "model_name": "HBoxModel",
          "state": {
            "_dom_classes": [],
            "_model_module": "@jupyter-widgets/controls",
            "_model_module_version": "1.5.0",
            "_model_name": "HBoxModel",
            "_view_count": null,
            "_view_module": "@jupyter-widgets/controls",
            "_view_module_version": "1.5.0",
            "_view_name": "HBoxView",
            "box_style": "",
            "children": [
              "IPY_MODEL_41c8c123bf3d49788a53e3f4e63cae4a",
              "IPY_MODEL_944f1e584eca459c986c695c9d03cebd",
              "IPY_MODEL_5810e68732c34de49e297f3788b70607"
            ],
            "layout": "IPY_MODEL_2a749609e22447e18b57589f87c2eddc"
          }
        },
        "5af85d8de2774d11b23783e61ee3dac6": {
          "model_module": "@jupyter-widgets/base",
          "model_module_version": "1.2.0",
          "model_name": "LayoutModel",
          "state": {
            "_model_module": "@jupyter-widgets/base",
            "_model_module_version": "1.2.0",
            "_model_name": "LayoutModel",
            "_view_count": null,
            "_view_module": "@jupyter-widgets/base",
            "_view_module_version": "1.2.0",
            "_view_name": "LayoutView",
            "align_content": null,
            "align_items": null,
            "align_self": null,
            "border": null,
            "bottom": null,
            "display": null,
            "flex": null,
            "flex_flow": null,
            "grid_area": null,
            "grid_auto_columns": null,
            "grid_auto_flow": null,
            "grid_auto_rows": null,
            "grid_column": null,
            "grid_gap": null,
            "grid_row": null,
            "grid_template_areas": null,
            "grid_template_columns": null,
            "grid_template_rows": null,
            "height": null,
            "justify_content": null,
            "justify_items": null,
            "left": null,
            "margin": null,
            "max_height": null,
            "max_width": null,
            "min_height": null,
            "min_width": null,
            "object_fit": null,
            "object_position": null,
            "order": null,
            "overflow": null,
            "overflow_x": null,
            "overflow_y": null,
            "padding": null,
            "right": null,
            "top": null,
            "visibility": null,
            "width": null
          }
        },
        "5bb8b282ae3b4dabad182d47aad87886": {
          "model_module": "@jupyter-widgets/controls",
          "model_module_version": "1.5.0",
          "model_name": "ProgressStyleModel",
          "state": {
            "_model_module": "@jupyter-widgets/controls",
            "_model_module_version": "1.5.0",
            "_model_name": "ProgressStyleModel",
            "_view_count": null,
            "_view_module": "@jupyter-widgets/base",
            "_view_module_version": "1.2.0",
            "_view_name": "StyleView",
            "bar_color": null,
            "description_width": ""
          }
        },
        "6091949ff5ce4747939913a17facb558": {
          "model_module": "@jupyter-widgets/base",
          "model_module_version": "1.2.0",
          "model_name": "LayoutModel",
          "state": {
            "_model_module": "@jupyter-widgets/base",
            "_model_module_version": "1.2.0",
            "_model_name": "LayoutModel",
            "_view_count": null,
            "_view_module": "@jupyter-widgets/base",
            "_view_module_version": "1.2.0",
            "_view_name": "LayoutView",
            "align_content": null,
            "align_items": null,
            "align_self": null,
            "border": null,
            "bottom": null,
            "display": null,
            "flex": null,
            "flex_flow": null,
            "grid_area": null,
            "grid_auto_columns": null,
            "grid_auto_flow": null,
            "grid_auto_rows": null,
            "grid_column": null,
            "grid_gap": null,
            "grid_row": null,
            "grid_template_areas": null,
            "grid_template_columns": null,
            "grid_template_rows": null,
            "height": null,
            "justify_content": null,
            "justify_items": null,
            "left": null,
            "margin": null,
            "max_height": null,
            "max_width": null,
            "min_height": null,
            "min_width": null,
            "object_fit": null,
            "object_position": null,
            "order": null,
            "overflow": null,
            "overflow_x": null,
            "overflow_y": null,
            "padding": null,
            "right": null,
            "top": null,
            "visibility": null,
            "width": null
          }
        },
        "64b72743845243169b0ba9cec5b96fbc": {
          "model_module": "@jupyter-widgets/controls",
          "model_module_version": "1.5.0",
          "model_name": "DescriptionStyleModel",
          "state": {
            "_model_module": "@jupyter-widgets/controls",
            "_model_module_version": "1.5.0",
            "_model_name": "DescriptionStyleModel",
            "_view_count": null,
            "_view_module": "@jupyter-widgets/base",
            "_view_module_version": "1.2.0",
            "_view_name": "StyleView",
            "description_width": ""
          }
        },
        "683a5b3ff968477ea6fc935a10da0ca3": {
          "model_module": "@jupyter-widgets/controls",
          "model_module_version": "1.5.0",
          "model_name": "HTMLModel",
          "state": {
            "_dom_classes": [],
            "_model_module": "@jupyter-widgets/controls",
            "_model_module_version": "1.5.0",
            "_model_name": "HTMLModel",
            "_view_count": null,
            "_view_module": "@jupyter-widgets/controls",
            "_view_module_version": "1.5.0",
            "_view_name": "HTMLView",
            "description": "",
            "description_tooltip": null,
            "layout": "IPY_MODEL_cd5d2e104944434e8bd0b89b7cf36992",
            "placeholder": "​",
            "style": "IPY_MODEL_3c255262343146aa9d160875f2c14f63",
            "value": "Map: 100%"
          }
        },
        "6c9791f56d8c43a1a3fb848d7d091407": {
          "model_module": "@jupyter-widgets/controls",
          "model_module_version": "1.5.0",
          "model_name": "DescriptionStyleModel",
          "state": {
            "_model_module": "@jupyter-widgets/controls",
            "_model_module_version": "1.5.0",
            "_model_name": "DescriptionStyleModel",
            "_view_count": null,
            "_view_module": "@jupyter-widgets/base",
            "_view_module_version": "1.2.0",
            "_view_name": "StyleView",
            "description_width": ""
          }
        },
        "6fc8276dce5947da8ef70193a3ef74e3": {
          "model_module": "@jupyter-widgets/controls",
          "model_module_version": "1.5.0",
          "model_name": "HTMLModel",
          "state": {
            "_dom_classes": [],
            "_model_module": "@jupyter-widgets/controls",
            "_model_module_version": "1.5.0",
            "_model_name": "HTMLModel",
            "_view_count": null,
            "_view_module": "@jupyter-widgets/controls",
            "_view_module_version": "1.5.0",
            "_view_name": "HTMLView",
            "description": "",
            "description_tooltip": null,
            "layout": "IPY_MODEL_a3d828b8b1a14875acba4c8c3bf46e32",
            "placeholder": "​",
            "style": "IPY_MODEL_4439954ca43c4f1084f40faca66f0ba0",
            "value": " 1014/1014 [00:00&lt;00:00, 2471.06 examples/s]"
          }
        },
        "75051f4a63054c4dbc5020118a92762f": {
          "model_module": "@jupyter-widgets/controls",
          "model_module_version": "1.5.0",
          "model_name": "ProgressStyleModel",
          "state": {
            "_model_module": "@jupyter-widgets/controls",
            "_model_module_version": "1.5.0",
            "_model_name": "ProgressStyleModel",
            "_view_count": null,
            "_view_module": "@jupyter-widgets/base",
            "_view_module_version": "1.2.0",
            "_view_name": "StyleView",
            "bar_color": null,
            "description_width": ""
          }
        },
        "78236dc7f83d4485800b2d12407cfa10": {
          "model_module": "@jupyter-widgets/controls",
          "model_module_version": "1.5.0",
          "model_name": "DescriptionStyleModel",
          "state": {
            "_model_module": "@jupyter-widgets/controls",
            "_model_module_version": "1.5.0",
            "_model_name": "DescriptionStyleModel",
            "_view_count": null,
            "_view_module": "@jupyter-widgets/base",
            "_view_module_version": "1.2.0",
            "_view_name": "StyleView",
            "description_width": ""
          }
        },
        "7aa84d14a68645d18df91b2b47f04f46": {
          "model_module": "@jupyter-widgets/base",
          "model_module_version": "1.2.0",
          "model_name": "LayoutModel",
          "state": {
            "_model_module": "@jupyter-widgets/base",
            "_model_module_version": "1.2.0",
            "_model_name": "LayoutModel",
            "_view_count": null,
            "_view_module": "@jupyter-widgets/base",
            "_view_module_version": "1.2.0",
            "_view_name": "LayoutView",
            "align_content": null,
            "align_items": null,
            "align_self": null,
            "border": null,
            "bottom": null,
            "display": null,
            "flex": null,
            "flex_flow": null,
            "grid_area": null,
            "grid_auto_columns": null,
            "grid_auto_flow": null,
            "grid_auto_rows": null,
            "grid_column": null,
            "grid_gap": null,
            "grid_row": null,
            "grid_template_areas": null,
            "grid_template_columns": null,
            "grid_template_rows": null,
            "height": null,
            "justify_content": null,
            "justify_items": null,
            "left": null,
            "margin": null,
            "max_height": null,
            "max_width": null,
            "min_height": null,
            "min_width": null,
            "object_fit": null,
            "object_position": null,
            "order": null,
            "overflow": null,
            "overflow_x": null,
            "overflow_y": null,
            "padding": null,
            "right": null,
            "top": null,
            "visibility": null,
            "width": null
          }
        },
        "944f1e584eca459c986c695c9d03cebd": {
          "model_module": "@jupyter-widgets/controls",
          "model_module_version": "1.5.0",
          "model_name": "FloatProgressModel",
          "state": {
            "_dom_classes": [],
            "_model_module": "@jupyter-widgets/controls",
            "_model_module_version": "1.5.0",
            "_model_name": "FloatProgressModel",
            "_view_count": null,
            "_view_module": "@jupyter-widgets/controls",
            "_view_module_version": "1.5.0",
            "_view_name": "ProgressView",
            "bar_style": "success",
            "description": "",
            "description_tooltip": null,
            "layout": "IPY_MODEL_1b5c9084d4b4459180a2a76442619c60",
            "max": 29000,
            "min": 0,
            "orientation": "horizontal",
            "style": "IPY_MODEL_24741635acbc4fccae104800cc2444e4",
            "value": 29000
          }
        },
        "a3d828b8b1a14875acba4c8c3bf46e32": {
          "model_module": "@jupyter-widgets/base",
          "model_module_version": "1.2.0",
          "model_name": "LayoutModel",
          "state": {
            "_model_module": "@jupyter-widgets/base",
            "_model_module_version": "1.2.0",
            "_model_name": "LayoutModel",
            "_view_count": null,
            "_view_module": "@jupyter-widgets/base",
            "_view_module_version": "1.2.0",
            "_view_name": "LayoutView",
            "align_content": null,
            "align_items": null,
            "align_self": null,
            "border": null,
            "bottom": null,
            "display": null,
            "flex": null,
            "flex_flow": null,
            "grid_area": null,
            "grid_auto_columns": null,
            "grid_auto_flow": null,
            "grid_auto_rows": null,
            "grid_column": null,
            "grid_gap": null,
            "grid_row": null,
            "grid_template_areas": null,
            "grid_template_columns": null,
            "grid_template_rows": null,
            "height": null,
            "justify_content": null,
            "justify_items": null,
            "left": null,
            "margin": null,
            "max_height": null,
            "max_width": null,
            "min_height": null,
            "min_width": null,
            "object_fit": null,
            "object_position": null,
            "order": null,
            "overflow": null,
            "overflow_x": null,
            "overflow_y": null,
            "padding": null,
            "right": null,
            "top": null,
            "visibility": null,
            "width": null
          }
        },
        "a5437a303a41408db2a6584b633c0fee": {
          "model_module": "@jupyter-widgets/base",
          "model_module_version": "1.2.0",
          "model_name": "LayoutModel",
          "state": {
            "_model_module": "@jupyter-widgets/base",
            "_model_module_version": "1.2.0",
            "_model_name": "LayoutModel",
            "_view_count": null,
            "_view_module": "@jupyter-widgets/base",
            "_view_module_version": "1.2.0",
            "_view_name": "LayoutView",
            "align_content": null,
            "align_items": null,
            "align_self": null,
            "border": null,
            "bottom": null,
            "display": null,
            "flex": null,
            "flex_flow": null,
            "grid_area": null,
            "grid_auto_columns": null,
            "grid_auto_flow": null,
            "grid_auto_rows": null,
            "grid_column": null,
            "grid_gap": null,
            "grid_row": null,
            "grid_template_areas": null,
            "grid_template_columns": null,
            "grid_template_rows": null,
            "height": null,
            "justify_content": null,
            "justify_items": null,
            "left": null,
            "margin": null,
            "max_height": null,
            "max_width": null,
            "min_height": null,
            "min_width": null,
            "object_fit": null,
            "object_position": null,
            "order": null,
            "overflow": null,
            "overflow_x": null,
            "overflow_y": null,
            "padding": null,
            "right": null,
            "top": null,
            "visibility": null,
            "width": null
          }
        },
        "a818eee9297f4a8fac5d4507c150dc95": {
          "model_module": "@jupyter-widgets/base",
          "model_module_version": "1.2.0",
          "model_name": "LayoutModel",
          "state": {
            "_model_module": "@jupyter-widgets/base",
            "_model_module_version": "1.2.0",
            "_model_name": "LayoutModel",
            "_view_count": null,
            "_view_module": "@jupyter-widgets/base",
            "_view_module_version": "1.2.0",
            "_view_name": "LayoutView",
            "align_content": null,
            "align_items": null,
            "align_self": null,
            "border": null,
            "bottom": null,
            "display": null,
            "flex": null,
            "flex_flow": null,
            "grid_area": null,
            "grid_auto_columns": null,
            "grid_auto_flow": null,
            "grid_auto_rows": null,
            "grid_column": null,
            "grid_gap": null,
            "grid_row": null,
            "grid_template_areas": null,
            "grid_template_columns": null,
            "grid_template_rows": null,
            "height": null,
            "justify_content": null,
            "justify_items": null,
            "left": null,
            "margin": null,
            "max_height": null,
            "max_width": null,
            "min_height": null,
            "min_width": null,
            "object_fit": null,
            "object_position": null,
            "order": null,
            "overflow": null,
            "overflow_x": null,
            "overflow_y": null,
            "padding": null,
            "right": null,
            "top": null,
            "visibility": null,
            "width": null
          }
        },
        "aaa0842c8b42481cb4fd5b893bf2a3e3": {
          "model_module": "@jupyter-widgets/base",
          "model_module_version": "1.2.0",
          "model_name": "LayoutModel",
          "state": {
            "_model_module": "@jupyter-widgets/base",
            "_model_module_version": "1.2.0",
            "_model_name": "LayoutModel",
            "_view_count": null,
            "_view_module": "@jupyter-widgets/base",
            "_view_module_version": "1.2.0",
            "_view_name": "LayoutView",
            "align_content": null,
            "align_items": null,
            "align_self": null,
            "border": null,
            "bottom": null,
            "display": null,
            "flex": null,
            "flex_flow": null,
            "grid_area": null,
            "grid_auto_columns": null,
            "grid_auto_flow": null,
            "grid_auto_rows": null,
            "grid_column": null,
            "grid_gap": null,
            "grid_row": null,
            "grid_template_areas": null,
            "grid_template_columns": null,
            "grid_template_rows": null,
            "height": null,
            "justify_content": null,
            "justify_items": null,
            "left": null,
            "margin": null,
            "max_height": null,
            "max_width": null,
            "min_height": null,
            "min_width": null,
            "object_fit": null,
            "object_position": null,
            "order": null,
            "overflow": null,
            "overflow_x": null,
            "overflow_y": null,
            "padding": null,
            "right": null,
            "top": null,
            "visibility": null,
            "width": null
          }
        },
        "adfbc946c5ba49efb01a55974a333e06": {
          "model_module": "@jupyter-widgets/controls",
          "model_module_version": "1.5.0",
          "model_name": "DescriptionStyleModel",
          "state": {
            "_model_module": "@jupyter-widgets/controls",
            "_model_module_version": "1.5.0",
            "_model_name": "DescriptionStyleModel",
            "_view_count": null,
            "_view_module": "@jupyter-widgets/base",
            "_view_module_version": "1.2.0",
            "_view_name": "StyleView",
            "description_width": ""
          }
        },
        "b1888376fbe044488dcd4e2d0977d3c1": {
          "model_module": "@jupyter-widgets/base",
          "model_module_version": "1.2.0",
          "model_name": "LayoutModel",
          "state": {
            "_model_module": "@jupyter-widgets/base",
            "_model_module_version": "1.2.0",
            "_model_name": "LayoutModel",
            "_view_count": null,
            "_view_module": "@jupyter-widgets/base",
            "_view_module_version": "1.2.0",
            "_view_name": "LayoutView",
            "align_content": null,
            "align_items": null,
            "align_self": null,
            "border": null,
            "bottom": null,
            "display": null,
            "flex": null,
            "flex_flow": null,
            "grid_area": null,
            "grid_auto_columns": null,
            "grid_auto_flow": null,
            "grid_auto_rows": null,
            "grid_column": null,
            "grid_gap": null,
            "grid_row": null,
            "grid_template_areas": null,
            "grid_template_columns": null,
            "grid_template_rows": null,
            "height": null,
            "justify_content": null,
            "justify_items": null,
            "left": null,
            "margin": null,
            "max_height": null,
            "max_width": null,
            "min_height": null,
            "min_width": null,
            "object_fit": null,
            "object_position": null,
            "order": null,
            "overflow": null,
            "overflow_x": null,
            "overflow_y": null,
            "padding": null,
            "right": null,
            "top": null,
            "visibility": null,
            "width": null
          }
        },
        "b371acf9798c4b7291e86aac3fafe6dd": {
          "model_module": "@jupyter-widgets/controls",
          "model_module_version": "1.5.0",
          "model_name": "FloatProgressModel",
          "state": {
            "_dom_classes": [],
            "_model_module": "@jupyter-widgets/controls",
            "_model_module_version": "1.5.0",
            "_model_name": "FloatProgressModel",
            "_view_count": null,
            "_view_module": "@jupyter-widgets/controls",
            "_view_module_version": "1.5.0",
            "_view_name": "ProgressView",
            "bar_style": "success",
            "description": "",
            "description_tooltip": null,
            "layout": "IPY_MODEL_f773cd8bb0014055b42563c202c05460",
            "max": 1000,
            "min": 0,
            "orientation": "horizontal",
            "style": "IPY_MODEL_1dca38375dc740b6b1444aaa8975ad8d",
            "value": 1000
          }
        },
        "b4520fd0b0ba48b0a4feab5d0c332184": {
          "model_module": "@jupyter-widgets/controls",
          "model_module_version": "1.5.0",
          "model_name": "HBoxModel",
          "state": {
            "_dom_classes": [],
            "_model_module": "@jupyter-widgets/controls",
            "_model_module_version": "1.5.0",
            "_model_name": "HBoxModel",
            "_view_count": null,
            "_view_module": "@jupyter-widgets/controls",
            "_view_module_version": "1.5.0",
            "_view_name": "HBoxView",
            "box_style": "",
            "children": [
              "IPY_MODEL_06c2435d7ee0448c8aa92474d88e17c5",
              "IPY_MODEL_11654277491b4b81940dc104f9324e2f",
              "IPY_MODEL_cc936d5c6cdc421f8ac569ff4ca45168"
            ],
            "layout": "IPY_MODEL_32329560a4c54aff90dfbdbec1aba9cc"
          }
        },
        "b72dbd740e5f4e5eb30331ccc5b569c1": {
          "model_module": "@jupyter-widgets/base",
          "model_module_version": "1.2.0",
          "model_name": "LayoutModel",
          "state": {
            "_model_module": "@jupyter-widgets/base",
            "_model_module_version": "1.2.0",
            "_model_name": "LayoutModel",
            "_view_count": null,
            "_view_module": "@jupyter-widgets/base",
            "_view_module_version": "1.2.0",
            "_view_name": "LayoutView",
            "align_content": null,
            "align_items": null,
            "align_self": null,
            "border": null,
            "bottom": null,
            "display": null,
            "flex": null,
            "flex_flow": null,
            "grid_area": null,
            "grid_auto_columns": null,
            "grid_auto_flow": null,
            "grid_auto_rows": null,
            "grid_column": null,
            "grid_gap": null,
            "grid_row": null,
            "grid_template_areas": null,
            "grid_template_columns": null,
            "grid_template_rows": null,
            "height": null,
            "justify_content": null,
            "justify_items": null,
            "left": null,
            "margin": null,
            "max_height": null,
            "max_width": null,
            "min_height": null,
            "min_width": null,
            "object_fit": null,
            "object_position": null,
            "order": null,
            "overflow": null,
            "overflow_x": null,
            "overflow_y": null,
            "padding": null,
            "right": null,
            "top": null,
            "visibility": null,
            "width": null
          }
        },
        "b7b7a28fa0ac4e158daf072b42ff40e6": {
          "model_module": "@jupyter-widgets/base",
          "model_module_version": "1.2.0",
          "model_name": "LayoutModel",
          "state": {
            "_model_module": "@jupyter-widgets/base",
            "_model_module_version": "1.2.0",
            "_model_name": "LayoutModel",
            "_view_count": null,
            "_view_module": "@jupyter-widgets/base",
            "_view_module_version": "1.2.0",
            "_view_name": "LayoutView",
            "align_content": null,
            "align_items": null,
            "align_self": null,
            "border": null,
            "bottom": null,
            "display": null,
            "flex": null,
            "flex_flow": null,
            "grid_area": null,
            "grid_auto_columns": null,
            "grid_auto_flow": null,
            "grid_auto_rows": null,
            "grid_column": null,
            "grid_gap": null,
            "grid_row": null,
            "grid_template_areas": null,
            "grid_template_columns": null,
            "grid_template_rows": null,
            "height": null,
            "justify_content": null,
            "justify_items": null,
            "left": null,
            "margin": null,
            "max_height": null,
            "max_width": null,
            "min_height": null,
            "min_width": null,
            "object_fit": null,
            "object_position": null,
            "order": null,
            "overflow": null,
            "overflow_x": null,
            "overflow_y": null,
            "padding": null,
            "right": null,
            "top": null,
            "visibility": null,
            "width": null
          }
        },
        "b7c0937256d24cd886a7ede7b17fe5ac": {
          "model_module": "@jupyter-widgets/controls",
          "model_module_version": "1.5.0",
          "model_name": "FloatProgressModel",
          "state": {
            "_dom_classes": [],
            "_model_module": "@jupyter-widgets/controls",
            "_model_module_version": "1.5.0",
            "_model_name": "FloatProgressModel",
            "_view_count": null,
            "_view_module": "@jupyter-widgets/controls",
            "_view_module_version": "1.5.0",
            "_view_name": "ProgressView",
            "bar_style": "success",
            "description": "",
            "description_tooltip": null,
            "layout": "IPY_MODEL_07a27fdb1a534bf28e7459f50281f732",
            "max": 1000,
            "min": 0,
            "orientation": "horizontal",
            "style": "IPY_MODEL_75051f4a63054c4dbc5020118a92762f",
            "value": 1000
          }
        },
        "bdd5b424b1b64f81981d724562bde707": {
          "model_module": "@jupyter-widgets/base",
          "model_module_version": "1.2.0",
          "model_name": "LayoutModel",
          "state": {
            "_model_module": "@jupyter-widgets/base",
            "_model_module_version": "1.2.0",
            "_model_name": "LayoutModel",
            "_view_count": null,
            "_view_module": "@jupyter-widgets/base",
            "_view_module_version": "1.2.0",
            "_view_name": "LayoutView",
            "align_content": null,
            "align_items": null,
            "align_self": null,
            "border": null,
            "bottom": null,
            "display": null,
            "flex": null,
            "flex_flow": null,
            "grid_area": null,
            "grid_auto_columns": null,
            "grid_auto_flow": null,
            "grid_auto_rows": null,
            "grid_column": null,
            "grid_gap": null,
            "grid_row": null,
            "grid_template_areas": null,
            "grid_template_columns": null,
            "grid_template_rows": null,
            "height": null,
            "justify_content": null,
            "justify_items": null,
            "left": null,
            "margin": null,
            "max_height": null,
            "max_width": null,
            "min_height": null,
            "min_width": null,
            "object_fit": null,
            "object_position": null,
            "order": null,
            "overflow": null,
            "overflow_x": null,
            "overflow_y": null,
            "padding": null,
            "right": null,
            "top": null,
            "visibility": null,
            "width": null
          }
        },
        "c61c8a586c97437aae1dbbe689ddc24a": {
          "model_module": "@jupyter-widgets/controls",
          "model_module_version": "1.5.0",
          "model_name": "HTMLModel",
          "state": {
            "_dom_classes": [],
            "_model_module": "@jupyter-widgets/controls",
            "_model_module_version": "1.5.0",
            "_model_name": "HTMLModel",
            "_view_count": null,
            "_view_module": "@jupyter-widgets/controls",
            "_view_module_version": "1.5.0",
            "_view_name": "HTMLView",
            "description": "",
            "description_tooltip": null,
            "layout": "IPY_MODEL_1c4e26e6aaff458eb86b6fcc32d9abf1",
            "placeholder": "​",
            "style": "IPY_MODEL_ca055e2710074bf78ee7e3ba20f17575",
            "value": " 1000/1000 [00:00&lt;00:00, 4484.54 examples/s]"
          }
        },
        "c747c096f09d424197575a20d8c9923c": {
          "model_module": "@jupyter-widgets/base",
          "model_module_version": "1.2.0",
          "model_name": "LayoutModel",
          "state": {
            "_model_module": "@jupyter-widgets/base",
            "_model_module_version": "1.2.0",
            "_model_name": "LayoutModel",
            "_view_count": null,
            "_view_module": "@jupyter-widgets/base",
            "_view_module_version": "1.2.0",
            "_view_name": "LayoutView",
            "align_content": null,
            "align_items": null,
            "align_self": null,
            "border": null,
            "bottom": null,
            "display": null,
            "flex": null,
            "flex_flow": null,
            "grid_area": null,
            "grid_auto_columns": null,
            "grid_auto_flow": null,
            "grid_auto_rows": null,
            "grid_column": null,
            "grid_gap": null,
            "grid_row": null,
            "grid_template_areas": null,
            "grid_template_columns": null,
            "grid_template_rows": null,
            "height": null,
            "justify_content": null,
            "justify_items": null,
            "left": null,
            "margin": null,
            "max_height": null,
            "max_width": null,
            "min_height": null,
            "min_width": null,
            "object_fit": null,
            "object_position": null,
            "order": null,
            "overflow": null,
            "overflow_x": null,
            "overflow_y": null,
            "padding": null,
            "right": null,
            "top": null,
            "visibility": null,
            "width": null
          }
        },
        "ca055e2710074bf78ee7e3ba20f17575": {
          "model_module": "@jupyter-widgets/controls",
          "model_module_version": "1.5.0",
          "model_name": "DescriptionStyleModel",
          "state": {
            "_model_module": "@jupyter-widgets/controls",
            "_model_module_version": "1.5.0",
            "_model_name": "DescriptionStyleModel",
            "_view_count": null,
            "_view_module": "@jupyter-widgets/base",
            "_view_module_version": "1.2.0",
            "_view_name": "StyleView",
            "description_width": ""
          }
        },
        "cc936d5c6cdc421f8ac569ff4ca45168": {
          "model_module": "@jupyter-widgets/controls",
          "model_module_version": "1.5.0",
          "model_name": "HTMLModel",
          "state": {
            "_dom_classes": [],
            "_model_module": "@jupyter-widgets/controls",
            "_model_module_version": "1.5.0",
            "_model_name": "HTMLModel",
            "_view_count": null,
            "_view_module": "@jupyter-widgets/controls",
            "_view_module_version": "1.5.0",
            "_view_name": "HTMLView",
            "description": "",
            "description_tooltip": null,
            "layout": "IPY_MODEL_5af85d8de2774d11b23783e61ee3dac6",
            "placeholder": "​",
            "style": "IPY_MODEL_78236dc7f83d4485800b2d12407cfa10",
            "value": " 29000/29000 [00:03&lt;00:00, 5303.39 examples/s]"
          }
        },
        "cd5d2e104944434e8bd0b89b7cf36992": {
          "model_module": "@jupyter-widgets/base",
          "model_module_version": "1.2.0",
          "model_name": "LayoutModel",
          "state": {
            "_model_module": "@jupyter-widgets/base",
            "_model_module_version": "1.2.0",
            "_model_name": "LayoutModel",
            "_view_count": null,
            "_view_module": "@jupyter-widgets/base",
            "_view_module_version": "1.2.0",
            "_view_name": "LayoutView",
            "align_content": null,
            "align_items": null,
            "align_self": null,
            "border": null,
            "bottom": null,
            "display": null,
            "flex": null,
            "flex_flow": null,
            "grid_area": null,
            "grid_auto_columns": null,
            "grid_auto_flow": null,
            "grid_auto_rows": null,
            "grid_column": null,
            "grid_gap": null,
            "grid_row": null,
            "grid_template_areas": null,
            "grid_template_columns": null,
            "grid_template_rows": null,
            "height": null,
            "justify_content": null,
            "justify_items": null,
            "left": null,
            "margin": null,
            "max_height": null,
            "max_width": null,
            "min_height": null,
            "min_width": null,
            "object_fit": null,
            "object_position": null,
            "order": null,
            "overflow": null,
            "overflow_x": null,
            "overflow_y": null,
            "padding": null,
            "right": null,
            "top": null,
            "visibility": null,
            "width": null
          }
        },
        "d3e795e3b537476ea6fd3348dc942326": {
          "model_module": "@jupyter-widgets/controls",
          "model_module_version": "1.5.0",
          "model_name": "HTMLModel",
          "state": {
            "_dom_classes": [],
            "_model_module": "@jupyter-widgets/controls",
            "_model_module_version": "1.5.0",
            "_model_name": "HTMLModel",
            "_view_count": null,
            "_view_module": "@jupyter-widgets/controls",
            "_view_module_version": "1.5.0",
            "_view_name": "HTMLView",
            "description": "",
            "description_tooltip": null,
            "layout": "IPY_MODEL_de63ad0f64144f51b5dab65608937da6",
            "placeholder": "​",
            "style": "IPY_MODEL_399ca40cf765455fb3dbeccc8db4cb42",
            "value": " 1000/1000 [00:00&lt;00:00, 2527.23 examples/s]"
          }
        },
        "de63ad0f64144f51b5dab65608937da6": {
          "model_module": "@jupyter-widgets/base",
          "model_module_version": "1.2.0",
          "model_name": "LayoutModel",
          "state": {
            "_model_module": "@jupyter-widgets/base",
            "_model_module_version": "1.2.0",
            "_model_name": "LayoutModel",
            "_view_count": null,
            "_view_module": "@jupyter-widgets/base",
            "_view_module_version": "1.2.0",
            "_view_name": "LayoutView",
            "align_content": null,
            "align_items": null,
            "align_self": null,
            "border": null,
            "bottom": null,
            "display": null,
            "flex": null,
            "flex_flow": null,
            "grid_area": null,
            "grid_auto_columns": null,
            "grid_auto_flow": null,
            "grid_auto_rows": null,
            "grid_column": null,
            "grid_gap": null,
            "grid_row": null,
            "grid_template_areas": null,
            "grid_template_columns": null,
            "grid_template_rows": null,
            "height": null,
            "justify_content": null,
            "justify_items": null,
            "left": null,
            "margin": null,
            "max_height": null,
            "max_width": null,
            "min_height": null,
            "min_width": null,
            "object_fit": null,
            "object_position": null,
            "order": null,
            "overflow": null,
            "overflow_x": null,
            "overflow_y": null,
            "padding": null,
            "right": null,
            "top": null,
            "visibility": null,
            "width": null
          }
        },
        "e85a6feccbe64b918741e985869f4a7c": {
          "model_module": "@jupyter-widgets/controls",
          "model_module_version": "1.5.0",
          "model_name": "DescriptionStyleModel",
          "state": {
            "_model_module": "@jupyter-widgets/controls",
            "_model_module_version": "1.5.0",
            "_model_name": "DescriptionStyleModel",
            "_view_count": null,
            "_view_module": "@jupyter-widgets/base",
            "_view_module_version": "1.2.0",
            "_view_name": "StyleView",
            "description_width": ""
          }
        },
        "f6ee682381a5415ba18b78cec41d50e1": {
          "model_module": "@jupyter-widgets/controls",
          "model_module_version": "1.5.0",
          "model_name": "HTMLModel",
          "state": {
            "_dom_classes": [],
            "_model_module": "@jupyter-widgets/controls",
            "_model_module_version": "1.5.0",
            "_model_name": "HTMLModel",
            "_view_count": null,
            "_view_module": "@jupyter-widgets/controls",
            "_view_module_version": "1.5.0",
            "_view_name": "HTMLView",
            "description": "",
            "description_tooltip": null,
            "layout": "IPY_MODEL_a5437a303a41408db2a6584b633c0fee",
            "placeholder": "​",
            "style": "IPY_MODEL_e85a6feccbe64b918741e985869f4a7c",
            "value": "Map: 100%"
          }
        },
        "f773cd8bb0014055b42563c202c05460": {
          "model_module": "@jupyter-widgets/base",
          "model_module_version": "1.2.0",
          "model_name": "LayoutModel",
          "state": {
            "_model_module": "@jupyter-widgets/base",
            "_model_module_version": "1.2.0",
            "_model_name": "LayoutModel",
            "_view_count": null,
            "_view_module": "@jupyter-widgets/base",
            "_view_module_version": "1.2.0",
            "_view_name": "LayoutView",
            "align_content": null,
            "align_items": null,
            "align_self": null,
            "border": null,
            "bottom": null,
            "display": null,
            "flex": null,
            "flex_flow": null,
            "grid_area": null,
            "grid_auto_columns": null,
            "grid_auto_flow": null,
            "grid_auto_rows": null,
            "grid_column": null,
            "grid_gap": null,
            "grid_row": null,
            "grid_template_areas": null,
            "grid_template_columns": null,
            "grid_template_rows": null,
            "height": null,
            "justify_content": null,
            "justify_items": null,
            "left": null,
            "margin": null,
            "max_height": null,
            "max_width": null,
            "min_height": null,
            "min_width": null,
            "object_fit": null,
            "object_position": null,
            "order": null,
            "overflow": null,
            "overflow_x": null,
            "overflow_y": null,
            "padding": null,
            "right": null,
            "top": null,
            "visibility": null,
            "width": null
          }
        },
        "f7bb37e5280047faa3a19a221ef0d039": {
          "model_module": "@jupyter-widgets/controls",
          "model_module_version": "1.5.0",
          "model_name": "FloatProgressModel",
          "state": {
            "_dom_classes": [],
            "_model_module": "@jupyter-widgets/controls",
            "_model_module_version": "1.5.0",
            "_model_name": "FloatProgressModel",
            "_view_count": null,
            "_view_module": "@jupyter-widgets/controls",
            "_view_module_version": "1.5.0",
            "_view_name": "ProgressView",
            "bar_style": "success",
            "description": "",
            "description_tooltip": null,
            "layout": "IPY_MODEL_2e965870a6004574bb84041c127a8244",
            "max": 1014,
            "min": 0,
            "orientation": "horizontal",
            "style": "IPY_MODEL_232753aebc484e8aad7eaa0bb315efd2",
            "value": 1014
          }
        },
        "faa6d45494b6491283aacce4a2448f77": {
          "model_module": "@jupyter-widgets/controls",
          "model_module_version": "1.5.0",
          "model_name": "HBoxModel",
          "state": {
            "_dom_classes": [],
            "_model_module": "@jupyter-widgets/controls",
            "_model_module_version": "1.5.0",
            "_model_name": "HBoxModel",
            "_view_count": null,
            "_view_module": "@jupyter-widgets/controls",
            "_view_module_version": "1.5.0",
            "_view_name": "HBoxView",
            "box_style": "",
            "children": [
              "IPY_MODEL_0836d83065014a99b97aa719f4aafd0d",
              "IPY_MODEL_b7c0937256d24cd886a7ede7b17fe5ac",
              "IPY_MODEL_d3e795e3b537476ea6fd3348dc942326"
            ],
            "layout": "IPY_MODEL_b7b7a28fa0ac4e158daf072b42ff40e6"
          }
        },
        "fe374b209beb4d0bb484b986d9266239": {
          "model_module": "@jupyter-widgets/controls",
          "model_module_version": "1.5.0",
          "model_name": "HBoxModel",
          "state": {
            "_dom_classes": [],
            "_model_module": "@jupyter-widgets/controls",
            "_model_module_version": "1.5.0",
            "_model_name": "HBoxModel",
            "_view_count": null,
            "_view_module": "@jupyter-widgets/controls",
            "_view_module_version": "1.5.0",
            "_view_name": "HBoxView",
            "box_style": "",
            "children": [
              "IPY_MODEL_f6ee682381a5415ba18b78cec41d50e1",
              "IPY_MODEL_2dd230e3407e43c0b7bfe3aacf41b3e4",
              "IPY_MODEL_54efbedd160b417090b9b01841db3c0f"
            ],
            "layout": "IPY_MODEL_a818eee9297f4a8fac5d4507c150dc95"
          }
        }
      }
    }
  },
  "nbformat": 4,
  "nbformat_minor": 0
}
