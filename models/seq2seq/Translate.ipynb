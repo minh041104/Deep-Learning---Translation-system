{
  "cells": [
    {
      "cell_type": "code",
      "source": [
        "!pip install -r requirements.txt"
      ],
      "metadata": {
        "collapsed": true,
        "id": "-bou9sY6Daxn",
        "outputId": "93ffdb6a-5b70-4878-a349-be82d38b13f7",
        "colab": {
          "base_uri": "https://localhost:8080/"
        }
      },
      "execution_count": 2,
      "outputs": [
        {
          "output_type": "stream",
          "name": "stdout",
          "text": [
            "Collecting absl-py==2.1.0 (from -r requirements.txt (line 1))\n",
            "  Using cached absl_py-2.1.0-py3-none-any.whl.metadata (2.3 kB)\n",
            "Collecting aiofiles==23.2.1 (from -r requirements.txt (line 2))\n",
            "  Using cached aiofiles-23.2.1-py3-none-any.whl.metadata (9.7 kB)\n",
            "Requirement already satisfied: aiohappyeyeballs==2.4.4 in /usr/local/lib/python3.10/dist-packages (from -r requirements.txt (line 3)) (2.4.4)\n",
            "Requirement already satisfied: aiohttp==3.11.10 in /usr/local/lib/python3.10/dist-packages (from -r requirements.txt (line 4)) (3.11.10)\n",
            "Requirement already satisfied: aiosignal==1.3.1 in /usr/local/lib/python3.10/dist-packages (from -r requirements.txt (line 5)) (1.3.1)\n",
            "Requirement already satisfied: annotated-types==0.7.0 in /usr/local/lib/python3.10/dist-packages (from -r requirements.txt (line 6)) (0.7.0)\n",
            "Requirement already satisfied: anyascii==0.3.2 in /usr/local/lib/python3.10/dist-packages (from -r requirements.txt (line 7)) (0.3.2)\n",
            "Collecting anyio==4.7.0 (from -r requirements.txt (line 8))\n",
            "  Using cached anyio-4.7.0-py3-none-any.whl.metadata (4.7 kB)\n",
            "Collecting asttokens==3.0.0 (from -r requirements.txt (line 9))\n",
            "  Using cached asttokens-3.0.0-py3-none-any.whl.metadata (4.7 kB)\n",
            "Requirement already satisfied: attrs==24.2.0 in /usr/local/lib/python3.10/dist-packages (from -r requirements.txt (line 10)) (24.2.0)\n",
            "Requirement already satisfied: beautifulsoup4==4.12.3 in /usr/local/lib/python3.10/dist-packages (from -r requirements.txt (line 11)) (4.12.3)\n",
            "Collecting blis==1.0.2 (from -r requirements.txt (line 12))\n",
            "  Using cached blis-1.0.2-cp310-cp310-manylinux_2_17_x86_64.manylinux2014_x86_64.whl.metadata (7.6 kB)\n",
            "Requirement already satisfied: catalogue==2.0.10 in /usr/local/lib/python3.10/dist-packages (from -r requirements.txt (line 13)) (2.0.10)\n",
            "Requirement already satisfied: certifi==2024.8.30 in /usr/local/lib/python3.10/dist-packages (from -r requirements.txt (line 14)) (2024.8.30)\n",
            "Requirement already satisfied: cffi==1.17.1 in /usr/local/lib/python3.10/dist-packages (from -r requirements.txt (line 15)) (1.17.1)\n",
            "Requirement already satisfied: charset-normalizer==3.4.0 in /usr/local/lib/python3.10/dist-packages (from -r requirements.txt (line 16)) (3.4.0)\n",
            "Requirement already satisfied: click==8.1.7 in /usr/local/lib/python3.10/dist-packages (from -r requirements.txt (line 17)) (8.1.7)\n",
            "Requirement already satisfied: cloudpathlib==0.20.0 in /usr/local/lib/python3.10/dist-packages (from -r requirements.txt (line 18)) (0.20.0)\n",
            "Collecting colorama==0.4.6 (from -r requirements.txt (line 19))\n",
            "  Using cached colorama-0.4.6-py2.py3-none-any.whl.metadata (17 kB)\n",
            "Collecting comm==0.2.2 (from -r requirements.txt (line 20))\n",
            "  Using cached comm-0.2.2-py3-none-any.whl.metadata (3.7 kB)\n",
            "Requirement already satisfied: confection==0.1.5 in /usr/local/lib/python3.10/dist-packages (from -r requirements.txt (line 21)) (0.1.5)\n",
            "Requirement already satisfied: contourpy==1.3.1 in /usr/local/lib/python3.10/dist-packages (from -r requirements.txt (line 22)) (1.3.1)\n",
            "Requirement already satisfied: contractions==0.1.73 in /usr/local/lib/python3.10/dist-packages (from -r requirements.txt (line 23)) (0.1.73)\n",
            "Requirement already satisfied: cycler==0.12.1 in /usr/local/lib/python3.10/dist-packages (from -r requirements.txt (line 24)) (0.12.1)\n",
            "Requirement already satisfied: cymem==2.0.10 in /usr/local/lib/python3.10/dist-packages (from -r requirements.txt (line 25)) (2.0.10)\n",
            "Requirement already satisfied: datasets==3.2.0 in /usr/local/lib/python3.10/dist-packages (from -r requirements.txt (line 26)) (3.2.0)\n",
            "Collecting debugpy==1.8.9 (from -r requirements.txt (line 27))\n",
            "  Using cached debugpy-1.8.9-cp310-cp310-manylinux_2_5_x86_64.manylinux1_x86_64.manylinux_2_17_x86_64.manylinux2014_x86_64.whl.metadata (1.1 kB)\n",
            "Collecting decorator==5.1.1 (from -r requirements.txt (line 28))\n",
            "  Using cached decorator-5.1.1-py3-none-any.whl.metadata (4.0 kB)\n",
            "Requirement already satisfied: deep-translator==1.11.4 in /usr/local/lib/python3.10/dist-packages (from -r requirements.txt (line 29)) (1.11.4)\n",
            "Requirement already satisfied: dill==0.3.8 in /usr/local/lib/python3.10/dist-packages (from -r requirements.txt (line 30)) (0.3.8)\n",
            "Collecting executing==2.1.0 (from -r requirements.txt (line 31))\n",
            "  Using cached executing-2.1.0-py2.py3-none-any.whl.metadata (8.9 kB)\n",
            "Collecting fastapi==0.115.6 (from -r requirements.txt (line 32))\n",
            "  Using cached fastapi-0.115.6-py3-none-any.whl.metadata (27 kB)\n",
            "Collecting ffmpy==0.4.0 (from -r requirements.txt (line 33))\n",
            "  Using cached ffmpy-0.4.0-py3-none-any.whl.metadata (2.9 kB)\n",
            "Requirement already satisfied: filelock==3.16.1 in /usr/local/lib/python3.10/dist-packages (from -r requirements.txt (line 34)) (3.16.1)\n",
            "Collecting fonttools==4.55.3 (from -r requirements.txt (line 35))\n",
            "  Using cached fonttools-4.55.3-cp310-cp310-manylinux_2_17_x86_64.manylinux2014_x86_64.whl.metadata (165 kB)\n",
            "Requirement already satisfied: frozenlist==1.5.0 in /usr/local/lib/python3.10/dist-packages (from -r requirements.txt (line 36)) (1.5.0)\n",
            "Requirement already satisfied: fsspec==2024.9.0 in /usr/local/lib/python3.10/dist-packages (from -r requirements.txt (line 37)) (2024.9.0)\n",
            "Collecting gradio==5.8.0 (from -r requirements.txt (line 38))\n",
            "  Using cached gradio-5.8.0-py3-none-any.whl.metadata (16 kB)\n",
            "Collecting gradio_client==1.5.1 (from -r requirements.txt (line 39))\n",
            "  Using cached gradio_client-1.5.1-py3-none-any.whl.metadata (7.1 kB)\n",
            "Requirement already satisfied: h11==0.14.0 in /usr/local/lib/python3.10/dist-packages (from -r requirements.txt (line 40)) (0.14.0)\n",
            "Requirement already satisfied: httpcore==1.0.7 in /usr/local/lib/python3.10/dist-packages (from -r requirements.txt (line 41)) (1.0.7)\n",
            "Collecting httpx==0.28.0 (from -r requirements.txt (line 42))\n",
            "  Using cached httpx-0.28.0-py3-none-any.whl.metadata (7.1 kB)\n",
            "Collecting huggingface-hub==0.26.3 (from -r requirements.txt (line 43))\n",
            "  Using cached huggingface_hub-0.26.3-py3-none-any.whl.metadata (13 kB)\n",
            "Requirement already satisfied: idna==3.10 in /usr/local/lib/python3.10/dist-packages (from -r requirements.txt (line 44)) (3.10)\n",
            "Collecting ipykernel==6.29.5 (from -r requirements.txt (line 45))\n",
            "  Using cached ipykernel-6.29.5-py3-none-any.whl.metadata (6.3 kB)\n",
            "Collecting ipython==8.30.0 (from -r requirements.txt (line 46))\n",
            "  Using cached ipython-8.30.0-py3-none-any.whl.metadata (4.9 kB)\n",
            "Collecting jedi==0.19.2 (from -r requirements.txt (line 47))\n",
            "  Using cached jedi-0.19.2-py2.py3-none-any.whl.metadata (22 kB)\n",
            "Requirement already satisfied: Jinja2==3.1.4 in /usr/local/lib/python3.10/dist-packages (from -r requirements.txt (line 48)) (3.1.4)\n",
            "Requirement already satisfied: joblib==1.4.2 in /usr/local/lib/python3.10/dist-packages (from -r requirements.txt (line 49)) (1.4.2)\n",
            "Collecting jupyter_client==8.6.3 (from -r requirements.txt (line 50))\n",
            "  Using cached jupyter_client-8.6.3-py3-none-any.whl.metadata (8.3 kB)\n",
            "Requirement already satisfied: jupyter_core==5.7.2 in /usr/local/lib/python3.10/dist-packages (from -r requirements.txt (line 51)) (5.7.2)\n",
            "Requirement already satisfied: kiwisolver==1.4.7 in /usr/local/lib/python3.10/dist-packages (from -r requirements.txt (line 52)) (1.4.7)\n",
            "Requirement already satisfied: langcodes==3.5.0 in /usr/local/lib/python3.10/dist-packages (from -r requirements.txt (line 53)) (3.5.0)\n",
            "Collecting langdetect==1.0.9 (from -r requirements.txt (line 54))\n",
            "  Using cached langdetect-1.0.9.tar.gz (981 kB)\n",
            "  Preparing metadata (setup.py) ... \u001b[?25l\u001b[?25hdone\n",
            "Requirement already satisfied: language_data==1.3.0 in /usr/local/lib/python3.10/dist-packages (from -r requirements.txt (line 55)) (1.3.0)\n",
            "Requirement already satisfied: lxml==5.3.0 in /usr/local/lib/python3.10/dist-packages (from -r requirements.txt (line 56)) (5.3.0)\n",
            "Requirement already satisfied: marisa-trie==1.2.1 in /usr/local/lib/python3.10/dist-packages (from -r requirements.txt (line 57)) (1.2.1)\n",
            "Requirement already satisfied: markdown-it-py==3.0.0 in /usr/local/lib/python3.10/dist-packages (from -r requirements.txt (line 58)) (3.0.0)\n",
            "Collecting MarkupSafe==2.1.5 (from -r requirements.txt (line 59))\n",
            "  Using cached MarkupSafe-2.1.5-cp310-cp310-manylinux_2_17_x86_64.manylinux2014_x86_64.whl.metadata (3.0 kB)\n",
            "Collecting matplotlib==3.9.3 (from -r requirements.txt (line 60))\n",
            "  Using cached matplotlib-3.9.3-cp310-cp310-manylinux_2_17_x86_64.manylinux2014_x86_64.whl.metadata (11 kB)\n",
            "Requirement already satisfied: matplotlib-inline==0.1.7 in /usr/local/lib/python3.10/dist-packages (from -r requirements.txt (line 61)) (0.1.7)\n",
            "Requirement already satisfied: mdurl==0.1.2 in /usr/local/lib/python3.10/dist-packages (from -r requirements.txt (line 62)) (0.1.2)\n",
            "Requirement already satisfied: mpmath==1.3.0 in /usr/local/lib/python3.10/dist-packages (from -r requirements.txt (line 63)) (1.3.0)\n",
            "Requirement already satisfied: multidict==6.1.0 in /usr/local/lib/python3.10/dist-packages (from -r requirements.txt (line 64)) (6.1.0)\n",
            "Requirement already satisfied: multiprocess==0.70.16 in /usr/local/lib/python3.10/dist-packages (from -r requirements.txt (line 65)) (0.70.16)\n",
            "Requirement already satisfied: murmurhash==1.0.11 in /usr/local/lib/python3.10/dist-packages (from -r requirements.txt (line 66)) (1.0.11)\n",
            "Requirement already satisfied: nest-asyncio==1.6.0 in /usr/local/lib/python3.10/dist-packages (from -r requirements.txt (line 67)) (1.6.0)\n",
            "Requirement already satisfied: networkx==3.4.2 in /usr/local/lib/python3.10/dist-packages (from -r requirements.txt (line 68)) (3.4.2)\n",
            "Collecting nltk==3.9.1 (from -r requirements.txt (line 69))\n",
            "  Using cached nltk-3.9.1-py3-none-any.whl.metadata (2.9 kB)\n",
            "Collecting numpy==2.0.2 (from -r requirements.txt (line 70))\n",
            "  Using cached numpy-2.0.2-cp310-cp310-manylinux_2_17_x86_64.manylinux2014_x86_64.whl.metadata (60 kB)\n",
            "Requirement already satisfied: orjson==3.10.12 in /usr/local/lib/python3.10/dist-packages (from -r requirements.txt (line 71)) (3.10.12)\n",
            "Collecting outcome==1.3.0.post0 (from -r requirements.txt (line 72))\n",
            "  Using cached outcome-1.3.0.post0-py2.py3-none-any.whl.metadata (2.6 kB)\n",
            "Requirement already satisfied: packaging==24.2 in /usr/local/lib/python3.10/dist-packages (from -r requirements.txt (line 73)) (24.2)\n",
            "Collecting pandas==2.2.3 (from -r requirements.txt (line 74))\n",
            "  Using cached pandas-2.2.3-cp310-cp310-manylinux_2_17_x86_64.manylinux2014_x86_64.whl.metadata (89 kB)\n",
            "Requirement already satisfied: parso==0.8.4 in /usr/local/lib/python3.10/dist-packages (from -r requirements.txt (line 75)) (0.8.4)\n",
            "Requirement already satisfied: pillow==11.0.0 in /usr/local/lib/python3.10/dist-packages (from -r requirements.txt (line 76)) (11.0.0)\n",
            "Requirement already satisfied: platformdirs==4.3.6 in /usr/local/lib/python3.10/dist-packages (from -r requirements.txt (line 77)) (4.3.6)\n",
            "Collecting portalocker==3.0.0 (from -r requirements.txt (line 78))\n",
            "  Using cached portalocker-3.0.0-py3-none-any.whl.metadata (8.5 kB)\n",
            "Requirement already satisfied: preshed==3.0.9 in /usr/local/lib/python3.10/dist-packages (from -r requirements.txt (line 79)) (3.0.9)\n",
            "Requirement already satisfied: prompt_toolkit==3.0.48 in /usr/local/lib/python3.10/dist-packages (from -r requirements.txt (line 80)) (3.0.48)\n",
            "Requirement already satisfied: propcache==0.2.1 in /usr/local/lib/python3.10/dist-packages (from -r requirements.txt (line 81)) (0.2.1)\n",
            "Collecting psutil==6.1.0 (from -r requirements.txt (line 82))\n",
            "  Using cached psutil-6.1.0-cp36-abi3-manylinux_2_12_x86_64.manylinux2010_x86_64.manylinux_2_17_x86_64.manylinux2014_x86_64.whl.metadata (22 kB)\n",
            "Collecting pure_eval==0.2.3 (from -r requirements.txt (line 83))\n",
            "  Using cached pure_eval-0.2.3-py3-none-any.whl.metadata (6.3 kB)\n",
            "Requirement already satisfied: pyahocorasick==2.1.0 in /usr/local/lib/python3.10/dist-packages (from -r requirements.txt (line 84)) (2.1.0)\n",
            "Collecting pyarrow==18.1.0 (from -r requirements.txt (line 85))\n",
            "  Using cached pyarrow-18.1.0-cp310-cp310-manylinux_2_28_x86_64.whl.metadata (3.3 kB)\n",
            "Requirement already satisfied: pycparser==2.22 in /usr/local/lib/python3.10/dist-packages (from -r requirements.txt (line 86)) (2.22)\n",
            "Requirement already satisfied: pydantic==2.10.3 in /usr/local/lib/python3.10/dist-packages (from -r requirements.txt (line 87)) (2.10.3)\n",
            "Requirement already satisfied: pydantic_core==2.27.1 in /usr/local/lib/python3.10/dist-packages (from -r requirements.txt (line 88)) (2.27.1)\n",
            "Collecting pydub==0.25.1 (from -r requirements.txt (line 89))\n",
            "  Using cached pydub-0.25.1-py2.py3-none-any.whl.metadata (1.4 kB)\n",
            "Requirement already satisfied: Pygments==2.18.0 in /usr/local/lib/python3.10/dist-packages (from -r requirements.txt (line 90)) (2.18.0)\n",
            "Requirement already satisfied: pyparsing==3.2.0 in /usr/local/lib/python3.10/dist-packages (from -r requirements.txt (line 91)) (3.2.0)\n",
            "Requirement already satisfied: PySocks==1.7.1 in /usr/local/lib/python3.10/dist-packages (from -r requirements.txt (line 92)) (1.7.1)\n",
            "Requirement already satisfied: python-crfsuite==0.9.11 in /usr/local/lib/python3.10/dist-packages (from -r requirements.txt (line 93)) (0.9.11)\n",
            "Collecting python-dateutil==2.9.0.post0 (from -r requirements.txt (line 94))\n",
            "  Using cached python_dateutil-2.9.0.post0-py2.py3-none-any.whl.metadata (8.4 kB)\n",
            "Collecting python-multipart==0.0.19 (from -r requirements.txt (line 95))\n",
            "  Using cached python_multipart-0.0.19-py3-none-any.whl.metadata (1.8 kB)\n",
            "Requirement already satisfied: pytz==2024.2 in /usr/local/lib/python3.10/dist-packages (from -r requirements.txt (line 96)) (2024.2)\n",
            "Requirement already satisfied: pyvi==0.1.1 in /usr/local/lib/python3.10/dist-packages (from -r requirements.txt (line 97)) (0.1.1)\n",
            "\u001b[31mERROR: Could not find a version that satisfies the requirement pywin32==308 (from versions: none)\u001b[0m\u001b[31m\n",
            "\u001b[0m\u001b[31mERROR: No matching distribution found for pywin32==308\u001b[0m\u001b[31m\n",
            "\u001b[0m"
          ]
        }
      ]
    },
    {
      "cell_type": "code",
      "source": [
        "!pip install deep-translator"
      ],
      "metadata": {
        "collapsed": true,
        "id": "ANyNO38nGaj0",
        "outputId": "2aa21e08-1bf9-40b2-e775-382ff8a8ff49",
        "colab": {
          "base_uri": "https://localhost:8080/"
        }
      },
      "execution_count": 3,
      "outputs": [
        {
          "output_type": "stream",
          "name": "stdout",
          "text": [
            "Requirement already satisfied: deep-translator in /usr/local/lib/python3.10/dist-packages (1.11.4)\n",
            "Requirement already satisfied: beautifulsoup4<5.0.0,>=4.9.1 in /usr/local/lib/python3.10/dist-packages (from deep-translator) (4.12.3)\n",
            "Requirement already satisfied: requests<3.0.0,>=2.23.0 in /usr/local/lib/python3.10/dist-packages (from deep-translator) (2.32.3)\n",
            "Requirement already satisfied: soupsieve>1.2 in /usr/local/lib/python3.10/dist-packages (from beautifulsoup4<5.0.0,>=4.9.1->deep-translator) (2.6)\n",
            "Requirement already satisfied: charset-normalizer<4,>=2 in /usr/local/lib/python3.10/dist-packages (from requests<3.0.0,>=2.23.0->deep-translator) (3.4.0)\n",
            "Requirement already satisfied: idna<4,>=2.5 in /usr/local/lib/python3.10/dist-packages (from requests<3.0.0,>=2.23.0->deep-translator) (3.10)\n",
            "Requirement already satisfied: urllib3<3,>=1.21.1 in /usr/local/lib/python3.10/dist-packages (from requests<3.0.0,>=2.23.0->deep-translator) (2.2.3)\n",
            "Requirement already satisfied: certifi>=2017.4.17 in /usr/local/lib/python3.10/dist-packages (from requests<3.0.0,>=2.23.0->deep-translator) (2024.8.30)\n"
          ]
        }
      ]
    },
    {
      "cell_type": "code",
      "source": [
        "!pip install pyvi"
      ],
      "metadata": {
        "collapsed": true,
        "id": "zFUq2GqCGznZ",
        "outputId": "bb90304e-dc65-450a-a2aa-25e8bd951f1e",
        "colab": {
          "base_uri": "https://localhost:8080/"
        }
      },
      "execution_count": 4,
      "outputs": [
        {
          "output_type": "stream",
          "name": "stdout",
          "text": [
            "Requirement already satisfied: pyvi in /usr/local/lib/python3.10/dist-packages (0.1.1)\n",
            "Requirement already satisfied: scikit-learn in /usr/local/lib/python3.10/dist-packages (from pyvi) (1.5.2)\n",
            "Requirement already satisfied: sklearn-crfsuite in /usr/local/lib/python3.10/dist-packages (from pyvi) (0.5.0)\n",
            "Requirement already satisfied: numpy>=1.19.5 in /usr/local/lib/python3.10/dist-packages (from scikit-learn->pyvi) (1.26.4)\n",
            "Requirement already satisfied: scipy>=1.6.0 in /usr/local/lib/python3.10/dist-packages (from scikit-learn->pyvi) (1.13.1)\n",
            "Requirement already satisfied: joblib>=1.2.0 in /usr/local/lib/python3.10/dist-packages (from scikit-learn->pyvi) (1.4.2)\n",
            "Requirement already satisfied: threadpoolctl>=3.1.0 in /usr/local/lib/python3.10/dist-packages (from scikit-learn->pyvi) (3.5.0)\n",
            "Requirement already satisfied: python-crfsuite>=0.9.7 in /usr/local/lib/python3.10/dist-packages (from sklearn-crfsuite->pyvi) (0.9.11)\n",
            "Requirement already satisfied: tabulate>=0.4.2 in /usr/local/lib/python3.10/dist-packages (from sklearn-crfsuite->pyvi) (0.9.0)\n",
            "Requirement already satisfied: tqdm>=2.0 in /usr/local/lib/python3.10/dist-packages (from sklearn-crfsuite->pyvi) (4.66.6)\n"
          ]
        }
      ]
    },
    {
      "cell_type": "code",
      "source": [
        "!pip install rouge-score"
      ],
      "metadata": {
        "collapsed": true,
        "id": "GGURtsoPIwXD",
        "outputId": "35ec30d8-6cd3-4129-fbb8-46feb7e57a97",
        "colab": {
          "base_uri": "https://localhost:8080/"
        }
      },
      "execution_count": 5,
      "outputs": [
        {
          "output_type": "stream",
          "name": "stdout",
          "text": [
            "Requirement already satisfied: rouge-score in /usr/local/lib/python3.10/dist-packages (0.1.2)\n",
            "Requirement already satisfied: absl-py in /usr/local/lib/python3.10/dist-packages (from rouge-score) (1.4.0)\n",
            "Requirement already satisfied: nltk in /usr/local/lib/python3.10/dist-packages (from rouge-score) (3.5)\n",
            "Requirement already satisfied: numpy in /usr/local/lib/python3.10/dist-packages (from rouge-score) (1.26.4)\n",
            "Requirement already satisfied: six>=1.14.0 in /usr/local/lib/python3.10/dist-packages (from rouge-score) (1.17.0)\n",
            "Requirement already satisfied: click in /usr/local/lib/python3.10/dist-packages (from nltk->rouge-score) (8.1.7)\n",
            "Requirement already satisfied: joblib in /usr/local/lib/python3.10/dist-packages (from nltk->rouge-score) (1.4.2)\n",
            "Requirement already satisfied: regex in /usr/local/lib/python3.10/dist-packages (from nltk->rouge-score) (2024.9.11)\n",
            "Requirement already satisfied: tqdm in /usr/local/lib/python3.10/dist-packages (from nltk->rouge-score) (4.66.6)\n"
          ]
        }
      ]
    },
    {
      "cell_type": "code",
      "source": [
        "!pip install nltk==3.5"
      ],
      "metadata": {
        "collapsed": true,
        "id": "eibcXBmHKEWx",
        "outputId": "e3aae880-2e88-412a-8b04-170a17a7fd75",
        "colab": {
          "base_uri": "https://localhost:8080/"
        }
      },
      "execution_count": 6,
      "outputs": [
        {
          "output_type": "stream",
          "name": "stdout",
          "text": [
            "Requirement already satisfied: nltk==3.5 in /usr/local/lib/python3.10/dist-packages (3.5)\n",
            "Requirement already satisfied: click in /usr/local/lib/python3.10/dist-packages (from nltk==3.5) (8.1.7)\n",
            "Requirement already satisfied: joblib in /usr/local/lib/python3.10/dist-packages (from nltk==3.5) (1.4.2)\n",
            "Requirement already satisfied: regex in /usr/local/lib/python3.10/dist-packages (from nltk==3.5) (2024.9.11)\n",
            "Requirement already satisfied: tqdm in /usr/local/lib/python3.10/dist-packages (from nltk==3.5) (4.66.6)\n"
          ]
        }
      ]
    },
    {
      "cell_type": "code",
      "execution_count": 7,
      "metadata": {
        "id": "pWO4Ok6X-nG-"
      },
      "outputs": [],
      "source": [
        "from utils.preprocessor import *\n",
        "import contractions\n",
        "import spacy\n",
        "from utils.model import Encoder, DecoderAttn\n",
        "from utils.train import training\n",
        "from utils.evaluate import evaluateRandom, translate_sentence, calcBLEU, calcMetrics, calcMetrics\n",
        "import torch\n",
        "import torch.nn as nn\n",
        "from torch import optim"
      ]
    },
    {
      "cell_type": "code",
      "execution_count": 8,
      "metadata": {
        "colab": {
          "base_uri": "https://localhost:8080/"
        },
        "id": "OviXf2m1-oUM",
        "outputId": "2ca2c66f-8e76-446c-e891-d7601f7cfc4b"
      },
      "outputs": [
        {
          "output_type": "stream",
          "name": "stdout",
          "text": [
            "cuda\n"
          ]
        }
      ],
      "source": [
        "device = torch.device(\"cuda\" if torch.cuda.is_available() else \"cpu\")\n",
        "print(device)"
      ]
    },
    {
      "cell_type": "code",
      "execution_count": 9,
      "metadata": {
        "colab": {
          "base_uri": "https://localhost:8080/"
        },
        "id": "BpbYGD-W-qYG",
        "outputId": "57d3663a-07a2-4530-fe6a-fd5e26aab321"
      },
      "outputs": [
        {
          "output_type": "stream",
          "name": "stdout",
          "text": [
            "Dataset({\n",
            "    features: ['en', 'vi'],\n",
            "    num_rows: 29000\n",
            "}) Dataset({\n",
            "    features: ['en', 'vi'],\n",
            "    num_rows: 1014\n",
            "}) Dataset({\n",
            "    features: ['en', 'vi'],\n",
            "    num_rows: 1000\n",
            "})\n"
          ]
        }
      ],
      "source": [
        "root_path = \"data\"\n",
        "train_data, test_data, val_data = get_dataset(\"train.txt\", root_path=root_path),\\\n",
        "                            get_dataset(\"test.txt\", root_path=root_path),\\\n",
        "                            get_dataset(\"validation.txt\", root_path)\n",
        "print(train_data, val_data, test_data)"
      ]
    },
    {
      "cell_type": "markdown",
      "metadata": {
        "id": "w06yEjYfNeaj"
      },
      "source": [
        "#**Tiền xử lý**#"
      ]
    },
    {
      "cell_type": "code",
      "execution_count": 10,
      "metadata": {
        "id": "vs_isANf-vsD"
      },
      "outputs": [],
      "source": [
        "lst_check = \"‘’“”…—\"\n",
        "for char in lst_check:\n",
        "    for x in train_data['vi']:\n",
        "        a = x.count(char)\n",
        "        if a > 0 and a % 2 == 0:\n",
        "            print(x)\n",
        "    for x in train_data['en']:\n",
        "        a = x.count(char)\n",
        "        if a > 0 and a % 2 == 0:\n",
        "            print(x)"
      ]
    },
    {
      "cell_type": "code",
      "execution_count": 11,
      "metadata": {
        "colab": {
          "base_uri": "https://localhost:8080/",
          "height": 113,
          "referenced_widgets": [
            "b4520fd0b0ba48b0a4feab5d0c332184",
            "06c2435d7ee0448c8aa92474d88e17c5",
            "11654277491b4b81940dc104f9324e2f",
            "cc936d5c6cdc421f8ac569ff4ca45168",
            "32329560a4c54aff90dfbdbec1aba9cc",
            "b1888376fbe044488dcd4e2d0977d3c1",
            "64b72743845243169b0ba9cec5b96fbc",
            "b72dbd740e5f4e5eb30331ccc5b569c1",
            "0463390e7e67493c827148ba9f7bb74b",
            "5af85d8de2774d11b23783e61ee3dac6",
            "78236dc7f83d4485800b2d12407cfa10",
            "46bf2792bd9643358e39f03bb99c2d07",
            "683a5b3ff968477ea6fc935a10da0ca3",
            "b371acf9798c4b7291e86aac3fafe6dd",
            "c61c8a586c97437aae1dbbe689ddc24a",
            "c747c096f09d424197575a20d8c9923c",
            "cd5d2e104944434e8bd0b89b7cf36992",
            "3c255262343146aa9d160875f2c14f63",
            "f773cd8bb0014055b42563c202c05460",
            "1dca38375dc740b6b1444aaa8975ad8d",
            "1c4e26e6aaff458eb86b6fcc32d9abf1",
            "ca055e2710074bf78ee7e3ba20f17575",
            "fe374b209beb4d0bb484b986d9266239",
            "f6ee682381a5415ba18b78cec41d50e1",
            "2dd230e3407e43c0b7bfe3aacf41b3e4",
            "54efbedd160b417090b9b01841db3c0f",
            "a818eee9297f4a8fac5d4507c150dc95",
            "a5437a303a41408db2a6584b633c0fee",
            "e85a6feccbe64b918741e985869f4a7c",
            "bdd5b424b1b64f81981d724562bde707",
            "5bb8b282ae3b4dabad182d47aad87886",
            "6091949ff5ce4747939913a17facb558",
            "06763c705e9b454aabc2e23559afef66"
          ]
        },
        "id": "2uFo3G7q-xMc",
        "outputId": "bcd82179-fc08-4ed1-cfbf-373171ae0b33"
      },
      "outputs": [
        {
          "output_type": "display_data",
          "data": {
            "text/plain": [
              "Map:   0%|          | 0/29000 [00:00<?, ? examples/s]"
            ],
            "application/vnd.jupyter.widget-view+json": {
              "version_major": 2,
              "version_minor": 0,
              "model_id": "b4520fd0b0ba48b0a4feab5d0c332184"
            }
          },
          "metadata": {}
        },
        {
          "output_type": "display_data",
          "data": {
            "text/plain": [
              "Map:   0%|          | 0/1000 [00:00<?, ? examples/s]"
            ],
            "application/vnd.jupyter.widget-view+json": {
              "version_major": 2,
              "version_minor": 0,
              "model_id": "46bf2792bd9643358e39f03bb99c2d07"
            }
          },
          "metadata": {}
        },
        {
          "output_type": "display_data",
          "data": {
            "text/plain": [
              "Map:   0%|          | 0/1014 [00:00<?, ? examples/s]"
            ],
            "application/vnd.jupyter.widget-view+json": {
              "version_major": 2,
              "version_minor": 0,
              "model_id": "fe374b209beb4d0bb484b986d9266239"
            }
          },
          "metadata": {}
        }
      ],
      "source": [
        "def update_contractions(text):\n",
        "    # slang = False !\n",
        "    return contractions.fix(text, slang=False)\n",
        "def remove_char_quotes(text):\n",
        "    rs = text\n",
        "    cnt1, cnt2 = text.count('\"'), text.count(\"'\")\n",
        "    if cnt1 > 0 and cnt1 % 2 == 0:\n",
        "        rs = text.replace('\"','')\n",
        "    if cnt2 > 0 and cnt2 % 2 == 0:\n",
        "        rs = text.replace(\"'\", '')\n",
        "    return rs\n",
        "def processing(texts):\n",
        "    texts['en'], texts['vi'] = [remove_char_quotes(update_contractions(t)).lower().strip() for t in [texts['en'], texts['vi']]]\n",
        "    return texts\n",
        "train_data = train_data.map(processing)\n",
        "test_data = test_data.map(processing)\n",
        "val_data = val_data.map(processing)"
      ]
    },
    {
      "cell_type": "code",
      "execution_count": 12,
      "metadata": {
        "colab": {
          "base_uri": "https://localhost:8080/"
        },
        "id": "4P5HTbSH-yF8",
        "outputId": "127151f0-7a7d-4145-87f4-0e3834d80d3b"
      },
      "outputs": [
        {
          "output_type": "execute_result",
          "data": {
            "text/plain": [
              "{'en': 'two young, white males are outside near many bushes.',\n",
              " 'vi': 'hai thanh niên da trắng ở bên ngoài gần nhiều bụi cây.'}"
            ]
          },
          "metadata": {},
          "execution_count": 12
        }
      ],
      "source": [
        "train_data[0]"
      ]
    },
    {
      "cell_type": "code",
      "execution_count": 13,
      "metadata": {
        "id": "DT9FP2Vb-y7P"
      },
      "outputs": [],
      "source": [
        "sos_token = 0\n",
        "eos_token = 1\n",
        "unk_token = 2\n",
        "max_length = 25"
      ]
    },
    {
      "cell_type": "code",
      "execution_count": 14,
      "metadata": {
        "id": "hz-YTjsy-z35"
      },
      "outputs": [],
      "source": [
        "en_nlp = spacy.blank(\"en\")\n",
        "vi_nlp = spacy.blank('vi')"
      ]
    },
    {
      "cell_type": "code",
      "execution_count": 15,
      "metadata": {
        "colab": {
          "base_uri": "https://localhost:8080/",
          "height": 113,
          "referenced_widgets": [
            "5952ea176f67485d96a4be7a4bd16726",
            "41c8c123bf3d49788a53e3f4e63cae4a",
            "944f1e584eca459c986c695c9d03cebd",
            "5810e68732c34de49e297f3788b70607",
            "2a749609e22447e18b57589f87c2eddc",
            "7aa84d14a68645d18df91b2b47f04f46",
            "6c9791f56d8c43a1a3fb848d7d091407",
            "1b5c9084d4b4459180a2a76442619c60",
            "24741635acbc4fccae104800cc2444e4",
            "aaa0842c8b42481cb4fd5b893bf2a3e3",
            "380bad2767ab4556b3e42771395ee442",
            "43f5b4366f024cfd955a974f41dc82ad",
            "56066c76fca8496789040b43a758d28a",
            "f7bb37e5280047faa3a19a221ef0d039",
            "6fc8276dce5947da8ef70193a3ef74e3",
            "123ab60e5a864352a20de30940629942",
            "2951f84a7e864fd9bca6be720eae6c13",
            "adfbc946c5ba49efb01a55974a333e06",
            "2e965870a6004574bb84041c127a8244",
            "232753aebc484e8aad7eaa0bb315efd2",
            "a3d828b8b1a14875acba4c8c3bf46e32",
            "4439954ca43c4f1084f40faca66f0ba0",
            "faa6d45494b6491283aacce4a2448f77",
            "0836d83065014a99b97aa719f4aafd0d",
            "b7c0937256d24cd886a7ede7b17fe5ac",
            "d3e795e3b537476ea6fd3348dc942326",
            "b7b7a28fa0ac4e158daf072b42ff40e6",
            "2c40ccf6b2f74d8eb973ec9621d1fc9c",
            "1797f9c76c3a4a25a0cd85f2caf0642b",
            "07a27fdb1a534bf28e7459f50281f732",
            "75051f4a63054c4dbc5020118a92762f",
            "de63ad0f64144f51b5dab65608937da6",
            "399ca40cf765455fb3dbeccc8db4cb42"
          ]
        },
        "id": "vRRkOLkP-1It",
        "outputId": "62ba34a2-c91b-4bcf-bb21-89ac4baeb998"
      },
      "outputs": [
        {
          "output_type": "display_data",
          "data": {
            "text/plain": [
              "Filter:   0%|          | 0/29000 [00:00<?, ? examples/s]"
            ],
            "application/vnd.jupyter.widget-view+json": {
              "version_major": 2,
              "version_minor": 0,
              "model_id": "5952ea176f67485d96a4be7a4bd16726"
            }
          },
          "metadata": {}
        },
        {
          "output_type": "display_data",
          "data": {
            "text/plain": [
              "Filter:   0%|          | 0/1014 [00:00<?, ? examples/s]"
            ],
            "application/vnd.jupyter.widget-view+json": {
              "version_major": 2,
              "version_minor": 0,
              "model_id": "43f5b4366f024cfd955a974f41dc82ad"
            }
          },
          "metadata": {}
        },
        {
          "output_type": "display_data",
          "data": {
            "text/plain": [
              "Filter:   0%|          | 0/1000 [00:00<?, ? examples/s]"
            ],
            "application/vnd.jupyter.widget-view+json": {
              "version_major": 2,
              "version_minor": 0,
              "model_id": "faa6d45494b6491283aacce4a2448f77"
            }
          },
          "metadata": {}
        }
      ],
      "source": [
        "def filter_data(texts):\n",
        "    return len(en_nlp.tokenizer(texts['en'])) <= max_length and len(vi_nlp.tokenizer(texts['vi'])) <= max_length\n",
        "train_data = train_data.filter(filter_data)\n",
        "val_data = val_data.filter(filter_data)\n",
        "test_data = test_data.filter(filter_data)"
      ]
    },
    {
      "cell_type": "code",
      "execution_count": 16,
      "metadata": {
        "colab": {
          "base_uri": "https://localhost:8080/"
        },
        "id": "j98i1vKI-2fB",
        "outputId": "9555553f-8b0e-4644-c0ff-393bb3ff51ab"
      },
      "outputs": [
        {
          "output_type": "execute_result",
          "data": {
            "text/plain": [
              "(Dataset({\n",
              "     features: ['en', 'vi'],\n",
              "     num_rows: 28181\n",
              " }),\n",
              " Dataset({\n",
              "     features: ['en', 'vi'],\n",
              "     num_rows: 963\n",
              " }),\n",
              " Dataset({\n",
              "     features: ['en', 'vi'],\n",
              "     num_rows: 984\n",
              " }))"
            ]
          },
          "metadata": {},
          "execution_count": 16
        }
      ],
      "source": [
        "train_data, test_data, val_data"
      ]
    },
    {
      "cell_type": "code",
      "execution_count": 17,
      "metadata": {
        "id": "t2Lct01Y-3nC"
      },
      "outputs": [],
      "source": [
        "en_vocab = Vocabulary('en', train_data['en'], en_nlp)\n",
        "vi_vocab = Vocabulary('vi', train_data['vi'], vi_nlp)"
      ]
    },
    {
      "cell_type": "code",
      "execution_count": 18,
      "metadata": {
        "colab": {
          "base_uri": "https://localhost:8080/"
        },
        "id": "BbT2-2CY-4jU",
        "outputId": "5bc20345-4633-49a4-b4e9-f07d99c4320b"
      },
      "outputs": [
        {
          "output_type": "execute_result",
          "data": {
            "text/plain": [
              "2"
            ]
          },
          "metadata": {},
          "execution_count": 18
        }
      ],
      "source": [
        "en_vocab.get_index(\"meomeo\")"
      ]
    },
    {
      "cell_type": "code",
      "execution_count": 19,
      "metadata": {
        "colab": {
          "base_uri": "https://localhost:8080/"
        },
        "id": "zI6OKncS-5WF",
        "outputId": "106d85fa-dee9-42a4-cc77-333fb8babb1a"
      },
      "outputs": [
        {
          "output_type": "execute_result",
          "data": {
            "text/plain": [
              "[8572, 2]"
            ]
          },
          "metadata": {},
          "execution_count": 19
        }
      ],
      "source": [
        "indexesFromSentence(en_vocab, \"today meomeo\", en_nlp)"
      ]
    },
    {
      "cell_type": "markdown",
      "metadata": {
        "id": "AO6FxlEkNuxZ"
      },
      "source": [
        "#**Tham số mô hình**#"
      ]
    },
    {
      "cell_type": "code",
      "execution_count": 20,
      "metadata": {
        "id": "7jfgzz8B-59o"
      },
      "outputs": [],
      "source": [
        "hidden_size = 256\n",
        "batch_size = 128\n",
        "num_layers = 1\n",
        "dropout = 0.2\n",
        "learning_rate = 0.001\n",
        "num_epochs = 369"
      ]
    },
    {
      "cell_type": "code",
      "execution_count": null,
      "metadata": {
        "id": "87Xqrr8N-62G"
      },
      "outputs": [],
      "source": [
        "train_loader = get_dataloader(train_data, en_vocab, vi_vocab, \\\n",
        "                                    en_nlp, vi_nlp, device, batch_size,\\\n",
        "                                    max_length, 0, 1)"
      ]
    },
    {
      "cell_type": "code",
      "execution_count": 27,
      "metadata": {
        "id": "wBMBrHMc-7oM"
      },
      "outputs": [],
      "source": [
        "encoder = Encoder(en_vocab.n_words, hidden_size, num_layers, dropout).to(device)\n",
        "decoder = DecoderAttn(hidden_size, vi_vocab.n_words, device, max_length, 0, 1,2, num_layers, dropout).to(device)\n",
        "\n",
        "encoder_opt = optim.Adam(encoder.parameters(), lr=learning_rate)\n",
        "decoder_opt = optim.Adam(decoder.parameters(), lr=learning_rate)\n",
        "\n",
        "criterion = nn.CrossEntropyLoss(ignore_index = 1) # ignore eos_token"
      ]
    },
    {
      "cell_type": "code",
      "execution_count": null,
      "metadata": {
        "id": "l_GlpibB-8by"
      },
      "outputs": [],
      "source": [
        "his_loss = training(train_loader, encoder, decoder, encoder_opt, decoder_opt, criterion, num_epochs, 5)"
      ]
    },
    {
      "cell_type": "markdown",
      "metadata": {
        "id": "S-pMZXVnbPmP"
      },
      "source": [
        "#**Lưu mô hình**#"
      ]
    },
    {
      "cell_type": "code",
      "execution_count": 21,
      "metadata": {
        "id": "y3PqmSCe-9kH"
      },
      "outputs": [],
      "source": [
        "enc_path = \"encoder.pth\"\n",
        "dec_path = \"decoder.pth\""
      ]
    },
    {
      "cell_type": "code",
      "execution_count": null,
      "metadata": {
        "id": "MjRgVo9I--Zm"
      },
      "outputs": [],
      "source": [
        "torch.save(encoder.state_dict(), enc_path)\n",
        "torch.save(decoder.state_dict(), dec_path)"
      ]
    },
    {
      "cell_type": "code",
      "execution_count": 22,
      "metadata": {
        "colab": {
          "base_uri": "https://localhost:8080/"
        },
        "id": "fYTiqEU3-_HH",
        "outputId": "1818101b-d954-44a4-c285-790db8d6eac5"
      },
      "outputs": [
        {
          "output_type": "execute_result",
          "data": {
            "text/plain": [
              "DecoderAttn(\n",
              "  (embedding): Embedding(6067, 256)\n",
              "  (attention): BahdanauAttention(\n",
              "    (Wa): Linear(in_features=256, out_features=256, bias=True)\n",
              "    (Ua): Linear(in_features=256, out_features=256, bias=True)\n",
              "    (Va): Linear(in_features=256, out_features=1, bias=True)\n",
              "  )\n",
              "  (lstm): LSTM(512, 256, batch_first=True)\n",
              "  (out): Linear(in_features=256, out_features=6067, bias=True)\n",
              "  (dropout): Dropout(p=0.2, inplace=False)\n",
              ")"
            ]
          },
          "metadata": {},
          "execution_count": 22
        }
      ],
      "source": [
        "enc = Encoder(en_vocab.n_words, hidden_size, num_layers, dropout).to(device)\n",
        "dec = DecoderAttn(hidden_size, vi_vocab.n_words, device, max_length, 0, 1, 2, num_layers, dropout).to(device)\n",
        "\n",
        "enc.load_state_dict(torch.load(enc_path, weights_only=True))\n",
        "dec.load_state_dict(torch.load(dec_path, weights_only=True))\n",
        "\n",
        "enc.eval()\n",
        "dec.eval()"
      ]
    },
    {
      "cell_type": "markdown",
      "metadata": {
        "id": "IpwWZQjPbbto"
      },
      "source": [
        "#**Samples**#"
      ]
    },
    {
      "cell_type": "code",
      "execution_count": 23,
      "metadata": {
        "colab": {
          "base_uri": "https://localhost:8080/"
        },
        "id": "NyyfKy1ENKtF",
        "outputId": "91315991-44e3-4b82-d11d-05456157b4db"
      },
      "outputs": [
        {
          "output_type": "stream",
          "name": "stdout",
          "text": [
            "English:\t a kite surfer and a kite flier prepare to launch their respective kites on a grassy slope.\n",
            "Vi_true:\t một người lướt ván diều và một người thả diều chuẩn bị thả diều của mình trên một sườn dốc cỏ.\n",
            "Vi_pred:\t một người lướt ván diều và một người thả diều chuẩn bị thả diều của mình trên một sườn dốc cỏ . a . phía trên một\n",
            "------------\n",
            "English:\t a group of africans running away from something.\n",
            "Vi_true:\t một nhóm người châu phi đang chạy trốn khỏi một thứ gì đó.\n",
            "Vi_pred:\t một nhóm người châu phi đang chạy trốn khỏi một thứ gì đó . . mình . .\n",
            "------------\n",
            "English:\t one man is holding a beer and the other is taking a bite of food.\n",
            "Vi_true:\t một người đàn ông đang cầm một cốc bia và người kia đang cắn một miếng thức ăn.\n",
            "Vi_pred:\t một người đàn ông đang cầm một cốc bia và người kia đang cắn một miếng thức ăn . . . ăn . .\n",
            "------------\n",
            "English:\t a smiling worker, in a cowboy hat, doing masonry.\n",
            "Vi_true:\t một công nhân mỉm cười, đội mũ cao bồi, đang làm việc xây dựng.\n",
            "Vi_pred:\t một công nhân mỉm cười , đội mũ cao bồi , đang làm việc xây dựng . kính . com . . com . com . com . com\n",
            "------------\n",
            "English:\t a group of police officers outside a city building.\n",
            "Vi_true:\t một nhóm cảnh sát bên ngoài một tòa nhà trong thành phố.\n",
            "Vi_pred:\t một nhóm cảnh sát bên ngoài một tòa nhà trong thành phố . com .\n",
            "------------\n",
            "English:\t two men dressed in white shirts are standing at a party.\n",
            "Vi_true:\t hai người đàn ông mặc áo sơ mi trắng đang đứng trong một bữa tiệc.\n",
            "Vi_pred:\t hai người đàn ông mặc áo sơ mi trắng đang đứng trong một bữa tiệc . .\n",
            "------------\n",
            "English:\t a dune buggy with one male passenger gets some air as it drives over a sand dune.\n",
            "Vi_true:\t một chiếc xe địa hình chở một nam hành khách hít thở không khí khi chạy qua một cồn cát.\n",
            "Vi_pred:\t một chiếc xe địa hình chở một nam hành khách hít thở không khí khi chạy qua một cồn cát . c . . c . . c\n",
            "------------\n",
            "English:\t person holding a frisbee with a white dog jumping for it on a road.\n",
            "Vi_true:\t một người cầm một chiếc đĩa frisbee với một chú chó trắng đang nhảy để giành lấy nó trên đường.\n",
            "Vi_pred:\t một người cầm một chiếc đĩa frisbee với một chú chó trắng đang nhảy để giành lấy nó trên đường . . trên đường .\n",
            "------------\n",
            "English:\t man tests telescope while little boy looks on, as they stand in a memorial park.\n",
            "Vi_true:\t người đàn ông kiểm tra kính viễn vọng trong khi cậu bé nhìn vào, khi họ đứng trong một công viên tưởng niệm.\n",
            "Vi_pred:\t người đàn ông kiểm tra kính viễn vọng trong khi cậu bé nhìn vào , khi họ đứng trong một công viên tưởng niệm . . noble . noble . noble\n",
            "------------\n",
            "English:\t some tourists visiting a landmark.\n",
            "Vi_true:\t một số khách du lịch đang tham quan một địa danh.\n",
            "Vi_pred:\t một số khách du lịch đang nghỉ một địa danh . . . .\n",
            "------------\n",
            "Average BLEU score: 0.7149\n"
          ]
        }
      ],
      "source": [
        "evaluateRandom(enc, dec, train_data, en_vocab, vi_vocab, en_nlp, vi_nlp, device, 10)"
      ]
    },
    {
      "cell_type": "code",
      "execution_count": 24,
      "metadata": {
        "colab": {
          "base_uri": "https://localhost:8080/"
        },
        "id": "VwXxHLgaNLkp",
        "outputId": "e6ba5ef4-74ec-4c77-c266-77c77623bb2f"
      },
      "outputs": [
        {
          "output_type": "stream",
          "name": "stdout",
          "text": [
            "English:\t two people eat hamburgers on lawn chairs while a third drinks a can of soda.\n",
            "Vi_true:\t hai người ăn bánh mì kẹp thịt trên ghế xếp trong khi người thứ ba uống một lon soda.\n",
            "Vi_pred:\t hai người ăn tối trên những chiếc ghế trên những chiếc ghế trong khi làm đồ uống một lon soda . . .\n",
            "------------\n",
            "English:\t two brunette women talking to a classroom full of blond children.\n",
            "Vi_true:\t hai người phụ nữ tóc nâu đang nói chuyện với một lớp học toàn trẻ em tóc vàng.\n",
            "Vi_pred:\t hai phụ nữ tóc nâu đang nói chuyện với một lớp học đầy những đứa trẻ sơ sinh . . noble . a . noble . a . noble\n",
            "------------\n",
            "English:\t a guy grinds a windowsill near an old windmill\n",
            "Vi_true:\t một anh chàng mài bệ cửa sổ gần một cối xay gió cũ\n",
            "Vi_pred:\t một anh chàng đang trượt dán băng đồng gần một chiếc ô tô cũ hỏng . c . cũ . noble . cũ .\n",
            "------------\n",
            "English:\t 2 females, 1 from germany and 1 from china, compete in a wrestling match on a mat.\n",
            "Vi_true:\t 2 cô gái, 1 người đức và 1 người trung quốc, đang tham gia một trận đấu vật trên chiếu.\n",
            "Vi_pred:\t 2 cố vấn trại , 1 người đứng dậy khỏi và tòa nhà , trò chuyện trong một trận đấu tập . . . .\n",
            "------------\n",
            "English:\t this is some sort of band or symphony practicing.\n",
            "Vi_true:\t đây là một ban nhạc hoặc dàn nhạc giao hưởng đang luyện tập.\n",
            "Vi_pred:\t của một ban nhạc này đang giúp đỡ một số đang tập . . tập . . a . .\n",
            "------------\n",
            "English:\t a baseball player with a red helmet and white pants is tagged by the catcher while running to home base.\n",
            "Vi_true:\t một cầu thủ bóng chày đội mũ bảo hiểm màu đỏ và quần trắng bị người bắt bóng chạm vào khi đang chạy về gôn.\n",
            "Vi_pred:\t một cầu thủ bóng chày đội mũ bảo hiểm màu đỏ và quần trắng buộc tóc đuôi ngựa khi đang chạy về gôn . c . . c\n",
            "------------\n",
            "English:\t a woman in a green shirt is walking down a crowded street.\n",
            "Vi_true:\t một người phụ nữ mặc áo sơ mi xanh lá cây đang đi bộ trên một con phố đông đúc.\n",
            "Vi_pred:\t một người phụ nữ mặc áo sơ mi xanh đang đi bộ trên một con phố đông đúc . đông đúc .\n",
            "------------\n",
            "English:\t a man lays down on a snowbank that has piled up high around the front door of his house.\n",
            "Vi_true:\t một người đàn ông nằm trên một đống tuyết chất cao xung quanh cửa trước nhà mình.\n",
            "Vi_pred:\t một người đàn ông nằm xuống trên một đống tuyết lớn được dựng lên cửa ra khỏi nhà của mình . f hunt . f hunt .\n",
            "------------\n",
            "English:\t two children without shirts on sit at the edge of a fountain.\n",
            "Vi_true:\t hai đứa trẻ không mặc áo ngồi ở mép đài phun nước.\n",
            "Vi_pred:\t hai đứa trẻ mặc áo sơ mi ngồi ngồi ở rìa đài phun nước . đài phun nước . đài phun nước . .\n",
            "------------\n",
            "English:\t a white blond lady wearing a blue bag riding a scooter.\n",
            "Vi_true:\t một phụ nữ tóc vàng da trắng đeo túi màu xanh đang đi xe tay ga.\n",
            "Vi_pred:\t một phụ nữ tóc da trắng tóc vàng đeo túi màu xanh đang đi xe tay ga . xe . .\n",
            "------------\n",
            "Average BLEU score: 0.2961\n"
          ]
        }
      ],
      "source": [
        "evaluateRandom(enc, dec, val_data, en_vocab, vi_vocab, en_nlp, vi_nlp, device, 10)"
      ]
    },
    {
      "cell_type": "code",
      "execution_count": 25,
      "metadata": {
        "colab": {
          "base_uri": "https://localhost:8080/"
        },
        "id": "bFBKkfuENQPa",
        "outputId": "c36ec04b-1e95-47ce-ad9f-3dc1bfd1ddda"
      },
      "outputs": [
        {
          "output_type": "execute_result",
          "data": {
            "text/plain": [
              "['mặc quần jean , áo sơ mi và cùng nhau đi xe đạp cùng nhau . ` .']"
            ]
          },
          "metadata": {},
          "execution_count": 25
        }
      ],
      "source": [
        "inp_texts = ['people wearing the dirty jeans and riding a bicycle together']\n",
        "translate_sentence(enc, dec, inp_texts, en_vocab, vi_vocab, en_nlp, device)"
      ]
    },
    {
      "cell_type": "code",
      "execution_count": 26,
      "metadata": {
        "colab": {
          "base_uri": "https://localhost:8080/"
        },
        "id": "YLg5FQHV_Ky7",
        "outputId": "4d5c3793-e960-4b49-b53d-c56d850be238"
      },
      "outputs": [
        {
          "output_type": "stream",
          "name": "stdout",
          "text": [
            "English:\t two men, one man selling fruit the other inspecting the fruit and conversing with the seller.\n",
            "Vi_true:\t hai người đàn ông, một người bán trái cây, người kia đang kiểm tra trái cây và trò chuyện với người bán.\n",
            "Vi_pred:\t hai người đàn ông , một người đàn ông bán trái cây khác nhau mà người bán trái cây và người bán người bán hàng . . người .\n",
            "------------\n",
            "English:\t man in a suit smoking a cigar and reading a paper walking on the street.\n",
            "Vi_true:\t một người đàn ông mặc vest đang hút xì gà và đọc báo đang đi trên phố.\n",
            "Vi_pred:\t người đàn ông mặc vest đang hút xì gà và đọc báo đi bộ trên phố . com .\n",
            "------------\n",
            "English:\t a boy rides a swing.\n",
            "Vi_true:\t một cậu bé đang đu đưa.\n",
            "Vi_pred:\t xích đu . a . a . a . a . a . a . a . a . a . a . a . a\n",
            "------------\n",
            "English:\t a closeup of a child's face eating a blue, heart shaped lollipop.\n",
            "Vi_true:\t cận cảnh khuôn mặt của một đứa trẻ đang ăn một cây kẹo mút hình trái tim màu xanh.\n",
            "Vi_pred:\t cận cảnh một đứa trẻ đang ăn một chiếc tất màu xanh , hình trái tim bằng tre . . a . thiết kế thép . .\n",
            "------------\n",
            "English:\t a man with a brown shirt, gray vest and black cap plays an electric bass.\n",
            "Vi_true:\t một người đàn ông mặc áo sơ mi nâu, áo vest xám và mũ đen chơi đàn ghita điện.\n",
            "Vi_pred:\t một người đàn ông mặc áo sơ mi nâu , áo vest xám và mũ đen đang chơi đàn bass điện . f hunt . f hunt\n",
            "------------\n",
            "Average BLEU score: 0.3533\n"
          ]
        }
      ],
      "source": [
        "evaluateRandom(enc, dec, val_data, en_vocab, vi_vocab, en_nlp, vi_nlp, device, 5)"
      ]
    },
    {
      "cell_type": "code",
      "execution_count": 27,
      "metadata": {
        "colab": {
          "base_uri": "https://localhost:8080/"
        },
        "id": "lj-RxurGMekH",
        "outputId": "a9417752-cacc-4a4e-9acf-9aa9afadf7e0"
      },
      "outputs": [
        {
          "output_type": "execute_result",
          "data": {
            "text/plain": [
              "0.35866784119535605"
            ]
          },
          "metadata": {},
          "execution_count": 27
        }
      ],
      "source": [
        "calcBLEU(enc, dec, test_data,  en_vocab, vi_vocab, en_nlp, vi_nlp, device)"
      ]
    },
    {
      "cell_type": "code",
      "source": [
        "import nltk\n",
        "nltk.download('wordnet')"
      ],
      "metadata": {
        "id": "Cukv9PK0MlKR",
        "outputId": "f08637e4-030b-420a-d86d-8041f103e837",
        "colab": {
          "base_uri": "https://localhost:8080/"
        }
      },
      "execution_count": 29,
      "outputs": [
        {
          "output_type": "stream",
          "name": "stderr",
          "text": [
            "[nltk_data] Downloading package wordnet to /root/nltk_data...\n"
          ]
        },
        {
          "output_type": "execute_result",
          "data": {
            "text/plain": [
              "True"
            ]
          },
          "metadata": {},
          "execution_count": 29
        }
      ]
    },
    {
      "cell_type": "code",
      "source": [
        "avg_rouge = calcMetrics(enc, dec, test_data, en_vocab, vi_vocab, en_nlp, vi_nlp, device)\n",
        "print(f\"Rouge: {avg_rouge[1]}\")"
      ],
      "metadata": {
        "id": "VRh5rZDDIIdk",
        "outputId": "0b5df63c-f527-499a-9fec-55993fee3f7d",
        "colab": {
          "base_uri": "https://localhost:8080/"
        }
      },
      "execution_count": 41,
      "outputs": [
        {
          "output_type": "stream",
          "name": "stdout",
          "text": [
            "Rouge: {'rouge1': 0.41036867034226426, 'rouge2': 0.19703308825517854, 'rougeL': 0.37877149095348234}\n"
          ]
        }
      ]
    },
    {
      "cell_type": "code",
      "source": [],
      "metadata": {
        "id": "JI-rNdZEMnmH"
      },
      "execution_count": null,
      "outputs": []
    }
  ],
  "metadata": {
    "accelerator": "GPU",
    "colab": {
      "gpuType": "T4",
      "provenance": []
    },
    "kernelspec": {
      "display_name": "Python 3",
      "name": "python3"
    },
    "language_info": {
      "codemirror_mode": {
        "name": "ipython",
        "version": 3
      },
      "file_extension": ".py",
      "mimetype": "text/x-python",
      "name": "python",
      "nbconvert_exporter": "python",
      "pygments_lexer": "ipython3",
      "version": "3.12.6"
    },
    "widgets": {
      "application/vnd.jupyter.widget-state+json": {
        "b4520fd0b0ba48b0a4feab5d0c332184": {
          "model_module": "@jupyter-widgets/controls",
          "model_name": "HBoxModel",
          "model_module_version": "1.5.0",
          "state": {
            "_dom_classes": [],
            "_model_module": "@jupyter-widgets/controls",
            "_model_module_version": "1.5.0",
            "_model_name": "HBoxModel",
            "_view_count": null,
            "_view_module": "@jupyter-widgets/controls",
            "_view_module_version": "1.5.0",
            "_view_name": "HBoxView",
            "box_style": "",
            "children": [
              "IPY_MODEL_06c2435d7ee0448c8aa92474d88e17c5",
              "IPY_MODEL_11654277491b4b81940dc104f9324e2f",
              "IPY_MODEL_cc936d5c6cdc421f8ac569ff4ca45168"
            ],
            "layout": "IPY_MODEL_32329560a4c54aff90dfbdbec1aba9cc"
          }
        },
        "06c2435d7ee0448c8aa92474d88e17c5": {
          "model_module": "@jupyter-widgets/controls",
          "model_name": "HTMLModel",
          "model_module_version": "1.5.0",
          "state": {
            "_dom_classes": [],
            "_model_module": "@jupyter-widgets/controls",
            "_model_module_version": "1.5.0",
            "_model_name": "HTMLModel",
            "_view_count": null,
            "_view_module": "@jupyter-widgets/controls",
            "_view_module_version": "1.5.0",
            "_view_name": "HTMLView",
            "description": "",
            "description_tooltip": null,
            "layout": "IPY_MODEL_b1888376fbe044488dcd4e2d0977d3c1",
            "placeholder": "​",
            "style": "IPY_MODEL_64b72743845243169b0ba9cec5b96fbc",
            "value": "Map: 100%"
          }
        },
        "11654277491b4b81940dc104f9324e2f": {
          "model_module": "@jupyter-widgets/controls",
          "model_name": "FloatProgressModel",
          "model_module_version": "1.5.0",
          "state": {
            "_dom_classes": [],
            "_model_module": "@jupyter-widgets/controls",
            "_model_module_version": "1.5.0",
            "_model_name": "FloatProgressModel",
            "_view_count": null,
            "_view_module": "@jupyter-widgets/controls",
            "_view_module_version": "1.5.0",
            "_view_name": "ProgressView",
            "bar_style": "success",
            "description": "",
            "description_tooltip": null,
            "layout": "IPY_MODEL_b72dbd740e5f4e5eb30331ccc5b569c1",
            "max": 29000,
            "min": 0,
            "orientation": "horizontal",
            "style": "IPY_MODEL_0463390e7e67493c827148ba9f7bb74b",
            "value": 29000
          }
        },
        "cc936d5c6cdc421f8ac569ff4ca45168": {
          "model_module": "@jupyter-widgets/controls",
          "model_name": "HTMLModel",
          "model_module_version": "1.5.0",
          "state": {
            "_dom_classes": [],
            "_model_module": "@jupyter-widgets/controls",
            "_model_module_version": "1.5.0",
            "_model_name": "HTMLModel",
            "_view_count": null,
            "_view_module": "@jupyter-widgets/controls",
            "_view_module_version": "1.5.0",
            "_view_name": "HTMLView",
            "description": "",
            "description_tooltip": null,
            "layout": "IPY_MODEL_5af85d8de2774d11b23783e61ee3dac6",
            "placeholder": "​",
            "style": "IPY_MODEL_78236dc7f83d4485800b2d12407cfa10",
            "value": " 29000/29000 [00:03&lt;00:00, 5303.39 examples/s]"
          }
        },
        "32329560a4c54aff90dfbdbec1aba9cc": {
          "model_module": "@jupyter-widgets/base",
          "model_name": "LayoutModel",
          "model_module_version": "1.2.0",
          "state": {
            "_model_module": "@jupyter-widgets/base",
            "_model_module_version": "1.2.0",
            "_model_name": "LayoutModel",
            "_view_count": null,
            "_view_module": "@jupyter-widgets/base",
            "_view_module_version": "1.2.0",
            "_view_name": "LayoutView",
            "align_content": null,
            "align_items": null,
            "align_self": null,
            "border": null,
            "bottom": null,
            "display": null,
            "flex": null,
            "flex_flow": null,
            "grid_area": null,
            "grid_auto_columns": null,
            "grid_auto_flow": null,
            "grid_auto_rows": null,
            "grid_column": null,
            "grid_gap": null,
            "grid_row": null,
            "grid_template_areas": null,
            "grid_template_columns": null,
            "grid_template_rows": null,
            "height": null,
            "justify_content": null,
            "justify_items": null,
            "left": null,
            "margin": null,
            "max_height": null,
            "max_width": null,
            "min_height": null,
            "min_width": null,
            "object_fit": null,
            "object_position": null,
            "order": null,
            "overflow": null,
            "overflow_x": null,
            "overflow_y": null,
            "padding": null,
            "right": null,
            "top": null,
            "visibility": null,
            "width": null
          }
        },
        "b1888376fbe044488dcd4e2d0977d3c1": {
          "model_module": "@jupyter-widgets/base",
          "model_name": "LayoutModel",
          "model_module_version": "1.2.0",
          "state": {
            "_model_module": "@jupyter-widgets/base",
            "_model_module_version": "1.2.0",
            "_model_name": "LayoutModel",
            "_view_count": null,
            "_view_module": "@jupyter-widgets/base",
            "_view_module_version": "1.2.0",
            "_view_name": "LayoutView",
            "align_content": null,
            "align_items": null,
            "align_self": null,
            "border": null,
            "bottom": null,
            "display": null,
            "flex": null,
            "flex_flow": null,
            "grid_area": null,
            "grid_auto_columns": null,
            "grid_auto_flow": null,
            "grid_auto_rows": null,
            "grid_column": null,
            "grid_gap": null,
            "grid_row": null,
            "grid_template_areas": null,
            "grid_template_columns": null,
            "grid_template_rows": null,
            "height": null,
            "justify_content": null,
            "justify_items": null,
            "left": null,
            "margin": null,
            "max_height": null,
            "max_width": null,
            "min_height": null,
            "min_width": null,
            "object_fit": null,
            "object_position": null,
            "order": null,
            "overflow": null,
            "overflow_x": null,
            "overflow_y": null,
            "padding": null,
            "right": null,
            "top": null,
            "visibility": null,
            "width": null
          }
        },
        "64b72743845243169b0ba9cec5b96fbc": {
          "model_module": "@jupyter-widgets/controls",
          "model_name": "DescriptionStyleModel",
          "model_module_version": "1.5.0",
          "state": {
            "_model_module": "@jupyter-widgets/controls",
            "_model_module_version": "1.5.0",
            "_model_name": "DescriptionStyleModel",
            "_view_count": null,
            "_view_module": "@jupyter-widgets/base",
            "_view_module_version": "1.2.0",
            "_view_name": "StyleView",
            "description_width": ""
          }
        },
        "b72dbd740e5f4e5eb30331ccc5b569c1": {
          "model_module": "@jupyter-widgets/base",
          "model_name": "LayoutModel",
          "model_module_version": "1.2.0",
          "state": {
            "_model_module": "@jupyter-widgets/base",
            "_model_module_version": "1.2.0",
            "_model_name": "LayoutModel",
            "_view_count": null,
            "_view_module": "@jupyter-widgets/base",
            "_view_module_version": "1.2.0",
            "_view_name": "LayoutView",
            "align_content": null,
            "align_items": null,
            "align_self": null,
            "border": null,
            "bottom": null,
            "display": null,
            "flex": null,
            "flex_flow": null,
            "grid_area": null,
            "grid_auto_columns": null,
            "grid_auto_flow": null,
            "grid_auto_rows": null,
            "grid_column": null,
            "grid_gap": null,
            "grid_row": null,
            "grid_template_areas": null,
            "grid_template_columns": null,
            "grid_template_rows": null,
            "height": null,
            "justify_content": null,
            "justify_items": null,
            "left": null,
            "margin": null,
            "max_height": null,
            "max_width": null,
            "min_height": null,
            "min_width": null,
            "object_fit": null,
            "object_position": null,
            "order": null,
            "overflow": null,
            "overflow_x": null,
            "overflow_y": null,
            "padding": null,
            "right": null,
            "top": null,
            "visibility": null,
            "width": null
          }
        },
        "0463390e7e67493c827148ba9f7bb74b": {
          "model_module": "@jupyter-widgets/controls",
          "model_name": "ProgressStyleModel",
          "model_module_version": "1.5.0",
          "state": {
            "_model_module": "@jupyter-widgets/controls",
            "_model_module_version": "1.5.0",
            "_model_name": "ProgressStyleModel",
            "_view_count": null,
            "_view_module": "@jupyter-widgets/base",
            "_view_module_version": "1.2.0",
            "_view_name": "StyleView",
            "bar_color": null,
            "description_width": ""
          }
        },
        "5af85d8de2774d11b23783e61ee3dac6": {
          "model_module": "@jupyter-widgets/base",
          "model_name": "LayoutModel",
          "model_module_version": "1.2.0",
          "state": {
            "_model_module": "@jupyter-widgets/base",
            "_model_module_version": "1.2.0",
            "_model_name": "LayoutModel",
            "_view_count": null,
            "_view_module": "@jupyter-widgets/base",
            "_view_module_version": "1.2.0",
            "_view_name": "LayoutView",
            "align_content": null,
            "align_items": null,
            "align_self": null,
            "border": null,
            "bottom": null,
            "display": null,
            "flex": null,
            "flex_flow": null,
            "grid_area": null,
            "grid_auto_columns": null,
            "grid_auto_flow": null,
            "grid_auto_rows": null,
            "grid_column": null,
            "grid_gap": null,
            "grid_row": null,
            "grid_template_areas": null,
            "grid_template_columns": null,
            "grid_template_rows": null,
            "height": null,
            "justify_content": null,
            "justify_items": null,
            "left": null,
            "margin": null,
            "max_height": null,
            "max_width": null,
            "min_height": null,
            "min_width": null,
            "object_fit": null,
            "object_position": null,
            "order": null,
            "overflow": null,
            "overflow_x": null,
            "overflow_y": null,
            "padding": null,
            "right": null,
            "top": null,
            "visibility": null,
            "width": null
          }
        },
        "78236dc7f83d4485800b2d12407cfa10": {
          "model_module": "@jupyter-widgets/controls",
          "model_name": "DescriptionStyleModel",
          "model_module_version": "1.5.0",
          "state": {
            "_model_module": "@jupyter-widgets/controls",
            "_model_module_version": "1.5.0",
            "_model_name": "DescriptionStyleModel",
            "_view_count": null,
            "_view_module": "@jupyter-widgets/base",
            "_view_module_version": "1.2.0",
            "_view_name": "StyleView",
            "description_width": ""
          }
        },
        "46bf2792bd9643358e39f03bb99c2d07": {
          "model_module": "@jupyter-widgets/controls",
          "model_name": "HBoxModel",
          "model_module_version": "1.5.0",
          "state": {
            "_dom_classes": [],
            "_model_module": "@jupyter-widgets/controls",
            "_model_module_version": "1.5.0",
            "_model_name": "HBoxModel",
            "_view_count": null,
            "_view_module": "@jupyter-widgets/controls",
            "_view_module_version": "1.5.0",
            "_view_name": "HBoxView",
            "box_style": "",
            "children": [
              "IPY_MODEL_683a5b3ff968477ea6fc935a10da0ca3",
              "IPY_MODEL_b371acf9798c4b7291e86aac3fafe6dd",
              "IPY_MODEL_c61c8a586c97437aae1dbbe689ddc24a"
            ],
            "layout": "IPY_MODEL_c747c096f09d424197575a20d8c9923c"
          }
        },
        "683a5b3ff968477ea6fc935a10da0ca3": {
          "model_module": "@jupyter-widgets/controls",
          "model_name": "HTMLModel",
          "model_module_version": "1.5.0",
          "state": {
            "_dom_classes": [],
            "_model_module": "@jupyter-widgets/controls",
            "_model_module_version": "1.5.0",
            "_model_name": "HTMLModel",
            "_view_count": null,
            "_view_module": "@jupyter-widgets/controls",
            "_view_module_version": "1.5.0",
            "_view_name": "HTMLView",
            "description": "",
            "description_tooltip": null,
            "layout": "IPY_MODEL_cd5d2e104944434e8bd0b89b7cf36992",
            "placeholder": "​",
            "style": "IPY_MODEL_3c255262343146aa9d160875f2c14f63",
            "value": "Map: 100%"
          }
        },
        "b371acf9798c4b7291e86aac3fafe6dd": {
          "model_module": "@jupyter-widgets/controls",
          "model_name": "FloatProgressModel",
          "model_module_version": "1.5.0",
          "state": {
            "_dom_classes": [],
            "_model_module": "@jupyter-widgets/controls",
            "_model_module_version": "1.5.0",
            "_model_name": "FloatProgressModel",
            "_view_count": null,
            "_view_module": "@jupyter-widgets/controls",
            "_view_module_version": "1.5.0",
            "_view_name": "ProgressView",
            "bar_style": "success",
            "description": "",
            "description_tooltip": null,
            "layout": "IPY_MODEL_f773cd8bb0014055b42563c202c05460",
            "max": 1000,
            "min": 0,
            "orientation": "horizontal",
            "style": "IPY_MODEL_1dca38375dc740b6b1444aaa8975ad8d",
            "value": 1000
          }
        },
        "c61c8a586c97437aae1dbbe689ddc24a": {
          "model_module": "@jupyter-widgets/controls",
          "model_name": "HTMLModel",
          "model_module_version": "1.5.0",
          "state": {
            "_dom_classes": [],
            "_model_module": "@jupyter-widgets/controls",
            "_model_module_version": "1.5.0",
            "_model_name": "HTMLModel",
            "_view_count": null,
            "_view_module": "@jupyter-widgets/controls",
            "_view_module_version": "1.5.0",
            "_view_name": "HTMLView",
            "description": "",
            "description_tooltip": null,
            "layout": "IPY_MODEL_1c4e26e6aaff458eb86b6fcc32d9abf1",
            "placeholder": "​",
            "style": "IPY_MODEL_ca055e2710074bf78ee7e3ba20f17575",
            "value": " 1000/1000 [00:00&lt;00:00, 4484.54 examples/s]"
          }
        },
        "c747c096f09d424197575a20d8c9923c": {
          "model_module": "@jupyter-widgets/base",
          "model_name": "LayoutModel",
          "model_module_version": "1.2.0",
          "state": {
            "_model_module": "@jupyter-widgets/base",
            "_model_module_version": "1.2.0",
            "_model_name": "LayoutModel",
            "_view_count": null,
            "_view_module": "@jupyter-widgets/base",
            "_view_module_version": "1.2.0",
            "_view_name": "LayoutView",
            "align_content": null,
            "align_items": null,
            "align_self": null,
            "border": null,
            "bottom": null,
            "display": null,
            "flex": null,
            "flex_flow": null,
            "grid_area": null,
            "grid_auto_columns": null,
            "grid_auto_flow": null,
            "grid_auto_rows": null,
            "grid_column": null,
            "grid_gap": null,
            "grid_row": null,
            "grid_template_areas": null,
            "grid_template_columns": null,
            "grid_template_rows": null,
            "height": null,
            "justify_content": null,
            "justify_items": null,
            "left": null,
            "margin": null,
            "max_height": null,
            "max_width": null,
            "min_height": null,
            "min_width": null,
            "object_fit": null,
            "object_position": null,
            "order": null,
            "overflow": null,
            "overflow_x": null,
            "overflow_y": null,
            "padding": null,
            "right": null,
            "top": null,
            "visibility": null,
            "width": null
          }
        },
        "cd5d2e104944434e8bd0b89b7cf36992": {
          "model_module": "@jupyter-widgets/base",
          "model_name": "LayoutModel",
          "model_module_version": "1.2.0",
          "state": {
            "_model_module": "@jupyter-widgets/base",
            "_model_module_version": "1.2.0",
            "_model_name": "LayoutModel",
            "_view_count": null,
            "_view_module": "@jupyter-widgets/base",
            "_view_module_version": "1.2.0",
            "_view_name": "LayoutView",
            "align_content": null,
            "align_items": null,
            "align_self": null,
            "border": null,
            "bottom": null,
            "display": null,
            "flex": null,
            "flex_flow": null,
            "grid_area": null,
            "grid_auto_columns": null,
            "grid_auto_flow": null,
            "grid_auto_rows": null,
            "grid_column": null,
            "grid_gap": null,
            "grid_row": null,
            "grid_template_areas": null,
            "grid_template_columns": null,
            "grid_template_rows": null,
            "height": null,
            "justify_content": null,
            "justify_items": null,
            "left": null,
            "margin": null,
            "max_height": null,
            "max_width": null,
            "min_height": null,
            "min_width": null,
            "object_fit": null,
            "object_position": null,
            "order": null,
            "overflow": null,
            "overflow_x": null,
            "overflow_y": null,
            "padding": null,
            "right": null,
            "top": null,
            "visibility": null,
            "width": null
          }
        },
        "3c255262343146aa9d160875f2c14f63": {
          "model_module": "@jupyter-widgets/controls",
          "model_name": "DescriptionStyleModel",
          "model_module_version": "1.5.0",
          "state": {
            "_model_module": "@jupyter-widgets/controls",
            "_model_module_version": "1.5.0",
            "_model_name": "DescriptionStyleModel",
            "_view_count": null,
            "_view_module": "@jupyter-widgets/base",
            "_view_module_version": "1.2.0",
            "_view_name": "StyleView",
            "description_width": ""
          }
        },
        "f773cd8bb0014055b42563c202c05460": {
          "model_module": "@jupyter-widgets/base",
          "model_name": "LayoutModel",
          "model_module_version": "1.2.0",
          "state": {
            "_model_module": "@jupyter-widgets/base",
            "_model_module_version": "1.2.0",
            "_model_name": "LayoutModel",
            "_view_count": null,
            "_view_module": "@jupyter-widgets/base",
            "_view_module_version": "1.2.0",
            "_view_name": "LayoutView",
            "align_content": null,
            "align_items": null,
            "align_self": null,
            "border": null,
            "bottom": null,
            "display": null,
            "flex": null,
            "flex_flow": null,
            "grid_area": null,
            "grid_auto_columns": null,
            "grid_auto_flow": null,
            "grid_auto_rows": null,
            "grid_column": null,
            "grid_gap": null,
            "grid_row": null,
            "grid_template_areas": null,
            "grid_template_columns": null,
            "grid_template_rows": null,
            "height": null,
            "justify_content": null,
            "justify_items": null,
            "left": null,
            "margin": null,
            "max_height": null,
            "max_width": null,
            "min_height": null,
            "min_width": null,
            "object_fit": null,
            "object_position": null,
            "order": null,
            "overflow": null,
            "overflow_x": null,
            "overflow_y": null,
            "padding": null,
            "right": null,
            "top": null,
            "visibility": null,
            "width": null
          }
        },
        "1dca38375dc740b6b1444aaa8975ad8d": {
          "model_module": "@jupyter-widgets/controls",
          "model_name": "ProgressStyleModel",
          "model_module_version": "1.5.0",
          "state": {
            "_model_module": "@jupyter-widgets/controls",
            "_model_module_version": "1.5.0",
            "_model_name": "ProgressStyleModel",
            "_view_count": null,
            "_view_module": "@jupyter-widgets/base",
            "_view_module_version": "1.2.0",
            "_view_name": "StyleView",
            "bar_color": null,
            "description_width": ""
          }
        },
        "1c4e26e6aaff458eb86b6fcc32d9abf1": {
          "model_module": "@jupyter-widgets/base",
          "model_name": "LayoutModel",
          "model_module_version": "1.2.0",
          "state": {
            "_model_module": "@jupyter-widgets/base",
            "_model_module_version": "1.2.0",
            "_model_name": "LayoutModel",
            "_view_count": null,
            "_view_module": "@jupyter-widgets/base",
            "_view_module_version": "1.2.0",
            "_view_name": "LayoutView",
            "align_content": null,
            "align_items": null,
            "align_self": null,
            "border": null,
            "bottom": null,
            "display": null,
            "flex": null,
            "flex_flow": null,
            "grid_area": null,
            "grid_auto_columns": null,
            "grid_auto_flow": null,
            "grid_auto_rows": null,
            "grid_column": null,
            "grid_gap": null,
            "grid_row": null,
            "grid_template_areas": null,
            "grid_template_columns": null,
            "grid_template_rows": null,
            "height": null,
            "justify_content": null,
            "justify_items": null,
            "left": null,
            "margin": null,
            "max_height": null,
            "max_width": null,
            "min_height": null,
            "min_width": null,
            "object_fit": null,
            "object_position": null,
            "order": null,
            "overflow": null,
            "overflow_x": null,
            "overflow_y": null,
            "padding": null,
            "right": null,
            "top": null,
            "visibility": null,
            "width": null
          }
        },
        "ca055e2710074bf78ee7e3ba20f17575": {
          "model_module": "@jupyter-widgets/controls",
          "model_name": "DescriptionStyleModel",
          "model_module_version": "1.5.0",
          "state": {
            "_model_module": "@jupyter-widgets/controls",
            "_model_module_version": "1.5.0",
            "_model_name": "DescriptionStyleModel",
            "_view_count": null,
            "_view_module": "@jupyter-widgets/base",
            "_view_module_version": "1.2.0",
            "_view_name": "StyleView",
            "description_width": ""
          }
        },
        "fe374b209beb4d0bb484b986d9266239": {
          "model_module": "@jupyter-widgets/controls",
          "model_name": "HBoxModel",
          "model_module_version": "1.5.0",
          "state": {
            "_dom_classes": [],
            "_model_module": "@jupyter-widgets/controls",
            "_model_module_version": "1.5.0",
            "_model_name": "HBoxModel",
            "_view_count": null,
            "_view_module": "@jupyter-widgets/controls",
            "_view_module_version": "1.5.0",
            "_view_name": "HBoxView",
            "box_style": "",
            "children": [
              "IPY_MODEL_f6ee682381a5415ba18b78cec41d50e1",
              "IPY_MODEL_2dd230e3407e43c0b7bfe3aacf41b3e4",
              "IPY_MODEL_54efbedd160b417090b9b01841db3c0f"
            ],
            "layout": "IPY_MODEL_a818eee9297f4a8fac5d4507c150dc95"
          }
        },
        "f6ee682381a5415ba18b78cec41d50e1": {
          "model_module": "@jupyter-widgets/controls",
          "model_name": "HTMLModel",
          "model_module_version": "1.5.0",
          "state": {
            "_dom_classes": [],
            "_model_module": "@jupyter-widgets/controls",
            "_model_module_version": "1.5.0",
            "_model_name": "HTMLModel",
            "_view_count": null,
            "_view_module": "@jupyter-widgets/controls",
            "_view_module_version": "1.5.0",
            "_view_name": "HTMLView",
            "description": "",
            "description_tooltip": null,
            "layout": "IPY_MODEL_a5437a303a41408db2a6584b633c0fee",
            "placeholder": "​",
            "style": "IPY_MODEL_e85a6feccbe64b918741e985869f4a7c",
            "value": "Map: 100%"
          }
        },
        "2dd230e3407e43c0b7bfe3aacf41b3e4": {
          "model_module": "@jupyter-widgets/controls",
          "model_name": "FloatProgressModel",
          "model_module_version": "1.5.0",
          "state": {
            "_dom_classes": [],
            "_model_module": "@jupyter-widgets/controls",
            "_model_module_version": "1.5.0",
            "_model_name": "FloatProgressModel",
            "_view_count": null,
            "_view_module": "@jupyter-widgets/controls",
            "_view_module_version": "1.5.0",
            "_view_name": "ProgressView",
            "bar_style": "success",
            "description": "",
            "description_tooltip": null,
            "layout": "IPY_MODEL_bdd5b424b1b64f81981d724562bde707",
            "max": 1014,
            "min": 0,
            "orientation": "horizontal",
            "style": "IPY_MODEL_5bb8b282ae3b4dabad182d47aad87886",
            "value": 1014
          }
        },
        "54efbedd160b417090b9b01841db3c0f": {
          "model_module": "@jupyter-widgets/controls",
          "model_name": "HTMLModel",
          "model_module_version": "1.5.0",
          "state": {
            "_dom_classes": [],
            "_model_module": "@jupyter-widgets/controls",
            "_model_module_version": "1.5.0",
            "_model_name": "HTMLModel",
            "_view_count": null,
            "_view_module": "@jupyter-widgets/controls",
            "_view_module_version": "1.5.0",
            "_view_name": "HTMLView",
            "description": "",
            "description_tooltip": null,
            "layout": "IPY_MODEL_6091949ff5ce4747939913a17facb558",
            "placeholder": "​",
            "style": "IPY_MODEL_06763c705e9b454aabc2e23559afef66",
            "value": " 1014/1014 [00:00&lt;00:00, 3057.89 examples/s]"
          }
        },
        "a818eee9297f4a8fac5d4507c150dc95": {
          "model_module": "@jupyter-widgets/base",
          "model_name": "LayoutModel",
          "model_module_version": "1.2.0",
          "state": {
            "_model_module": "@jupyter-widgets/base",
            "_model_module_version": "1.2.0",
            "_model_name": "LayoutModel",
            "_view_count": null,
            "_view_module": "@jupyter-widgets/base",
            "_view_module_version": "1.2.0",
            "_view_name": "LayoutView",
            "align_content": null,
            "align_items": null,
            "align_self": null,
            "border": null,
            "bottom": null,
            "display": null,
            "flex": null,
            "flex_flow": null,
            "grid_area": null,
            "grid_auto_columns": null,
            "grid_auto_flow": null,
            "grid_auto_rows": null,
            "grid_column": null,
            "grid_gap": null,
            "grid_row": null,
            "grid_template_areas": null,
            "grid_template_columns": null,
            "grid_template_rows": null,
            "height": null,
            "justify_content": null,
            "justify_items": null,
            "left": null,
            "margin": null,
            "max_height": null,
            "max_width": null,
            "min_height": null,
            "min_width": null,
            "object_fit": null,
            "object_position": null,
            "order": null,
            "overflow": null,
            "overflow_x": null,
            "overflow_y": null,
            "padding": null,
            "right": null,
            "top": null,
            "visibility": null,
            "width": null
          }
        },
        "a5437a303a41408db2a6584b633c0fee": {
          "model_module": "@jupyter-widgets/base",
          "model_name": "LayoutModel",
          "model_module_version": "1.2.0",
          "state": {
            "_model_module": "@jupyter-widgets/base",
            "_model_module_version": "1.2.0",
            "_model_name": "LayoutModel",
            "_view_count": null,
            "_view_module": "@jupyter-widgets/base",
            "_view_module_version": "1.2.0",
            "_view_name": "LayoutView",
            "align_content": null,
            "align_items": null,
            "align_self": null,
            "border": null,
            "bottom": null,
            "display": null,
            "flex": null,
            "flex_flow": null,
            "grid_area": null,
            "grid_auto_columns": null,
            "grid_auto_flow": null,
            "grid_auto_rows": null,
            "grid_column": null,
            "grid_gap": null,
            "grid_row": null,
            "grid_template_areas": null,
            "grid_template_columns": null,
            "grid_template_rows": null,
            "height": null,
            "justify_content": null,
            "justify_items": null,
            "left": null,
            "margin": null,
            "max_height": null,
            "max_width": null,
            "min_height": null,
            "min_width": null,
            "object_fit": null,
            "object_position": null,
            "order": null,
            "overflow": null,
            "overflow_x": null,
            "overflow_y": null,
            "padding": null,
            "right": null,
            "top": null,
            "visibility": null,
            "width": null
          }
        },
        "e85a6feccbe64b918741e985869f4a7c": {
          "model_module": "@jupyter-widgets/controls",
          "model_name": "DescriptionStyleModel",
          "model_module_version": "1.5.0",
          "state": {
            "_model_module": "@jupyter-widgets/controls",
            "_model_module_version": "1.5.0",
            "_model_name": "DescriptionStyleModel",
            "_view_count": null,
            "_view_module": "@jupyter-widgets/base",
            "_view_module_version": "1.2.0",
            "_view_name": "StyleView",
            "description_width": ""
          }
        },
        "bdd5b424b1b64f81981d724562bde707": {
          "model_module": "@jupyter-widgets/base",
          "model_name": "LayoutModel",
          "model_module_version": "1.2.0",
          "state": {
            "_model_module": "@jupyter-widgets/base",
            "_model_module_version": "1.2.0",
            "_model_name": "LayoutModel",
            "_view_count": null,
            "_view_module": "@jupyter-widgets/base",
            "_view_module_version": "1.2.0",
            "_view_name": "LayoutView",
            "align_content": null,
            "align_items": null,
            "align_self": null,
            "border": null,
            "bottom": null,
            "display": null,
            "flex": null,
            "flex_flow": null,
            "grid_area": null,
            "grid_auto_columns": null,
            "grid_auto_flow": null,
            "grid_auto_rows": null,
            "grid_column": null,
            "grid_gap": null,
            "grid_row": null,
            "grid_template_areas": null,
            "grid_template_columns": null,
            "grid_template_rows": null,
            "height": null,
            "justify_content": null,
            "justify_items": null,
            "left": null,
            "margin": null,
            "max_height": null,
            "max_width": null,
            "min_height": null,
            "min_width": null,
            "object_fit": null,
            "object_position": null,
            "order": null,
            "overflow": null,
            "overflow_x": null,
            "overflow_y": null,
            "padding": null,
            "right": null,
            "top": null,
            "visibility": null,
            "width": null
          }
        },
        "5bb8b282ae3b4dabad182d47aad87886": {
          "model_module": "@jupyter-widgets/controls",
          "model_name": "ProgressStyleModel",
          "model_module_version": "1.5.0",
          "state": {
            "_model_module": "@jupyter-widgets/controls",
            "_model_module_version": "1.5.0",
            "_model_name": "ProgressStyleModel",
            "_view_count": null,
            "_view_module": "@jupyter-widgets/base",
            "_view_module_version": "1.2.0",
            "_view_name": "StyleView",
            "bar_color": null,
            "description_width": ""
          }
        },
        "6091949ff5ce4747939913a17facb558": {
          "model_module": "@jupyter-widgets/base",
          "model_name": "LayoutModel",
          "model_module_version": "1.2.0",
          "state": {
            "_model_module": "@jupyter-widgets/base",
            "_model_module_version": "1.2.0",
            "_model_name": "LayoutModel",
            "_view_count": null,
            "_view_module": "@jupyter-widgets/base",
            "_view_module_version": "1.2.0",
            "_view_name": "LayoutView",
            "align_content": null,
            "align_items": null,
            "align_self": null,
            "border": null,
            "bottom": null,
            "display": null,
            "flex": null,
            "flex_flow": null,
            "grid_area": null,
            "grid_auto_columns": null,
            "grid_auto_flow": null,
            "grid_auto_rows": null,
            "grid_column": null,
            "grid_gap": null,
            "grid_row": null,
            "grid_template_areas": null,
            "grid_template_columns": null,
            "grid_template_rows": null,
            "height": null,
            "justify_content": null,
            "justify_items": null,
            "left": null,
            "margin": null,
            "max_height": null,
            "max_width": null,
            "min_height": null,
            "min_width": null,
            "object_fit": null,
            "object_position": null,
            "order": null,
            "overflow": null,
            "overflow_x": null,
            "overflow_y": null,
            "padding": null,
            "right": null,
            "top": null,
            "visibility": null,
            "width": null
          }
        },
        "06763c705e9b454aabc2e23559afef66": {
          "model_module": "@jupyter-widgets/controls",
          "model_name": "DescriptionStyleModel",
          "model_module_version": "1.5.0",
          "state": {
            "_model_module": "@jupyter-widgets/controls",
            "_model_module_version": "1.5.0",
            "_model_name": "DescriptionStyleModel",
            "_view_count": null,
            "_view_module": "@jupyter-widgets/base",
            "_view_module_version": "1.2.0",
            "_view_name": "StyleView",
            "description_width": ""
          }
        },
        "5952ea176f67485d96a4be7a4bd16726": {
          "model_module": "@jupyter-widgets/controls",
          "model_name": "HBoxModel",
          "model_module_version": "1.5.0",
          "state": {
            "_dom_classes": [],
            "_model_module": "@jupyter-widgets/controls",
            "_model_module_version": "1.5.0",
            "_model_name": "HBoxModel",
            "_view_count": null,
            "_view_module": "@jupyter-widgets/controls",
            "_view_module_version": "1.5.0",
            "_view_name": "HBoxView",
            "box_style": "",
            "children": [
              "IPY_MODEL_41c8c123bf3d49788a53e3f4e63cae4a",
              "IPY_MODEL_944f1e584eca459c986c695c9d03cebd",
              "IPY_MODEL_5810e68732c34de49e297f3788b70607"
            ],
            "layout": "IPY_MODEL_2a749609e22447e18b57589f87c2eddc"
          }
        },
        "41c8c123bf3d49788a53e3f4e63cae4a": {
          "model_module": "@jupyter-widgets/controls",
          "model_name": "HTMLModel",
          "model_module_version": "1.5.0",
          "state": {
            "_dom_classes": [],
            "_model_module": "@jupyter-widgets/controls",
            "_model_module_version": "1.5.0",
            "_model_name": "HTMLModel",
            "_view_count": null,
            "_view_module": "@jupyter-widgets/controls",
            "_view_module_version": "1.5.0",
            "_view_name": "HTMLView",
            "description": "",
            "description_tooltip": null,
            "layout": "IPY_MODEL_7aa84d14a68645d18df91b2b47f04f46",
            "placeholder": "​",
            "style": "IPY_MODEL_6c9791f56d8c43a1a3fb848d7d091407",
            "value": "Filter: 100%"
          }
        },
        "944f1e584eca459c986c695c9d03cebd": {
          "model_module": "@jupyter-widgets/controls",
          "model_name": "FloatProgressModel",
          "model_module_version": "1.5.0",
          "state": {
            "_dom_classes": [],
            "_model_module": "@jupyter-widgets/controls",
            "_model_module_version": "1.5.0",
            "_model_name": "FloatProgressModel",
            "_view_count": null,
            "_view_module": "@jupyter-widgets/controls",
            "_view_module_version": "1.5.0",
            "_view_name": "ProgressView",
            "bar_style": "success",
            "description": "",
            "description_tooltip": null,
            "layout": "IPY_MODEL_1b5c9084d4b4459180a2a76442619c60",
            "max": 29000,
            "min": 0,
            "orientation": "horizontal",
            "style": "IPY_MODEL_24741635acbc4fccae104800cc2444e4",
            "value": 29000
          }
        },
        "5810e68732c34de49e297f3788b70607": {
          "model_module": "@jupyter-widgets/controls",
          "model_name": "HTMLModel",
          "model_module_version": "1.5.0",
          "state": {
            "_dom_classes": [],
            "_model_module": "@jupyter-widgets/controls",
            "_model_module_version": "1.5.0",
            "_model_name": "HTMLModel",
            "_view_count": null,
            "_view_module": "@jupyter-widgets/controls",
            "_view_module_version": "1.5.0",
            "_view_name": "HTMLView",
            "description": "",
            "description_tooltip": null,
            "layout": "IPY_MODEL_aaa0842c8b42481cb4fd5b893bf2a3e3",
            "placeholder": "​",
            "style": "IPY_MODEL_380bad2767ab4556b3e42771395ee442",
            "value": " 29000/29000 [00:16&lt;00:00, 1822.28 examples/s]"
          }
        },
        "2a749609e22447e18b57589f87c2eddc": {
          "model_module": "@jupyter-widgets/base",
          "model_name": "LayoutModel",
          "model_module_version": "1.2.0",
          "state": {
            "_model_module": "@jupyter-widgets/base",
            "_model_module_version": "1.2.0",
            "_model_name": "LayoutModel",
            "_view_count": null,
            "_view_module": "@jupyter-widgets/base",
            "_view_module_version": "1.2.0",
            "_view_name": "LayoutView",
            "align_content": null,
            "align_items": null,
            "align_self": null,
            "border": null,
            "bottom": null,
            "display": null,
            "flex": null,
            "flex_flow": null,
            "grid_area": null,
            "grid_auto_columns": null,
            "grid_auto_flow": null,
            "grid_auto_rows": null,
            "grid_column": null,
            "grid_gap": null,
            "grid_row": null,
            "grid_template_areas": null,
            "grid_template_columns": null,
            "grid_template_rows": null,
            "height": null,
            "justify_content": null,
            "justify_items": null,
            "left": null,
            "margin": null,
            "max_height": null,
            "max_width": null,
            "min_height": null,
            "min_width": null,
            "object_fit": null,
            "object_position": null,
            "order": null,
            "overflow": null,
            "overflow_x": null,
            "overflow_y": null,
            "padding": null,
            "right": null,
            "top": null,
            "visibility": null,
            "width": null
          }
        },
        "7aa84d14a68645d18df91b2b47f04f46": {
          "model_module": "@jupyter-widgets/base",
          "model_name": "LayoutModel",
          "model_module_version": "1.2.0",
          "state": {
            "_model_module": "@jupyter-widgets/base",
            "_model_module_version": "1.2.0",
            "_model_name": "LayoutModel",
            "_view_count": null,
            "_view_module": "@jupyter-widgets/base",
            "_view_module_version": "1.2.0",
            "_view_name": "LayoutView",
            "align_content": null,
            "align_items": null,
            "align_self": null,
            "border": null,
            "bottom": null,
            "display": null,
            "flex": null,
            "flex_flow": null,
            "grid_area": null,
            "grid_auto_columns": null,
            "grid_auto_flow": null,
            "grid_auto_rows": null,
            "grid_column": null,
            "grid_gap": null,
            "grid_row": null,
            "grid_template_areas": null,
            "grid_template_columns": null,
            "grid_template_rows": null,
            "height": null,
            "justify_content": null,
            "justify_items": null,
            "left": null,
            "margin": null,
            "max_height": null,
            "max_width": null,
            "min_height": null,
            "min_width": null,
            "object_fit": null,
            "object_position": null,
            "order": null,
            "overflow": null,
            "overflow_x": null,
            "overflow_y": null,
            "padding": null,
            "right": null,
            "top": null,
            "visibility": null,
            "width": null
          }
        },
        "6c9791f56d8c43a1a3fb848d7d091407": {
          "model_module": "@jupyter-widgets/controls",
          "model_name": "DescriptionStyleModel",
          "model_module_version": "1.5.0",
          "state": {
            "_model_module": "@jupyter-widgets/controls",
            "_model_module_version": "1.5.0",
            "_model_name": "DescriptionStyleModel",
            "_view_count": null,
            "_view_module": "@jupyter-widgets/base",
            "_view_module_version": "1.2.0",
            "_view_name": "StyleView",
            "description_width": ""
          }
        },
        "1b5c9084d4b4459180a2a76442619c60": {
          "model_module": "@jupyter-widgets/base",
          "model_name": "LayoutModel",
          "model_module_version": "1.2.0",
          "state": {
            "_model_module": "@jupyter-widgets/base",
            "_model_module_version": "1.2.0",
            "_model_name": "LayoutModel",
            "_view_count": null,
            "_view_module": "@jupyter-widgets/base",
            "_view_module_version": "1.2.0",
            "_view_name": "LayoutView",
            "align_content": null,
            "align_items": null,
            "align_self": null,
            "border": null,
            "bottom": null,
            "display": null,
            "flex": null,
            "flex_flow": null,
            "grid_area": null,
            "grid_auto_columns": null,
            "grid_auto_flow": null,
            "grid_auto_rows": null,
            "grid_column": null,
            "grid_gap": null,
            "grid_row": null,
            "grid_template_areas": null,
            "grid_template_columns": null,
            "grid_template_rows": null,
            "height": null,
            "justify_content": null,
            "justify_items": null,
            "left": null,
            "margin": null,
            "max_height": null,
            "max_width": null,
            "min_height": null,
            "min_width": null,
            "object_fit": null,
            "object_position": null,
            "order": null,
            "overflow": null,
            "overflow_x": null,
            "overflow_y": null,
            "padding": null,
            "right": null,
            "top": null,
            "visibility": null,
            "width": null
          }
        },
        "24741635acbc4fccae104800cc2444e4": {
          "model_module": "@jupyter-widgets/controls",
          "model_name": "ProgressStyleModel",
          "model_module_version": "1.5.0",
          "state": {
            "_model_module": "@jupyter-widgets/controls",
            "_model_module_version": "1.5.0",
            "_model_name": "ProgressStyleModel",
            "_view_count": null,
            "_view_module": "@jupyter-widgets/base",
            "_view_module_version": "1.2.0",
            "_view_name": "StyleView",
            "bar_color": null,
            "description_width": ""
          }
        },
        "aaa0842c8b42481cb4fd5b893bf2a3e3": {
          "model_module": "@jupyter-widgets/base",
          "model_name": "LayoutModel",
          "model_module_version": "1.2.0",
          "state": {
            "_model_module": "@jupyter-widgets/base",
            "_model_module_version": "1.2.0",
            "_model_name": "LayoutModel",
            "_view_count": null,
            "_view_module": "@jupyter-widgets/base",
            "_view_module_version": "1.2.0",
            "_view_name": "LayoutView",
            "align_content": null,
            "align_items": null,
            "align_self": null,
            "border": null,
            "bottom": null,
            "display": null,
            "flex": null,
            "flex_flow": null,
            "grid_area": null,
            "grid_auto_columns": null,
            "grid_auto_flow": null,
            "grid_auto_rows": null,
            "grid_column": null,
            "grid_gap": null,
            "grid_row": null,
            "grid_template_areas": null,
            "grid_template_columns": null,
            "grid_template_rows": null,
            "height": null,
            "justify_content": null,
            "justify_items": null,
            "left": null,
            "margin": null,
            "max_height": null,
            "max_width": null,
            "min_height": null,
            "min_width": null,
            "object_fit": null,
            "object_position": null,
            "order": null,
            "overflow": null,
            "overflow_x": null,
            "overflow_y": null,
            "padding": null,
            "right": null,
            "top": null,
            "visibility": null,
            "width": null
          }
        },
        "380bad2767ab4556b3e42771395ee442": {
          "model_module": "@jupyter-widgets/controls",
          "model_name": "DescriptionStyleModel",
          "model_module_version": "1.5.0",
          "state": {
            "_model_module": "@jupyter-widgets/controls",
            "_model_module_version": "1.5.0",
            "_model_name": "DescriptionStyleModel",
            "_view_count": null,
            "_view_module": "@jupyter-widgets/base",
            "_view_module_version": "1.2.0",
            "_view_name": "StyleView",
            "description_width": ""
          }
        },
        "43f5b4366f024cfd955a974f41dc82ad": {
          "model_module": "@jupyter-widgets/controls",
          "model_name": "HBoxModel",
          "model_module_version": "1.5.0",
          "state": {
            "_dom_classes": [],
            "_model_module": "@jupyter-widgets/controls",
            "_model_module_version": "1.5.0",
            "_model_name": "HBoxModel",
            "_view_count": null,
            "_view_module": "@jupyter-widgets/controls",
            "_view_module_version": "1.5.0",
            "_view_name": "HBoxView",
            "box_style": "",
            "children": [
              "IPY_MODEL_56066c76fca8496789040b43a758d28a",
              "IPY_MODEL_f7bb37e5280047faa3a19a221ef0d039",
              "IPY_MODEL_6fc8276dce5947da8ef70193a3ef74e3"
            ],
            "layout": "IPY_MODEL_123ab60e5a864352a20de30940629942"
          }
        },
        "56066c76fca8496789040b43a758d28a": {
          "model_module": "@jupyter-widgets/controls",
          "model_name": "HTMLModel",
          "model_module_version": "1.5.0",
          "state": {
            "_dom_classes": [],
            "_model_module": "@jupyter-widgets/controls",
            "_model_module_version": "1.5.0",
            "_model_name": "HTMLModel",
            "_view_count": null,
            "_view_module": "@jupyter-widgets/controls",
            "_view_module_version": "1.5.0",
            "_view_name": "HTMLView",
            "description": "",
            "description_tooltip": null,
            "layout": "IPY_MODEL_2951f84a7e864fd9bca6be720eae6c13",
            "placeholder": "​",
            "style": "IPY_MODEL_adfbc946c5ba49efb01a55974a333e06",
            "value": "Filter: 100%"
          }
        },
        "f7bb37e5280047faa3a19a221ef0d039": {
          "model_module": "@jupyter-widgets/controls",
          "model_name": "FloatProgressModel",
          "model_module_version": "1.5.0",
          "state": {
            "_dom_classes": [],
            "_model_module": "@jupyter-widgets/controls",
            "_model_module_version": "1.5.0",
            "_model_name": "FloatProgressModel",
            "_view_count": null,
            "_view_module": "@jupyter-widgets/controls",
            "_view_module_version": "1.5.0",
            "_view_name": "ProgressView",
            "bar_style": "success",
            "description": "",
            "description_tooltip": null,
            "layout": "IPY_MODEL_2e965870a6004574bb84041c127a8244",
            "max": 1014,
            "min": 0,
            "orientation": "horizontal",
            "style": "IPY_MODEL_232753aebc484e8aad7eaa0bb315efd2",
            "value": 1014
          }
        },
        "6fc8276dce5947da8ef70193a3ef74e3": {
          "model_module": "@jupyter-widgets/controls",
          "model_name": "HTMLModel",
          "model_module_version": "1.5.0",
          "state": {
            "_dom_classes": [],
            "_model_module": "@jupyter-widgets/controls",
            "_model_module_version": "1.5.0",
            "_model_name": "HTMLModel",
            "_view_count": null,
            "_view_module": "@jupyter-widgets/controls",
            "_view_module_version": "1.5.0",
            "_view_name": "HTMLView",
            "description": "",
            "description_tooltip": null,
            "layout": "IPY_MODEL_a3d828b8b1a14875acba4c8c3bf46e32",
            "placeholder": "​",
            "style": "IPY_MODEL_4439954ca43c4f1084f40faca66f0ba0",
            "value": " 1014/1014 [00:00&lt;00:00, 2471.06 examples/s]"
          }
        },
        "123ab60e5a864352a20de30940629942": {
          "model_module": "@jupyter-widgets/base",
          "model_name": "LayoutModel",
          "model_module_version": "1.2.0",
          "state": {
            "_model_module": "@jupyter-widgets/base",
            "_model_module_version": "1.2.0",
            "_model_name": "LayoutModel",
            "_view_count": null,
            "_view_module": "@jupyter-widgets/base",
            "_view_module_version": "1.2.0",
            "_view_name": "LayoutView",
            "align_content": null,
            "align_items": null,
            "align_self": null,
            "border": null,
            "bottom": null,
            "display": null,
            "flex": null,
            "flex_flow": null,
            "grid_area": null,
            "grid_auto_columns": null,
            "grid_auto_flow": null,
            "grid_auto_rows": null,
            "grid_column": null,
            "grid_gap": null,
            "grid_row": null,
            "grid_template_areas": null,
            "grid_template_columns": null,
            "grid_template_rows": null,
            "height": null,
            "justify_content": null,
            "justify_items": null,
            "left": null,
            "margin": null,
            "max_height": null,
            "max_width": null,
            "min_height": null,
            "min_width": null,
            "object_fit": null,
            "object_position": null,
            "order": null,
            "overflow": null,
            "overflow_x": null,
            "overflow_y": null,
            "padding": null,
            "right": null,
            "top": null,
            "visibility": null,
            "width": null
          }
        },
        "2951f84a7e864fd9bca6be720eae6c13": {
          "model_module": "@jupyter-widgets/base",
          "model_name": "LayoutModel",
          "model_module_version": "1.2.0",
          "state": {
            "_model_module": "@jupyter-widgets/base",
            "_model_module_version": "1.2.0",
            "_model_name": "LayoutModel",
            "_view_count": null,
            "_view_module": "@jupyter-widgets/base",
            "_view_module_version": "1.2.0",
            "_view_name": "LayoutView",
            "align_content": null,
            "align_items": null,
            "align_self": null,
            "border": null,
            "bottom": null,
            "display": null,
            "flex": null,
            "flex_flow": null,
            "grid_area": null,
            "grid_auto_columns": null,
            "grid_auto_flow": null,
            "grid_auto_rows": null,
            "grid_column": null,
            "grid_gap": null,
            "grid_row": null,
            "grid_template_areas": null,
            "grid_template_columns": null,
            "grid_template_rows": null,
            "height": null,
            "justify_content": null,
            "justify_items": null,
            "left": null,
            "margin": null,
            "max_height": null,
            "max_width": null,
            "min_height": null,
            "min_width": null,
            "object_fit": null,
            "object_position": null,
            "order": null,
            "overflow": null,
            "overflow_x": null,
            "overflow_y": null,
            "padding": null,
            "right": null,
            "top": null,
            "visibility": null,
            "width": null
          }
        },
        "adfbc946c5ba49efb01a55974a333e06": {
          "model_module": "@jupyter-widgets/controls",
          "model_name": "DescriptionStyleModel",
          "model_module_version": "1.5.0",
          "state": {
            "_model_module": "@jupyter-widgets/controls",
            "_model_module_version": "1.5.0",
            "_model_name": "DescriptionStyleModel",
            "_view_count": null,
            "_view_module": "@jupyter-widgets/base",
            "_view_module_version": "1.2.0",
            "_view_name": "StyleView",
            "description_width": ""
          }
        },
        "2e965870a6004574bb84041c127a8244": {
          "model_module": "@jupyter-widgets/base",
          "model_name": "LayoutModel",
          "model_module_version": "1.2.0",
          "state": {
            "_model_module": "@jupyter-widgets/base",
            "_model_module_version": "1.2.0",
            "_model_name": "LayoutModel",
            "_view_count": null,
            "_view_module": "@jupyter-widgets/base",
            "_view_module_version": "1.2.0",
            "_view_name": "LayoutView",
            "align_content": null,
            "align_items": null,
            "align_self": null,
            "border": null,
            "bottom": null,
            "display": null,
            "flex": null,
            "flex_flow": null,
            "grid_area": null,
            "grid_auto_columns": null,
            "grid_auto_flow": null,
            "grid_auto_rows": null,
            "grid_column": null,
            "grid_gap": null,
            "grid_row": null,
            "grid_template_areas": null,
            "grid_template_columns": null,
            "grid_template_rows": null,
            "height": null,
            "justify_content": null,
            "justify_items": null,
            "left": null,
            "margin": null,
            "max_height": null,
            "max_width": null,
            "min_height": null,
            "min_width": null,
            "object_fit": null,
            "object_position": null,
            "order": null,
            "overflow": null,
            "overflow_x": null,
            "overflow_y": null,
            "padding": null,
            "right": null,
            "top": null,
            "visibility": null,
            "width": null
          }
        },
        "232753aebc484e8aad7eaa0bb315efd2": {
          "model_module": "@jupyter-widgets/controls",
          "model_name": "ProgressStyleModel",
          "model_module_version": "1.5.0",
          "state": {
            "_model_module": "@jupyter-widgets/controls",
            "_model_module_version": "1.5.0",
            "_model_name": "ProgressStyleModel",
            "_view_count": null,
            "_view_module": "@jupyter-widgets/base",
            "_view_module_version": "1.2.0",
            "_view_name": "StyleView",
            "bar_color": null,
            "description_width": ""
          }
        },
        "a3d828b8b1a14875acba4c8c3bf46e32": {
          "model_module": "@jupyter-widgets/base",
          "model_name": "LayoutModel",
          "model_module_version": "1.2.0",
          "state": {
            "_model_module": "@jupyter-widgets/base",
            "_model_module_version": "1.2.0",
            "_model_name": "LayoutModel",
            "_view_count": null,
            "_view_module": "@jupyter-widgets/base",
            "_view_module_version": "1.2.0",
            "_view_name": "LayoutView",
            "align_content": null,
            "align_items": null,
            "align_self": null,
            "border": null,
            "bottom": null,
            "display": null,
            "flex": null,
            "flex_flow": null,
            "grid_area": null,
            "grid_auto_columns": null,
            "grid_auto_flow": null,
            "grid_auto_rows": null,
            "grid_column": null,
            "grid_gap": null,
            "grid_row": null,
            "grid_template_areas": null,
            "grid_template_columns": null,
            "grid_template_rows": null,
            "height": null,
            "justify_content": null,
            "justify_items": null,
            "left": null,
            "margin": null,
            "max_height": null,
            "max_width": null,
            "min_height": null,
            "min_width": null,
            "object_fit": null,
            "object_position": null,
            "order": null,
            "overflow": null,
            "overflow_x": null,
            "overflow_y": null,
            "padding": null,
            "right": null,
            "top": null,
            "visibility": null,
            "width": null
          }
        },
        "4439954ca43c4f1084f40faca66f0ba0": {
          "model_module": "@jupyter-widgets/controls",
          "model_name": "DescriptionStyleModel",
          "model_module_version": "1.5.0",
          "state": {
            "_model_module": "@jupyter-widgets/controls",
            "_model_module_version": "1.5.0",
            "_model_name": "DescriptionStyleModel",
            "_view_count": null,
            "_view_module": "@jupyter-widgets/base",
            "_view_module_version": "1.2.0",
            "_view_name": "StyleView",
            "description_width": ""
          }
        },
        "faa6d45494b6491283aacce4a2448f77": {
          "model_module": "@jupyter-widgets/controls",
          "model_name": "HBoxModel",
          "model_module_version": "1.5.0",
          "state": {
            "_dom_classes": [],
            "_model_module": "@jupyter-widgets/controls",
            "_model_module_version": "1.5.0",
            "_model_name": "HBoxModel",
            "_view_count": null,
            "_view_module": "@jupyter-widgets/controls",
            "_view_module_version": "1.5.0",
            "_view_name": "HBoxView",
            "box_style": "",
            "children": [
              "IPY_MODEL_0836d83065014a99b97aa719f4aafd0d",
              "IPY_MODEL_b7c0937256d24cd886a7ede7b17fe5ac",
              "IPY_MODEL_d3e795e3b537476ea6fd3348dc942326"
            ],
            "layout": "IPY_MODEL_b7b7a28fa0ac4e158daf072b42ff40e6"
          }
        },
        "0836d83065014a99b97aa719f4aafd0d": {
          "model_module": "@jupyter-widgets/controls",
          "model_name": "HTMLModel",
          "model_module_version": "1.5.0",
          "state": {
            "_dom_classes": [],
            "_model_module": "@jupyter-widgets/controls",
            "_model_module_version": "1.5.0",
            "_model_name": "HTMLModel",
            "_view_count": null,
            "_view_module": "@jupyter-widgets/controls",
            "_view_module_version": "1.5.0",
            "_view_name": "HTMLView",
            "description": "",
            "description_tooltip": null,
            "layout": "IPY_MODEL_2c40ccf6b2f74d8eb973ec9621d1fc9c",
            "placeholder": "​",
            "style": "IPY_MODEL_1797f9c76c3a4a25a0cd85f2caf0642b",
            "value": "Filter: 100%"
          }
        },
        "b7c0937256d24cd886a7ede7b17fe5ac": {
          "model_module": "@jupyter-widgets/controls",
          "model_name": "FloatProgressModel",
          "model_module_version": "1.5.0",
          "state": {
            "_dom_classes": [],
            "_model_module": "@jupyter-widgets/controls",
            "_model_module_version": "1.5.0",
            "_model_name": "FloatProgressModel",
            "_view_count": null,
            "_view_module": "@jupyter-widgets/controls",
            "_view_module_version": "1.5.0",
            "_view_name": "ProgressView",
            "bar_style": "success",
            "description": "",
            "description_tooltip": null,
            "layout": "IPY_MODEL_07a27fdb1a534bf28e7459f50281f732",
            "max": 1000,
            "min": 0,
            "orientation": "horizontal",
            "style": "IPY_MODEL_75051f4a63054c4dbc5020118a92762f",
            "value": 1000
          }
        },
        "d3e795e3b537476ea6fd3348dc942326": {
          "model_module": "@jupyter-widgets/controls",
          "model_name": "HTMLModel",
          "model_module_version": "1.5.0",
          "state": {
            "_dom_classes": [],
            "_model_module": "@jupyter-widgets/controls",
            "_model_module_version": "1.5.0",
            "_model_name": "HTMLModel",
            "_view_count": null,
            "_view_module": "@jupyter-widgets/controls",
            "_view_module_version": "1.5.0",
            "_view_name": "HTMLView",
            "description": "",
            "description_tooltip": null,
            "layout": "IPY_MODEL_de63ad0f64144f51b5dab65608937da6",
            "placeholder": "​",
            "style": "IPY_MODEL_399ca40cf765455fb3dbeccc8db4cb42",
            "value": " 1000/1000 [00:00&lt;00:00, 2527.23 examples/s]"
          }
        },
        "b7b7a28fa0ac4e158daf072b42ff40e6": {
          "model_module": "@jupyter-widgets/base",
          "model_name": "LayoutModel",
          "model_module_version": "1.2.0",
          "state": {
            "_model_module": "@jupyter-widgets/base",
            "_model_module_version": "1.2.0",
            "_model_name": "LayoutModel",
            "_view_count": null,
            "_view_module": "@jupyter-widgets/base",
            "_view_module_version": "1.2.0",
            "_view_name": "LayoutView",
            "align_content": null,
            "align_items": null,
            "align_self": null,
            "border": null,
            "bottom": null,
            "display": null,
            "flex": null,
            "flex_flow": null,
            "grid_area": null,
            "grid_auto_columns": null,
            "grid_auto_flow": null,
            "grid_auto_rows": null,
            "grid_column": null,
            "grid_gap": null,
            "grid_row": null,
            "grid_template_areas": null,
            "grid_template_columns": null,
            "grid_template_rows": null,
            "height": null,
            "justify_content": null,
            "justify_items": null,
            "left": null,
            "margin": null,
            "max_height": null,
            "max_width": null,
            "min_height": null,
            "min_width": null,
            "object_fit": null,
            "object_position": null,
            "order": null,
            "overflow": null,
            "overflow_x": null,
            "overflow_y": null,
            "padding": null,
            "right": null,
            "top": null,
            "visibility": null,
            "width": null
          }
        },
        "2c40ccf6b2f74d8eb973ec9621d1fc9c": {
          "model_module": "@jupyter-widgets/base",
          "model_name": "LayoutModel",
          "model_module_version": "1.2.0",
          "state": {
            "_model_module": "@jupyter-widgets/base",
            "_model_module_version": "1.2.0",
            "_model_name": "LayoutModel",
            "_view_count": null,
            "_view_module": "@jupyter-widgets/base",
            "_view_module_version": "1.2.0",
            "_view_name": "LayoutView",
            "align_content": null,
            "align_items": null,
            "align_self": null,
            "border": null,
            "bottom": null,
            "display": null,
            "flex": null,
            "flex_flow": null,
            "grid_area": null,
            "grid_auto_columns": null,
            "grid_auto_flow": null,
            "grid_auto_rows": null,
            "grid_column": null,
            "grid_gap": null,
            "grid_row": null,
            "grid_template_areas": null,
            "grid_template_columns": null,
            "grid_template_rows": null,
            "height": null,
            "justify_content": null,
            "justify_items": null,
            "left": null,
            "margin": null,
            "max_height": null,
            "max_width": null,
            "min_height": null,
            "min_width": null,
            "object_fit": null,
            "object_position": null,
            "order": null,
            "overflow": null,
            "overflow_x": null,
            "overflow_y": null,
            "padding": null,
            "right": null,
            "top": null,
            "visibility": null,
            "width": null
          }
        },
        "1797f9c76c3a4a25a0cd85f2caf0642b": {
          "model_module": "@jupyter-widgets/controls",
          "model_name": "DescriptionStyleModel",
          "model_module_version": "1.5.0",
          "state": {
            "_model_module": "@jupyter-widgets/controls",
            "_model_module_version": "1.5.0",
            "_model_name": "DescriptionStyleModel",
            "_view_count": null,
            "_view_module": "@jupyter-widgets/base",
            "_view_module_version": "1.2.0",
            "_view_name": "StyleView",
            "description_width": ""
          }
        },
        "07a27fdb1a534bf28e7459f50281f732": {
          "model_module": "@jupyter-widgets/base",
          "model_name": "LayoutModel",
          "model_module_version": "1.2.0",
          "state": {
            "_model_module": "@jupyter-widgets/base",
            "_model_module_version": "1.2.0",
            "_model_name": "LayoutModel",
            "_view_count": null,
            "_view_module": "@jupyter-widgets/base",
            "_view_module_version": "1.2.0",
            "_view_name": "LayoutView",
            "align_content": null,
            "align_items": null,
            "align_self": null,
            "border": null,
            "bottom": null,
            "display": null,
            "flex": null,
            "flex_flow": null,
            "grid_area": null,
            "grid_auto_columns": null,
            "grid_auto_flow": null,
            "grid_auto_rows": null,
            "grid_column": null,
            "grid_gap": null,
            "grid_row": null,
            "grid_template_areas": null,
            "grid_template_columns": null,
            "grid_template_rows": null,
            "height": null,
            "justify_content": null,
            "justify_items": null,
            "left": null,
            "margin": null,
            "max_height": null,
            "max_width": null,
            "min_height": null,
            "min_width": null,
            "object_fit": null,
            "object_position": null,
            "order": null,
            "overflow": null,
            "overflow_x": null,
            "overflow_y": null,
            "padding": null,
            "right": null,
            "top": null,
            "visibility": null,
            "width": null
          }
        },
        "75051f4a63054c4dbc5020118a92762f": {
          "model_module": "@jupyter-widgets/controls",
          "model_name": "ProgressStyleModel",
          "model_module_version": "1.5.0",
          "state": {
            "_model_module": "@jupyter-widgets/controls",
            "_model_module_version": "1.5.0",
            "_model_name": "ProgressStyleModel",
            "_view_count": null,
            "_view_module": "@jupyter-widgets/base",
            "_view_module_version": "1.2.0",
            "_view_name": "StyleView",
            "bar_color": null,
            "description_width": ""
          }
        },
        "de63ad0f64144f51b5dab65608937da6": {
          "model_module": "@jupyter-widgets/base",
          "model_name": "LayoutModel",
          "model_module_version": "1.2.0",
          "state": {
            "_model_module": "@jupyter-widgets/base",
            "_model_module_version": "1.2.0",
            "_model_name": "LayoutModel",
            "_view_count": null,
            "_view_module": "@jupyter-widgets/base",
            "_view_module_version": "1.2.0",
            "_view_name": "LayoutView",
            "align_content": null,
            "align_items": null,
            "align_self": null,
            "border": null,
            "bottom": null,
            "display": null,
            "flex": null,
            "flex_flow": null,
            "grid_area": null,
            "grid_auto_columns": null,
            "grid_auto_flow": null,
            "grid_auto_rows": null,
            "grid_column": null,
            "grid_gap": null,
            "grid_row": null,
            "grid_template_areas": null,
            "grid_template_columns": null,
            "grid_template_rows": null,
            "height": null,
            "justify_content": null,
            "justify_items": null,
            "left": null,
            "margin": null,
            "max_height": null,
            "max_width": null,
            "min_height": null,
            "min_width": null,
            "object_fit": null,
            "object_position": null,
            "order": null,
            "overflow": null,
            "overflow_x": null,
            "overflow_y": null,
            "padding": null,
            "right": null,
            "top": null,
            "visibility": null,
            "width": null
          }
        },
        "399ca40cf765455fb3dbeccc8db4cb42": {
          "model_module": "@jupyter-widgets/controls",
          "model_name": "DescriptionStyleModel",
          "model_module_version": "1.5.0",
          "state": {
            "_model_module": "@jupyter-widgets/controls",
            "_model_module_version": "1.5.0",
            "_model_name": "DescriptionStyleModel",
            "_view_count": null,
            "_view_module": "@jupyter-widgets/base",
            "_view_module_version": "1.2.0",
            "_view_name": "StyleView",
            "description_width": ""
          }
        }
      }
    }
  },
  "nbformat": 4,
  "nbformat_minor": 0
}