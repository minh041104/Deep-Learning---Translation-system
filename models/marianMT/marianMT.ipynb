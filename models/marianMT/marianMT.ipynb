{
 "cells": [
  {
   "cell_type": "code",
   "execution_count": 6,
   "metadata": {
    "_cell_guid": "b1076dfc-b9ad-4769-8c92-a6c4dae69d19",
    "_uuid": "8f2839f25d086af736a60e9eeb907d3b93b6e0e5",
    "execution": {
     "iopub.execute_input": "2024-12-12T15:25:20.611372Z",
     "iopub.status.busy": "2024-12-12T15:25:20.610726Z",
     "iopub.status.idle": "2024-12-12T15:25:20.623425Z",
     "shell.execute_reply": "2024-12-12T15:25:20.622595Z",
     "shell.execute_reply.started": "2024-12-12T15:25:20.611339Z"
    },
    "trusted": true
   },
   "outputs": [],
   "source": [
    "import pandas as pd\n",
    "from transformers import MarianMTModel, MarianTokenizer\n",
    "import sacrebleu\n",
    "from rouge_score import rouge_scorer\n",
    "from nltk.translate.meteor_score import meteor_score\n",
    "\n",
    "def read_tsv(file_path):\n",
    "    data = pd.read_csv(file_path, sep=\"\\t\", header=None, names=[\"source\", \"reference\"])\n",
    "    return data[\"source\"].tolist(), data[\"reference\"].tolist()\n",
    "\n",
    "def translate_texts(texts, model_name=\"Helsinki-NLP/opus-mt-en-vi\", batch_size=16):\n",
    "    tokenizer = MarianTokenizer.from_pretrained(model_name)\n",
    "    model = MarianMTModel.from_pretrained(model_name).to(\"cuda\")\n",
    "\n",
    "    # Chia dữ liệu thành các batch nhỏ hơn\n",
    "    translated_texts = []\n",
    "    for i in range(0, len(texts), batch_size):\n",
    "        batch_texts = texts[i:i+batch_size]\n",
    "        inputs = tokenizer(batch_texts, return_tensors=\"pt\", padding=True, truncation=True).to(\"cuda\")\n",
    "        translated_tokens = model.generate(**inputs)\n",
    "        translated_texts.extend([tokenizer.decode(t, skip_special_tokens=True) for t in translated_tokens])\n",
    "    \n",
    "    return translated_texts\n",
    "\n",
    "def calculate_bleu(translated_texts, reference_texts):\n",
    "    bleu = sacrebleu.corpus_bleu(translated_texts, [reference_texts])\n",
    "    return bleu.score/100\n",
    "\n",
    "def calculate_rouge(translated_texts, reference_texts):\n",
    "    scorer = rouge_scorer.RougeScorer([\"rouge1\", \"rouge2\", \"rougeL\"], use_stemmer=True)\n",
    "    scores = [scorer.score(ref, trans) for ref, trans in zip(reference_texts, translated_texts)]\n",
    "    avg_scores = {\n",
    "        \"rouge1\": sum([score[\"rouge1\"].fmeasure for score in scores]) / len(scores),\n",
    "        \"rouge2\": sum([score[\"rouge2\"].fmeasure for score in scores]) / len(scores),\n",
    "        \"rougeL\": sum([score[\"rougeL\"].fmeasure for score in scores]) / len(scores),\n",
    "    }\n",
    "    return avg_scores\n",
    "\n",
    "def calculate_meteor(translated_texts, reference_texts):\n",
    "    scores = [meteor_score([ref], trans) for ref, trans in zip(reference_texts, translated_texts)]\n",
    "    return sum(scores) / len(scores)\n",
    "\n",
    "def save_results(file_path, source_texts, translated_texts, reference_texts):\n",
    "    output_data = pd.DataFrame({\n",
    "        \"source\": source_texts,\n",
    "        \"translated\": translated_texts,\n",
    "        \"reference\": reference_texts\n",
    "    })\n",
    "    output_data.to_csv(file_path, sep=\"\\t\", index=False, encoding=\"utf-8\")\n",
    "\n",
    "def main_pipeline(tsv_path, output_path):\n",
    "    source_texts, reference_texts = read_tsv(tsv_path)\n",
    "\n",
    "    translated_texts = translate_texts(source_texts)\n",
    "\n",
    "    bleu_score = calculate_bleu(translated_texts, reference_texts)\n",
    "    print(f\"BLEU score: {bleu_score}\")\n",
    "\n",
    "    rouge_scores = calculate_rouge(translated_texts, reference_texts)\n",
    "    print(f\"ROUGE scores: {rouge_scores}\")\n",
    "\n",
    "    meteor_score_avg = calculate_meteor(translated_texts, reference_texts)\n",
    "    print(f\"Average METEOR score: {meteor_score_avg}\")\n",
    "\n",
    "    save_results(output_path, source_texts, translated_texts, reference_texts)\n",
    "    print(f\"Results saved to {output_path}\")"
   ]
  },
  {
   "cell_type": "code",
   "execution_count": 7,
   "metadata": {
    "execution": {
     "iopub.execute_input": "2024-12-12T15:25:20.762566Z",
     "iopub.status.busy": "2024-12-12T15:25:20.761767Z",
     "iopub.status.idle": "2024-12-12T15:26:14.103828Z",
     "shell.execute_reply": "2024-12-12T15:26:14.102981Z",
     "shell.execute_reply.started": "2024-12-12T15:25:20.762535Z"
    },
    "trusted": true
   },
   "outputs": [
    {
     "name": "stderr",
     "output_type": "stream",
     "text": [
      "/opt/conda/lib/python3.10/site-packages/transformers/models/marian/tokenization_marian.py:175: UserWarning: Recommended: pip install sacremoses.\n",
      "  warnings.warn(\"Recommended: pip install sacremoses.\")\n"
     ]
    },
    {
     "name": "stdout",
     "output_type": "stream",
     "text": [
      "BLEU score: 0.3726958828584083\n",
      "ROUGE scores: {'rouge1': 0.7453659338693679, 'rouge2': 0.5548548123860473, 'rougeL': 0.6957350950510507}\n",
      "Average METEOR score: 0.599388257827987\n",
      "Results saved to results.tsv\n"
     ]
    }
   ],
   "source": [
    "if __name__ == \"__main__\":\n",
    "    tsv_path = \"../../data/OurDataEn-Vi/test.txt\"\n",
    "    output_path = \"results.tsv\"\n",
    "    main_pipeline(tsv_path, output_path)"
   ]
  },
  {
   "cell_type": "code",
   "execution_count": null,
   "metadata": {
    "trusted": true
   },
   "outputs": [],
   "source": []
  }
 ],
 "metadata": {
  "kaggle": {
   "accelerator": "gpu",
   "dataSources": [
    {
     "datasetId": 6289798,
     "sourceId": 10182071,
     "sourceType": "datasetVersion"
    }
   ],
   "dockerImageVersionId": 30805,
   "isGpuEnabled": true,
   "isInternetEnabled": true,
   "language": "python",
   "sourceType": "notebook"
  },
  "kernelspec": {
   "display_name": "Python 3",
   "language": "python",
   "name": "python3"
  },
  "language_info": {
   "codemirror_mode": {
    "name": "ipython",
    "version": 3
   },
   "file_extension": ".py",
   "mimetype": "text/x-python",
   "name": "python",
   "nbconvert_exporter": "python",
   "pygments_lexer": "ipython3",
   "version": "3.10.14"
  }
 },
 "nbformat": 4,
 "nbformat_minor": 4
}
