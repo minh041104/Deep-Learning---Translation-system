{
 "cells": [
  {
   "cell_type": "code",
   "execution_count": 2,
   "metadata": {
    "_cell_guid": "b1076dfc-b9ad-4769-8c92-a6c4dae69d19",
    "_uuid": "8f2839f25d086af736a60e9eeb907d3b93b6e0e5",
    "execution": {
     "iopub.execute_input": "2024-12-13T09:04:13.714885Z",
     "iopub.status.busy": "2024-12-13T09:04:13.714595Z",
     "iopub.status.idle": "2024-12-13T09:04:32.340215Z",
     "shell.execute_reply": "2024-12-13T09:04:32.339190Z",
     "shell.execute_reply.started": "2024-12-13T09:04:13.714859Z"
    },
    "trusted": true
   },
   "outputs": [],
   "source": [
    "from transformers import MarianTokenizer, MarianMTModel, DataCollatorForSeq2Seq, Trainer, TrainingArguments\n",
    "import pandas as pd\n",
    "from datasets import Dataset\n",
    "\n",
    "train_data = pd.read_csv('../../data/OurDataEn-Vi/train.txt', sep='\\t')\n",
    "val_data = pd.read_csv('../../data/OurDataEn-Vi/validation.txt', sep='\\t')\n",
    "test_data = pd.read_csv('../../data/OurDataEn-Vi/test.txt', sep='\\t')\n",
    "\n",
    "train_data.columns = ['input_text', 'target_text']\n",
    "val_data.columns = ['input_text', 'target_text']\n",
    "test_data.columns = ['input_text', 'target_text']\n"
   ]
  },
  {
   "cell_type": "code",
   "execution_count": 3,
   "metadata": {
    "execution": {
     "iopub.execute_input": "2024-12-13T09:04:32.341778Z",
     "iopub.status.busy": "2024-12-13T09:04:32.341475Z",
     "iopub.status.idle": "2024-12-13T09:04:32.430978Z",
     "shell.execute_reply": "2024-12-13T09:04:32.430176Z",
     "shell.execute_reply.started": "2024-12-13T09:04:32.341750Z"
    },
    "trusted": true
   },
   "outputs": [],
   "source": [
    "train_dataset = Dataset.from_pandas(train_data)\n",
    "val_dataset = Dataset.from_pandas(val_data)\n",
    "test_dataset = Dataset.from_pandas(test_data)"
   ]
  },
  {
   "cell_type": "code",
   "execution_count": null,
   "metadata": {
    "execution": {
     "iopub.execute_input": "2024-12-13T09:04:32.432337Z",
     "iopub.status.busy": "2024-12-13T09:04:32.432045Z",
     "iopub.status.idle": "2024-12-13T09:04:40.629628Z",
     "shell.execute_reply": "2024-12-13T09:04:40.628754Z",
     "shell.execute_reply.started": "2024-12-13T09:04:32.432311Z"
    },
    "trusted": true
   },
   "outputs": [],
   "source": [
    "tokenizer = MarianTokenizer.from_pretrained(\"Helsinki-NLP/opus-mt-en-vi\")\n",
    "\n",
    "def preprocess_function(examples):\n",
    "    model_inputs = tokenizer(examples['input_text'], max_length=64, truncation=True, padding=\"max_length\")\n",
    "    with tokenizer.as_target_tokenizer():\n",
    "        labels = tokenizer(examples['target_text'], max_length=64, truncation=True, padding=\"max_length\")\n",
    "    model_inputs[\"labels\"] = labels[\"input_ids\"]\n",
    "    return model_inputs\n",
    "\n",
    "train_dataset = train_dataset.map(preprocess_function, batched=True)\n",
    "val_dataset = val_dataset.map(preprocess_function, batched=True)\n",
    "test_dataset = test_dataset.map(preprocess_function, batched=True)"
   ]
  },
  {
   "cell_type": "code",
   "execution_count": null,
   "metadata": {
    "execution": {
     "iopub.execute_input": "2024-12-13T09:04:40.631688Z",
     "iopub.status.busy": "2024-12-13T09:04:40.631378Z",
     "iopub.status.idle": "2024-12-13T09:16:32.058053Z",
     "shell.execute_reply": "2024-12-13T09:16:32.057081Z",
     "shell.execute_reply.started": "2024-12-13T09:04:40.631659Z"
    },
    "trusted": true
   },
   "outputs": [],
   "source": [
    "model = MarianMTModel.from_pretrained(\"Helsinki-NLP/opus-mt-en-vi\").to('cuda')\n",
    "\n",
    "# Data collator\n",
    "data_collator = DataCollatorForSeq2Seq(tokenizer, model=model)\n",
    "\n",
    "# Training arguments\n",
    "training_args = TrainingArguments(\n",
    "    output_dir=\"./results\",\n",
    "    evaluation_strategy=\"epoch\",\n",
    "    learning_rate=5e-5,\n",
    "    per_device_train_batch_size=16,\n",
    "    per_device_eval_batch_size=16,\n",
    "    num_train_epochs=3,\n",
    "    weight_decay=0.01,\n",
    "    save_strategy=\"epoch\",\n",
    "    save_total_limit=3,\n",
    "    push_to_hub=False,\n",
    "    logging_dir='./logs',\n",
    "    logging_strategy=\"steps\",\n",
    "    logging_steps=50,\n",
    "    report_to=\"none\",\n",
    ")\n",
    "\n",
    "trainer = Trainer(\n",
    "    model=model,\n",
    "    args=training_args,\n",
    "    train_dataset=train_dataset,\n",
    "    eval_dataset=val_dataset,\n",
    "    tokenizer=tokenizer,\n",
    "    data_collator=data_collator,\n",
    ")\n",
    "\n",
    "# Huấn luyện\n",
    "trainer.train()\n"
   ]
  },
  {
   "cell_type": "code",
   "execution_count": 6,
   "metadata": {
    "execution": {
     "iopub.execute_input": "2024-12-13T09:16:32.059510Z",
     "iopub.status.busy": "2024-12-13T09:16:32.059231Z",
     "iopub.status.idle": "2024-12-13T09:19:12.030195Z",
     "shell.execute_reply": "2024-12-13T09:19:12.029233Z",
     "shell.execute_reply.started": "2024-12-13T09:16:32.059484Z"
    },
    "trusted": true
   },
   "outputs": [
    {
     "name": "stdout",
     "output_type": "stream",
     "text": [
      "BLEU score: 69.54124082131071\n"
     ]
    }
   ],
   "source": [
    "import sacrebleu\n",
    "from rouge_score import rouge_scorer\n",
    "from nltk.translate.meteor_score import meteor_score\n",
    "\n",
    "def generate_predictions(dataset):\n",
    "    predictions = []\n",
    "    for example in dataset:\n",
    "        input_ids = tokenizer(example['input_text'], return_tensors=\"pt\").input_ids.to('cuda')\n",
    "        output_ids = model.generate(input_ids, max_length=64, num_beams=4, early_stopping=True)\n",
    "        prediction = tokenizer.decode(output_ids[0], skip_special_tokens=True)\n",
    "        predictions.append(prediction)\n",
    "    return predictions\n",
    "    \n",
    "predictions = generate_predictions(test_dataset)\n",
    "references = test_dataset['target_text']\n",
    "\n",
    "def compute_bleu(predictions, references):\n",
    "    return sacrebleu.corpus_bleu(predictions, [references])\n",
    "\n",
    "bleu_score = compute_bleu(predictions, references)\n",
    "print(f\"BLEU score: {bleu_score.score}\")\n"
   ]
  },
  {
   "cell_type": "code",
   "execution_count": 7,
   "metadata": {
    "execution": {
     "iopub.execute_input": "2024-12-13T09:19:12.031838Z",
     "iopub.status.busy": "2024-12-13T09:19:12.031244Z",
     "iopub.status.idle": "2024-12-13T09:19:12.419143Z",
     "shell.execute_reply": "2024-12-13T09:19:12.418199Z",
     "shell.execute_reply.started": "2024-12-13T09:19:12.031808Z"
    },
    "trusted": true
   },
   "outputs": [
    {
     "name": "stdout",
     "output_type": "stream",
     "text": [
      "ROUGE scores: {'rouge1': 0.8931077620868283, 'rouge2': 0.8062295825556249, 'rougeL': 0.8757833053635277}\n"
     ]
    }
   ],
   "source": [
    "def compute_rouge(predictions, references):\n",
    "    scorer = rouge_scorer.RougeScorer(['rouge1', 'rouge2', 'rougeL'], use_stemmer=True)\n",
    "    rouge_scores = {'rouge1': [], 'rouge2': [], 'rougeL': []}\n",
    "    \n",
    "    for pred, ref in zip(predictions, references):\n",
    "        score = scorer.score(ref, pred)\n",
    "        for key in rouge_scores:\n",
    "            rouge_scores[key].append(score[key].fmeasure)\n",
    "    \n",
    "    avg_rouge_scores = {key: sum(value)/len(value) for key, value in rouge_scores.items()}\n",
    "    return avg_rouge_scores\n",
    "    \n",
    "rouge_scores = compute_rouge(predictions, references)\n",
    "print(f\"ROUGE scores: {rouge_scores}\")\n"
   ]
  },
  {
   "cell_type": "code",
   "execution_count": 8,
   "metadata": {
    "execution": {
     "iopub.execute_input": "2024-12-13T09:19:12.420453Z",
     "iopub.status.busy": "2024-12-13T09:19:12.420185Z",
     "iopub.status.idle": "2024-12-13T09:19:14.264698Z",
     "shell.execute_reply": "2024-12-13T09:19:14.263840Z",
     "shell.execute_reply.started": "2024-12-13T09:19:12.420428Z"
    },
    "trusted": true
   },
   "outputs": [
    {
     "name": "stdout",
     "output_type": "stream",
     "text": [
      "Average METEOR score: 0.8476562426106298\n"
     ]
    }
   ],
   "source": [
    "def calculate_meteor(translated_texts, reference_texts):\n",
    "    scores = [meteor_score([ref], trans) for ref, trans in zip(reference_texts, translated_texts)]\n",
    "    return sum(scores) / len(scores)\n",
    "\n",
    "meteor_score_avg = calculate_meteor(predictions, references)\n",
    "print(f\"Average METEOR score: {meteor_score_avg}\")\n"
   ]
  }
 ],
 "metadata": {
  "kaggle": {
   "accelerator": "nvidiaTeslaT4",
   "dataSources": [
    {
     "datasetId": 6289798,
     "sourceId": 10182071,
     "sourceType": "datasetVersion"
    },
    {
     "datasetId": 6294127,
     "sourceId": 10187888,
     "sourceType": "datasetVersion"
    },
    {
     "sourceId": 212714707,
     "sourceType": "kernelVersion"
    }
   ],
   "dockerImageVersionId": 30805,
   "isGpuEnabled": true,
   "isInternetEnabled": true,
   "language": "python",
   "sourceType": "notebook"
  },
  "kernelspec": {
   "display_name": "Python 3",
   "language": "python",
   "name": "python3"
  },
  "language_info": {
   "codemirror_mode": {
    "name": "ipython",
    "version": 3
   },
   "file_extension": ".py",
   "mimetype": "text/x-python",
   "name": "python",
   "nbconvert_exporter": "python",
   "pygments_lexer": "ipython3",
   "version": "3.10.14"
  }
 },
 "nbformat": 4,
 "nbformat_minor": 4
}
