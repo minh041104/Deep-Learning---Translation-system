{
 "cells": [
  {
   "cell_type": "code",
   "execution_count": 1,
   "metadata": {},
   "outputs": [
    {
     "name": "stdout",
     "output_type": "stream",
     "text": [
      "crawl bằng requests thất bại: Không đủ nội dung, chuyển sang phương pháp Selenium\n",
      "A tutorial on non-separable 2D convolutions in Vivado HLS – Basile Van Hoorick\n"
     ]
    }
   ],
   "source": [
    "from models.text_extractor import extract_text_from_url\n",
    "\n",
    "url = \"https://basile.be/2019/03/18/a-tutorial-on-non-separable-2d-convolutions-in-vivado-hls/\"\n",
    "text = extract_text_from_url(url)\n",
    "print(text)"
   ]
  }
 ],
 "metadata": {
  "kernelspec": {
   "display_name": ".venv",
   "language": "python",
   "name": "python3"
  },
  "language_info": {
   "codemirror_mode": {
    "name": "ipython",
    "version": 3
   },
   "file_extension": ".py",
   "mimetype": "text/x-python",
   "name": "python",
   "nbconvert_exporter": "python",
   "pygments_lexer": "ipython3",
   "version": "3.12.6"
  }
 },
 "nbformat": 4,
 "nbformat_minor": 2
}
